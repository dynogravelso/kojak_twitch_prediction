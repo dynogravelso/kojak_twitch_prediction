{
 "cells": [
  {
   "cell_type": "markdown",
   "metadata": {},
   "source": [
    "# data to collect\n",
    "got streaming data downloaded. good info\n",
    "need to estimate game budget. probably with developer team size * time(month) * 10000\n",
    "source: https://www.amazon.com/Blood-Sweat-Pixels-Triumphant-Turbulent-ebook/dp/B01NAKSWW1  \n",
    "scrape:\n",
    "review scores"
   ]
  },
  {
   "cell_type": "code",
   "execution_count": 1,
   "metadata": {},
   "outputs": [],
   "source": [
    "import pandas as pd\n",
    "import numpy as np\n",
    "import matplotlib.pyplot as plt\n",
    "import seaborn as sns\n",
    "import os\n",
    "from tqdm import tqdm\n",
    "import pprint\n",
    "pp = pprint.PrettyPrinter()\n",
    "from pymongo import MongoClient\n",
    "from datetime import datetime\n",
    "\n",
    "#import modules for web scraping\n",
    "from __future__ import print_function, division\n",
    "import requests\n",
    "from bs4 import BeautifulSoup\n",
    "import pickle"
   ]
  },
  {
   "cell_type": "code",
   "execution_count": 13,
   "metadata": {},
   "outputs": [
    {
     "data": {
      "text/html": [
       "<div>\n",
       "<style scoped>\n",
       "    .dataframe tbody tr th:only-of-type {\n",
       "        vertical-align: middle;\n",
       "    }\n",
       "\n",
       "    .dataframe tbody tr th {\n",
       "        vertical-align: top;\n",
       "    }\n",
       "\n",
       "    .dataframe thead th {\n",
       "        text-align: right;\n",
       "    }\n",
       "</style>\n",
       "<table border=\"1\" class=\"dataframe\">\n",
       "  <thead>\n",
       "    <tr style=\"text-align: right;\">\n",
       "      <th></th>\n",
       "      <th>current_views</th>\n",
       "      <th>stream_created_time</th>\n",
       "      <th>game_name</th>\n",
       "      <th>broadcaster_ID</th>\n",
       "      <th>broadcaster_name</th>\n",
       "      <th>delay_setting</th>\n",
       "      <th>follower_number</th>\n",
       "      <th>partner_status</th>\n",
       "      <th>broadcaster_language</th>\n",
       "      <th>total_views</th>\n",
       "      <th>language</th>\n",
       "      <th>broadcaster_created_time</th>\n",
       "      <th>playback_bitrate</th>\n",
       "      <th>source_resolution</th>\n",
       "    </tr>\n",
       "  </thead>\n",
       "  <tbody>\n",
       "    <tr>\n",
       "      <th>12932973168</th>\n",
       "      <td>34846</td>\n",
       "      <td>2015-02-01T02:48:25Z</td>\n",
       "      <td>Dota 2</td>\n",
       "      <td>29578325</td>\n",
       "      <td>beyondthesummit</td>\n",
       "      <td>-1</td>\n",
       "      <td>197236</td>\n",
       "      <td>True</td>\n",
       "      <td>en</td>\n",
       "      <td>197742366</td>\n",
       "      <td>en</td>\n",
       "      <td>2012-04-07T04:16:39Z</td>\n",
       "      <td>3247460</td>\n",
       "      <td>1600x900</td>\n",
       "    </tr>\n",
       "    <tr>\n",
       "      <th>12932549648</th>\n",
       "      <td>27293</td>\n",
       "      <td>2015-02-01T02:18:13Z</td>\n",
       "      <td>StarCraft II: Heart of the Swarm</td>\n",
       "      <td>30220059</td>\n",
       "      <td>esltv_sc2</td>\n",
       "      <td>-1</td>\n",
       "      <td>57446</td>\n",
       "      <td>True</td>\n",
       "      <td>en</td>\n",
       "      <td>49119702</td>\n",
       "      <td>en</td>\n",
       "      <td>2012-05-02T09:59:20Z</td>\n",
       "      <td>3172375</td>\n",
       "      <td>1920x1080</td>\n",
       "    </tr>\n",
       "  </tbody>\n",
       "</table>\n",
       "</div>"
      ],
      "text/plain": [
       "             current_views   stream_created_time  \\\n",
       "12932973168          34846  2015-02-01T02:48:25Z   \n",
       "12932549648          27293  2015-02-01T02:18:13Z   \n",
       "\n",
       "                                    game_name  broadcaster_ID  \\\n",
       "12932973168                            Dota 2        29578325   \n",
       "12932549648  StarCraft II: Heart of the Swarm        30220059   \n",
       "\n",
       "            broadcaster_name  delay_setting  follower_number partner_status  \\\n",
       "12932973168  beyondthesummit             -1           197236           True   \n",
       "12932549648        esltv_sc2             -1            57446           True   \n",
       "\n",
       "            broadcaster_language  total_views language  \\\n",
       "12932973168                   en    197742366       en   \n",
       "12932549648                   en     49119702       en   \n",
       "\n",
       "            broadcaster_created_time  playback_bitrate source_resolution  \n",
       "12932973168     2012-04-07T04:16:39Z           3247460          1600x900  \n",
       "12932549648     2012-05-02T09:59:20Z           3172375         1920x1080  "
      ]
     },
     "execution_count": 13,
     "metadata": {},
     "output_type": "execute_result"
    }
   ],
   "source": [
    "#load data\n",
    "columns = ['current_views', 'stream_created_time', 'game_name', 'broadcaster_ID', 'broadcaster_name', 'delay_setting', 'follower_number', 'partner_status', 'broadcaster_language', 'total_views', 'language', 'broadcaster_created_time', 'playback_bitrate', 'source_resolution', 'stream_ID']\n",
    "# for some reason it won't work without the index 'stream_ID' in the column list\n",
    "# columns = columns_0[1:]\n",
    "filename = 'Twitch_data' + '/all-2015-02-01-00-00-00.txt'\n",
    "df = pd.read_csv(filename, sep = '\\t', names = columns)\n",
    "# dropping NA 'stream_ID' column\n",
    "df = df.drop(columns = ['stream_ID'])\n",
    "df.head(2)"
   ]
  },
  {
   "cell_type": "code",
   "execution_count": 14,
   "metadata": {
    "scrolled": false
   },
   "outputs": [
    {
     "name": "stdout",
     "output_type": "stream",
     "text": [
      "<class 'pandas.core.frame.DataFrame'>\n",
      "Int64Index: 12497 entries, 12932973168 to 12821263376\n",
      "Data columns (total 14 columns):\n",
      "current_views               12497 non-null int64\n",
      "stream_created_time         12497 non-null object\n",
      "game_name                   12496 non-null object\n",
      "broadcaster_ID              12497 non-null int64\n",
      "broadcaster_name            12497 non-null object\n",
      "delay_setting               12497 non-null int64\n",
      "follower_number             12497 non-null int64\n",
      "partner_status              12497 non-null object\n",
      "broadcaster_language        12497 non-null object\n",
      "total_views                 12497 non-null int64\n",
      "language                    12497 non-null object\n",
      "broadcaster_created_time    12497 non-null object\n",
      "playback_bitrate            12497 non-null int64\n",
      "source_resolution           12497 non-null object\n",
      "dtypes: int64(6), object(8)\n",
      "memory usage: 1.4+ MB\n"
     ]
    }
   ],
   "source": [
    "df.info()"
   ]
  },
  {
   "cell_type": "code",
   "execution_count": 15,
   "metadata": {},
   "outputs": [
    {
     "data": {
      "text/html": [
       "<div>\n",
       "<style scoped>\n",
       "    .dataframe tbody tr th:only-of-type {\n",
       "        vertical-align: middle;\n",
       "    }\n",
       "\n",
       "    .dataframe tbody tr th {\n",
       "        vertical-align: top;\n",
       "    }\n",
       "\n",
       "    .dataframe thead th {\n",
       "        text-align: right;\n",
       "    }\n",
       "</style>\n",
       "<table border=\"1\" class=\"dataframe\">\n",
       "  <thead>\n",
       "    <tr style=\"text-align: right;\">\n",
       "      <th></th>\n",
       "      <th>current_views</th>\n",
       "      <th>broadcaster_ID</th>\n",
       "      <th>delay_setting</th>\n",
       "      <th>follower_number</th>\n",
       "      <th>total_views</th>\n",
       "      <th>playback_bitrate</th>\n",
       "    </tr>\n",
       "  </thead>\n",
       "  <tbody>\n",
       "    <tr>\n",
       "      <th>count</th>\n",
       "      <td>12497.000000</td>\n",
       "      <td>1.249700e+04</td>\n",
       "      <td>12497.000000</td>\n",
       "      <td>12497.000000</td>\n",
       "      <td>1.249700e+04</td>\n",
       "      <td>1.249700e+04</td>\n",
       "    </tr>\n",
       "    <tr>\n",
       "      <th>mean</th>\n",
       "      <td>36.953749</td>\n",
       "      <td>5.598837e+07</td>\n",
       "      <td>-0.888933</td>\n",
       "      <td>1491.847323</td>\n",
       "      <td>1.988539e+05</td>\n",
       "      <td>1.616170e+06</td>\n",
       "    </tr>\n",
       "    <tr>\n",
       "      <th>std</th>\n",
       "      <td>626.634179</td>\n",
       "      <td>1.938797e+07</td>\n",
       "      <td>5.823741</td>\n",
       "      <td>17425.689377</td>\n",
       "      <td>3.897521e+06</td>\n",
       "      <td>1.013808e+06</td>\n",
       "    </tr>\n",
       "    <tr>\n",
       "      <th>min</th>\n",
       "      <td>0.000000</td>\n",
       "      <td>1.251900e+04</td>\n",
       "      <td>-1.000000</td>\n",
       "      <td>-1.000000</td>\n",
       "      <td>-1.000000e+00</td>\n",
       "      <td>-1.000000e+00</td>\n",
       "    </tr>\n",
       "    <tr>\n",
       "      <th>25%</th>\n",
       "      <td>0.000000</td>\n",
       "      <td>4.181871e+07</td>\n",
       "      <td>-1.000000</td>\n",
       "      <td>2.000000</td>\n",
       "      <td>3.600000e+01</td>\n",
       "      <td>9.429140e+05</td>\n",
       "    </tr>\n",
       "    <tr>\n",
       "      <th>50%</th>\n",
       "      <td>1.000000</td>\n",
       "      <td>5.808455e+07</td>\n",
       "      <td>-1.000000</td>\n",
       "      <td>13.000000</td>\n",
       "      <td>3.080000e+02</td>\n",
       "      <td>1.470023e+06</td>\n",
       "    </tr>\n",
       "    <tr>\n",
       "      <th>75%</th>\n",
       "      <td>4.000000</td>\n",
       "      <td>7.397475e+07</td>\n",
       "      <td>-1.000000</td>\n",
       "      <td>111.000000</td>\n",
       "      <td>2.408000e+03</td>\n",
       "      <td>2.281976e+06</td>\n",
       "    </tr>\n",
       "    <tr>\n",
       "      <th>max</th>\n",
       "      <td>34846.000000</td>\n",
       "      <td>8.150591e+07</td>\n",
       "      <td>540.000000</td>\n",
       "      <td>741293.000000</td>\n",
       "      <td>2.375675e+08</td>\n",
       "      <td>1.929220e+07</td>\n",
       "    </tr>\n",
       "  </tbody>\n",
       "</table>\n",
       "</div>"
      ],
      "text/plain": [
       "       current_views  broadcaster_ID  delay_setting  follower_number  \\\n",
       "count   12497.000000    1.249700e+04   12497.000000     12497.000000   \n",
       "mean       36.953749    5.598837e+07      -0.888933      1491.847323   \n",
       "std       626.634179    1.938797e+07       5.823741     17425.689377   \n",
       "min         0.000000    1.251900e+04      -1.000000        -1.000000   \n",
       "25%         0.000000    4.181871e+07      -1.000000         2.000000   \n",
       "50%         1.000000    5.808455e+07      -1.000000        13.000000   \n",
       "75%         4.000000    7.397475e+07      -1.000000       111.000000   \n",
       "max     34846.000000    8.150591e+07     540.000000    741293.000000   \n",
       "\n",
       "        total_views  playback_bitrate  \n",
       "count  1.249700e+04      1.249700e+04  \n",
       "mean   1.988539e+05      1.616170e+06  \n",
       "std    3.897521e+06      1.013808e+06  \n",
       "min   -1.000000e+00     -1.000000e+00  \n",
       "25%    3.600000e+01      9.429140e+05  \n",
       "50%    3.080000e+02      1.470023e+06  \n",
       "75%    2.408000e+03      2.281976e+06  \n",
       "max    2.375675e+08      1.929220e+07  "
      ]
     },
     "execution_count": 15,
     "metadata": {},
     "output_type": "execute_result"
    }
   ],
   "source": [
    "df.describe()\n",
    "#wow nice dense matrix"
   ]
  },
  {
   "cell_type": "code",
   "execution_count": 16,
   "metadata": {},
   "outputs": [
    {
     "data": {
      "text/html": [
       "<div>\n",
       "<style scoped>\n",
       "    .dataframe tbody tr th:only-of-type {\n",
       "        vertical-align: middle;\n",
       "    }\n",
       "\n",
       "    .dataframe tbody tr th {\n",
       "        vertical-align: top;\n",
       "    }\n",
       "\n",
       "    .dataframe thead th {\n",
       "        text-align: right;\n",
       "    }\n",
       "</style>\n",
       "<table border=\"1\" class=\"dataframe\">\n",
       "  <thead>\n",
       "    <tr style=\"text-align: right;\">\n",
       "      <th></th>\n",
       "      <th>broadcaster_name</th>\n",
       "      <th>game_name</th>\n",
       "      <th>total_views</th>\n",
       "      <th>language</th>\n",
       "    </tr>\n",
       "  </thead>\n",
       "  <tbody>\n",
       "    <tr>\n",
       "      <th>12932994272</th>\n",
       "      <td>starladder1</td>\n",
       "      <td>Dota 2</td>\n",
       "      <td>237567455</td>\n",
       "      <td>en</td>\n",
       "    </tr>\n",
       "    <tr>\n",
       "      <th>12932973168</th>\n",
       "      <td>beyondthesummit</td>\n",
       "      <td>Dota 2</td>\n",
       "      <td>197742366</td>\n",
       "      <td>en</td>\n",
       "    </tr>\n",
       "    <tr>\n",
       "      <th>12934563536</th>\n",
       "      <td>tsm_theoddone</td>\n",
       "      <td>XCOM: Enemy Within</td>\n",
       "      <td>171323063</td>\n",
       "      <td>en</td>\n",
       "    </tr>\n",
       "    <tr>\n",
       "      <th>12935159760</th>\n",
       "      <td>nl_kripp</td>\n",
       "      <td>Hearthstone: Heroes of Warcraft</td>\n",
       "      <td>102532780</td>\n",
       "      <td>en</td>\n",
       "    </tr>\n",
       "    <tr>\n",
       "      <th>12932696784</th>\n",
       "      <td>taketv</td>\n",
       "      <td>StarCraft II: Heart of the Swarm</td>\n",
       "      <td>83006063</td>\n",
       "      <td>de</td>\n",
       "    </tr>\n",
       "    <tr>\n",
       "      <th>12931574736</th>\n",
       "      <td>trick2g</td>\n",
       "      <td>League of Legends</td>\n",
       "      <td>79838633</td>\n",
       "      <td>en</td>\n",
       "    </tr>\n",
       "    <tr>\n",
       "      <th>12932512416</th>\n",
       "      <td>phantoml0rd</td>\n",
       "      <td>Counter-Strike: Global Offensive</td>\n",
       "      <td>74547798</td>\n",
       "      <td>en</td>\n",
       "    </tr>\n",
       "    <tr>\n",
       "      <th>12929261344</th>\n",
       "      <td>versuta</td>\n",
       "      <td>Dota 2</td>\n",
       "      <td>69994374</td>\n",
       "      <td>ru</td>\n",
       "    </tr>\n",
       "    <tr>\n",
       "      <th>12936030864</th>\n",
       "      <td>voyboy</td>\n",
       "      <td>League of Legends</td>\n",
       "      <td>65616654</td>\n",
       "      <td>en</td>\n",
       "    </tr>\n",
       "    <tr>\n",
       "      <th>12932549648</th>\n",
       "      <td>esltv_sc2</td>\n",
       "      <td>StarCraft II: Heart of the Swarm</td>\n",
       "      <td>49119702</td>\n",
       "      <td>en</td>\n",
       "    </tr>\n",
       "  </tbody>\n",
       "</table>\n",
       "</div>"
      ],
      "text/plain": [
       "            broadcaster_name                         game_name  total_views  \\\n",
       "12932994272      starladder1                            Dota 2    237567455   \n",
       "12932973168  beyondthesummit                            Dota 2    197742366   \n",
       "12934563536    tsm_theoddone                XCOM: Enemy Within    171323063   \n",
       "12935159760         nl_kripp   Hearthstone: Heroes of Warcraft    102532780   \n",
       "12932696784           taketv  StarCraft II: Heart of the Swarm     83006063   \n",
       "12931574736          trick2g                 League of Legends     79838633   \n",
       "12932512416      phantoml0rd  Counter-Strike: Global Offensive     74547798   \n",
       "12929261344          versuta                            Dota 2     69994374   \n",
       "12936030864           voyboy                 League of Legends     65616654   \n",
       "12932549648        esltv_sc2  StarCraft II: Heart of the Swarm     49119702   \n",
       "\n",
       "            language  \n",
       "12932994272       en  \n",
       "12932973168       en  \n",
       "12934563536       en  \n",
       "12935159760       en  \n",
       "12932696784       de  \n",
       "12931574736       en  \n",
       "12932512416       en  \n",
       "12929261344       ru  \n",
       "12936030864       en  \n",
       "12932549648       en  "
      ]
     },
     "execution_count": 16,
     "metadata": {},
     "output_type": "execute_result"
    }
   ],
   "source": [
    "df.sort_values(by = 'total_views', ascending = False).head(10)[['broadcaster_name', 'game_name', 'total_views', 'language']]"
   ]
  },
  {
   "cell_type": "code",
   "execution_count": null,
   "metadata": {},
   "outputs": [],
   "source": [
    "d = df.to_dict('index')\n",
    "for key in d:\n",
    "    d[key]['stream_ID'] = key\n",
    "    print(d[key])\n",
    "    # insert into Mongo\n",
    "print(d)"
   ]
  },
  {
   "cell_type": "code",
   "execution_count": 6,
   "metadata": {},
   "outputs": [],
   "source": [
    "# only concerned with top 10 games, gathered from annual twitch perspective, https://www.twitch.tv/year/2015/\n",
    "game_list = [\n",
    "'League of Legends', \n",
    "'Counter-Strike', \n",
    "'Dota 2',\n",
    "'Hearthstone',\n",
    "'Minecraft',\n",
    "'H1Z1',\n",
    "'Destiny',\n",
    "'World of Tanks',\n",
    "'World of Warcraft',\n",
    "'FIFA 15'\n",
    "]"
   ]
  },
  {
   "cell_type": "code",
   "execution_count": 2,
   "metadata": {},
   "outputs": [],
   "source": [
    "df_list = []"
   ]
  },
  {
   "cell_type": "code",
   "execution_count": 3,
   "metadata": {},
   "outputs": [],
   "source": [
    "client = MongoClient('localhost', 27017)"
   ]
  },
  {
   "cell_type": "code",
   "execution_count": null,
   "metadata": {},
   "outputs": [],
   "source": [
    "client.list_database_names()"
   ]
  },
  {
   "cell_type": "code",
   "execution_count": 6,
   "metadata": {},
   "outputs": [],
   "source": [
    "twitch_db = client['twitch_database']\n",
    "twitch_collection = twitch_db.all_data"
   ]
  },
  {
   "cell_type": "code",
   "execution_count": 7,
   "metadata": {},
   "outputs": [],
   "source": [
    "client.drop_database('twitter_database')"
   ]
  },
  {
   "cell_type": "code",
   "execution_count": null,
   "metadata": {},
   "outputs": [
    {
     "name": "stderr",
     "output_type": "stream",
     "text": [
      "  0%|          | 6/9228 [03:18<89:14:29, 34.84s/it] "
     ]
    },
    {
     "name": "stdout",
     "output_type": "stream",
     "text": [
      "Twitch_data/all-2015-02-04-08-15-00.txt\n"
     ]
    },
    {
     "name": "stderr",
     "output_type": "stream",
     "text": [
      "  0%|          | 44/9228 [18:34<64:35:01, 25.32s/it] "
     ]
    }
   ],
   "source": [
    "columns = ['current_views', 'stream_created_time', 'game_name', 'broadcaster_ID', 'broadcaster_name', 'delay_setting', 'follower_number', 'partner_status', 'broadcaster_language', 'total_views', 'language', 'broadcaster_created_time', 'playback_bitrate', 'source_resolution', 'stream_ID']\n",
    "# let's see if this works first\n",
    "# put everything into mongo\n",
    "file_list = os.listdir(path='Twitch_data')[1:]\n",
    "df_list = []\n",
    "master_df = pd.DataFrame()\n",
    "for filename in tqdm(file_list[1000:]):\n",
    "    time = filename\n",
    "    filename = 'Twitch_data/' + filename\n",
    "    try:\n",
    "        df = pd.read_csv(filename, sep = '\\t', names = columns)\n",
    "        df = df.drop(columns = ['stream_ID'])\n",
    "        d = df.to_dict('index')\n",
    "        f = '%Y-%m-%d-%H-%M-%S'\n",
    "        time = datetime.strptime(time[4:-4], f)\n",
    "        for key in d:\n",
    "            d[key]['stream_ID'] = key\n",
    "            d[key]['time'] = time\n",
    "            # insert into Mongo\n",
    "            twitch_collection.insert_one(d[key])\n",
    "    except:\n",
    "        print(filename)\n",
    "        "
   ]
  },
  {
   "cell_type": "code",
   "execution_count": 103,
   "metadata": {},
   "outputs": [
    {
     "name": "stdout",
     "output_type": "stream",
     "text": [
      "<class 'pandas.core.frame.DataFrame'>\n",
      "Int64Index: 753 entries, 12932973168 to 12983679024\n",
      "Data columns (total 14 columns):\n",
      "current_views               753 non-null object\n",
      "stream_created_time         753 non-null object\n",
      "game_name                   753 non-null object\n",
      "broadcaster_ID              753 non-null object\n",
      "broadcaster_name            753 non-null object\n",
      "delay_setting               753 non-null object\n",
      "follower_number             753 non-null object\n",
      "partner_status              753 non-null object\n",
      "broadcaster_language        753 non-null object\n",
      "total_views                 753 non-null object\n",
      "language                    753 non-null object\n",
      "broadcaster_created_time    753 non-null object\n",
      "playback_bitrate            753 non-null object\n",
      "source_resolution           753 non-null object\n",
      "dtypes: object(14)\n",
      "memory usage: 88.2+ KB\n"
     ]
    }
   ],
   "source": [
    "# checking out just beyondthesummit\n",
    "sample_streamer_df = master_df[master_df.broadcaster_ID == 29578325]\n",
    "sample_streamer_df.info()"
   ]
  },
  {
   "cell_type": "code",
   "execution_count": 106,
   "metadata": {},
   "outputs": [
    {
     "data": {
      "text/plain": [
       "12932973168    34846\n",
       "12932973168    41662\n",
       "12932973168    28948\n",
       "12932973168    29816\n",
       "12932973168    24613\n",
       "12932973168    26989\n",
       "12932973168    24907\n",
       "12932973168    26243\n",
       "12932973168    28627\n",
       "12932973168    31900\n",
       "12932973168    36021\n",
       "12932973168    38553\n",
       "12932973168    41141\n",
       "12932973168    43448\n",
       "12932973168    45137\n",
       "12932973168    46591\n",
       "12932973168    35436\n",
       "12932973168    30498\n",
       "12932973168    28087\n",
       "12932973168    29713\n",
       "12932973168    30787\n",
       "12932973168    29899\n",
       "12932973168    27100\n",
       "12932973168    22306\n",
       "12932973168    25090\n",
       "12932973168    25031\n",
       "12932973168    26640\n",
       "12932973168    26633\n",
       "12932973168    23619\n",
       "12932973168    29043\n",
       "               ...  \n",
       "12932973168    58966\n",
       "12932973168    60404\n",
       "12932973168    62471\n",
       "12932973168    64098\n",
       "12932973168    65103\n",
       "12932973168    66025\n",
       "12932973168    68022\n",
       "12932973168    69226\n",
       "12932973168    45028\n",
       "12932973168    39993\n",
       "12932973168    35572\n",
       "12932973168    36444\n",
       "12932973168    37613\n",
       "12932973168    39129\n",
       "12932973168    33878\n",
       "12932973168    42699\n",
       "12932973168    46804\n",
       "12932973168    49632\n",
       "12932973168    51950\n",
       "12932973168    53996\n",
       "12932973168    56657\n",
       "12932973168    57539\n",
       "12932973168    56850\n",
       "12932973168    57259\n",
       "12932973168    57570\n",
       "12932973168    58111\n",
       "12932973168    42574\n",
       "12932973168    37357\n",
       "12932973168    32575\n",
       "12932973168    25388\n",
       "Name: current_views, Length: 99, dtype: object"
      ]
     },
     "execution_count": 106,
     "metadata": {},
     "output_type": "execute_result"
    }
   ],
   "source": [
    "sample_stream_viewers = sample_streamer_df[sample_streamer_df.stream_created_time == '2015-02-01T02:48:25Z']['current_views']\n",
    "plt.plot()"
   ]
  },
  {
   "cell_type": "code",
   "execution_count": 102,
   "metadata": {},
   "outputs": [
    {
     "name": "stdout",
     "output_type": "stream",
     "text": [
      "<class 'pandas.core.frame.DataFrame'>\n",
      "Int64Index: 12610739 entries, 12932973168 to 12749764544\n",
      "Data columns (total 14 columns):\n",
      "current_views               object\n",
      "stream_created_time         object\n",
      "game_name                   object\n",
      "broadcaster_ID              object\n",
      "broadcaster_name            object\n",
      "delay_setting               object\n",
      "follower_number             object\n",
      "partner_status              object\n",
      "broadcaster_language        object\n",
      "total_views                 object\n",
      "language                    object\n",
      "broadcaster_created_time    object\n",
      "playback_bitrate            object\n",
      "source_resolution           object\n",
      "dtypes: object(14)\n",
      "memory usage: 1.4+ GB\n"
     ]
    }
   ],
   "source": [
    "master_df.info()"
   ]
  },
  {
   "cell_type": "code",
   "execution_count": 83,
   "metadata": {},
   "outputs": [],
   "source": [
    "import requests\n",
    "import json"
   ]
  },
  {
   "cell_type": "code",
   "execution_count": 101,
   "metadata": {},
   "outputs": [
    {
     "name": "stdout",
     "output_type": "stream",
     "text": [
      "200\n",
      "{\"data\":[{\"id\":\"29578325\",\"login\":\"beyondthesummit\",\"display_name\":\"BeyondTheSummit\",\"type\":\"\",\"broadcaster_type\":\"partner\",\"description\":\"Beyond The Summit is a broadcasting studio and tournament organizer for a variety of esports titles (including Dota 2, SSBM, CS:GO, \\u0026 DBFZ). Following and subscribing enables us to continue to create unique content and host amazing events like The Summit. Thank you for your support!\",\"profile_image_url\":\"https://static-cdn.jtvnw.net/jtv_user_pictures/f170344d-7a60-47fa-8be6-a74e803fcf12-profile_image-300x300.jpg\",\"offline_image_url\":\"https://static-cdn.jtvnw.net/jtv_user_pictures/f2633bad60b61448-channel_offline_image-1920x1080.jpeg\",\"view_count\":374545384}]}\n"
     ]
    }
   ],
   "source": [
    "headers = {\n",
    "    'Client-ID': 'c4gzslb0s9s2yevfvq5xtfr0y4k1gs',\n",
    "}\n",
    "\n",
    "params = (\n",
    "    ('id', '29578325'),\n",
    "    \n",
    ")\n",
    "\n",
    "url_user = 'https://api.twitch.tv/helix/users'\n",
    "url_game = 'https://api.twitch.tv/helix/games'\n",
    "\n",
    "response = requests.get(url_user, headers=headers, params=params)\n",
    "print(response.status_code)\n",
    "print(response.text)"
   ]
  },
  {
   "cell_type": "code",
   "execution_count": 21,
   "metadata": {},
   "outputs": [],
   "source": [
    "#could try dask with this huge dataset, 5gb after zip or just somehow select part of the data\n",
    "# Will put the files into Mongo in AWS instead, worry about dask or spark later\n",
    "# import dask.dataframe as dd"
   ]
  },
  {
   "cell_type": "code",
   "execution_count": 3,
   "metadata": {},
   "outputs": [],
   "source": [
    "# starting to scrape data here, try to write code here now can deal with using aws to scrape later\n",
    "# test scrape from twitch\n",
    "test_url = 'https://www.twitch.tv/c9sneaky'\n",
    "response = requests.get(test_url)"
   ]
  },
  {
   "cell_type": "code",
   "execution_count": 4,
   "metadata": {},
   "outputs": [
    {
     "data": {
      "text/plain": [
       "200"
      ]
     },
     "execution_count": 4,
     "metadata": {},
     "output_type": "execute_result"
    }
   ],
   "source": [
    "response.status_code"
   ]
  },
  {
   "cell_type": "code",
   "execution_count": 6,
   "metadata": {},
   "outputs": [],
   "source": [
    "page = response.text"
   ]
  },
  {
   "cell_type": "code",
   "execution_count": 7,
   "metadata": {},
   "outputs": [],
   "source": [
    "soup = BeautifulSoup(page,\"lxml\")"
   ]
  },
  {
   "cell_type": "code",
   "execution_count": 8,
   "metadata": {
    "scrolled": true
   },
   "outputs": [
    {
     "name": "stdout",
     "output_type": "stream",
     "text": [
      "<!DOCTYPE html>\n",
      "<html>\n",
      " <head>\n",
      "  <meta charset=\"utf-8\"/>\n",
      "  <title>\n",
      "   Twitch\n",
      "  </title>\n",
      "  <meta content=\"Twitch\" property=\"og:site_name\"/>\n",
      "  <meta content=\"161273083968709\" property=\"fb:app_id\"/>\n",
      "  <meta content=\"@twitch\" property=\"twitter:site\"/>\n",
      "  <meta content=\"Twitch\" property=\"og:title\"/>\n",
      "  <meta content=\"Twitch is the world's leading video platform and community for gamers.\" property=\"og:description\"/>\n",
      "  <meta content=\"//www-cdn.jtvnw.net/images/twitch_logo3.jpg\" property=\"og:image\"/>\n",
      "  <meta content=\"https://www.twitch.tv/c9sneaky\" property=\"og:url\"/>\n",
      "  <meta content=\"website\" property=\"og:type\"/>\n",
      "  <link href=\"https://static.twitchcdn.net/assets/favicon-75270f9df2b07174c23c.ico\" rel=\"icon\"/>\n",
      "  <link href=\"https://api.twitch.tv/\" rel=\"dns-prefetch\"/>\n",
      "  <link href=\"https://gql.twitch.tv/\" rel=\"dns-prefetch\"/>\n",
      "  <link href=\"https://cvp.twitch.tv/\" rel=\"dns-prefetch\"/>\n",
      "  <link href=\"https://irc-ws.chat.twitch.tv/\" rel=\"dns-prefetch\"/>\n",
      "  <link href=\"https://passport.twitch.tv/\" rel=\"dns-prefetch\"/>\n",
      "  <link href=\"https://player.twitch.tv/\" rel=\"dns-prefetch\"/>\n",
      "  <link href=\"https://pubsub-edge.twitch.tv/\" rel=\"dns-prefetch\"/>\n",
      "  <link href=\"https://static-cdn.jtvnw.net/\" rel=\"dns-prefetch\"/>\n",
      "  <link href=\"https://static.twitchcdn.net/\" rel=\"dns-prefetch\"/>\n",
      "  <link href=\"https://api.twitch.tv/\" rel=\"preconnect\"/>\n",
      "  <link href=\"https://gql.twitch.tv/\" rel=\"preconnect\"/>\n",
      "  <link href=\"https://player.twitch.tv/\" rel=\"preconnect\"/>\n",
      "  <link href=\"https://static-cdn.jtvnw.net/\" rel=\"preconnect\"/>\n",
      "  <link href=\"https://static.twitchcdn.net/\" rel=\"preconnect\"/>\n",
      "  <link href=\"https://cvp.twitch.tv/\" rel=\"preconnect\"/>\n",
      " </head>\n",
      " <body class=\"tw-root--hover\">\n",
      "  <div class=\"root\" id=\"root\">\n",
      "   <style>\n",
      "    html{font-size:62.5%}body{font-size:1.2rem}.root,body,html{margin:0;overflow:hidden;width:100%;height:100%;display:-webkit-box;display:-ms-flexbox;display:flex;-ms-flex-direction:column;flex-direction:column;position:relative}.shell-nav{background:#4b367c;height:5rem;width:100%;position:absolute;display:-webkit-box;display:-ms-flexbox;display:flex;-webkit-box-align:stretch;-ms-flex-align:stretch;align-items:stretch}html.desktop-login .shell-nav{display:none}.shell-nav__logo{padding:1rem;display:inline-block;margin:0}.shell-nav__link{padding:1rem;display:-webkit-box;display:-ms-flexbox;display:flex;-webkit-box-pack:center;-ms-flex-pack:center;justify-content:center;-webkit-box-align:center;-ms-flex-align:center;align-items:center}.shell-nav__link::after{content:'';height:.4rem;background:rgba(255,255,255,.2);border-radius:2px}.shell-nav__link--browse::after{width:4.7rem}.shell-nav__link--follow::after{width:6rem}.shell-nav__link--get-desktop::after{width:7.9rem}.shell-nav__link--follow{display:none}.shell-logged-in .shell-nav__link--follow{display:-webkit-box;display:-ms-flexbox;display:flex}.shell-nav__ellipsis{width:5rem;display:-webkit-box;display:-ms-flexbox;display:flex;-webkit-box-pack:center;-ms-flex-pack:center;justify-content:center;-webkit-box-align:center;-ms-flex-align:center;align-items:center}.shell__svg--navmore{fill:rgba(255,255,255,.4);height:2rem}.shell-nav__search-container{-webkit-box-flex:1;-ms-flex-positive:1;flex-grow:1;display:-webkit-box;display:-ms-flexbox;display:flex;-webkit-box-align:center;-ms-flex-align:center;align-items:center}.shell-nav__search{width:100%;max-width:40rem;height:3rem;margin:0 1rem;background:rgba(255,255,255,.4);border-radius:2px}.shell-nav__user-card{width:24rem;display:none;-webkit-box-align:center;-ms-flex-align:center;align-items:center;padding-right:1rem;box-sizing:border-box}.shell-logged-in .shell-nav__user-card{display:-webkit-box;display:-ms-flexbox;display:flex}.shell-nav__user-card-avatar{margin:0 1rem;width:3rem;height:3rem;background:rgba(255,255,255,.2);-ms-flex-negative:0;flex-shrink:0;border-radius:2px}.shell-nav__user-card-copy-container{display:-webkit-box;display:-ms-flexbox;display:flex;-webkit-box-flex:1;-ms-flex-positive:1;flex-grow:1;-webkit-box-orient:vertical;-webkit-box-direction:normal;-ms-flex-direction:column;flex-direction:column}.shell-nav__user-card-username{width:8rem;height:.4rem;background:rgba(255,255,255,.2);margin:.5rem 0;border-radius:2px}.shell-nav__user-card-status{display:-webkit-box;display:-ms-flexbox;display:flex;-webkit-box-align:center;-ms-flex-align:center;align-items:center}.shell-nav__user-card-status-copy{width:4rem;height:.4rem;background:rgba(255,255,255,.2);margin:.5rem 0;border-radius:2px}.shell-nav__user-card-arrow{display:-webkit-box;display:-ms-flexbox;display:flex;-ms-flex-negative:0;flex-shrink:0;-webkit-box-align:center;-ms-flex-align:center;align-items:center}.shell-nav__user-card-arrow-svg{fill:rgba(255,255,255,.2);margin:0;width:2rem;height:2rem}.shell-nav__user-auth{display:-webkit-box;display:-ms-flexbox;display:flex;-webkit-box-align:center;-ms-flex-align:center;align-items:center}.shell-logged-in .shell-nav__user-auth{display:none}.shell-nav__user-auth-button{display:-webkit-box;display:-ms-flexbox;display:flex;-webkit-box-align:center;-ms-flex-align:center;align-items:center;-webkit-box-pack:center;-ms-flex-pack:center;justify-content:center;background:rgba(255,255,255,.1);height:3rem;margin-right:1rem;padding:.8rem;box-sizing:border-box;border-radius:2px}.shell-nav__user-auth-button--login{width:5.1rem}.shell-nav__user-auth-button--singup{width:5.9rem}.shell-nav__user-auth-button::after{content:'';width:100%;height:.4rem;border-radius:3px;background:rgba(255,255,255,.1);display:block}.shell-loader{width:100%;height:100%;display:-webkit-box;display:-ms-flexbox;display:flex;opacity:0;-webkit-box-pack:center;-ms-flex-pack:center;justify-content:center;-webkit-box-align:center;-ms-flex-align:center;align-items:center;padding-top:5rem;box-sizing:border-box;-webkit-animation:shell-display .1s linear;animation:shell-display .1s linear;-webkit-animation-delay:.3s;animation-delay:.3s;-webkit-animation-fill-mode:forwards;animation-fill-mode:forwards;overflow:hidden}html.desktop-login .shell-loader{padding-top:0;padding-bottom:1rem}.shell-loader__spinner{display:inline-block;width:2.2rem;height:2.2rem;margin:0 auto;padding:0;border-top:2px solid rgba(0,0,0,.15);border-right:2px solid rgba(0,0,0,.15);border-bottom:2px solid rgba(0,0,0,.15);border-left:2px solid #19171c;-webkit-animation:shell-loading-spinner .5s infinite linear;animation:shell-loading-spinner .5s infinite linear;border-radius:50%;box-sizing:border-box}@media screen and (max-width:1023px){.shell-nav__link--get-desktop,.shell-nav__search{display:none}}@media screen and (max-width:767px){.shell-nav__user-card-copy-container{display:none}.shell-nav__user-card{width:8rem}}@-webkit-keyframes shell-loading-spinner{100%{-webkit-transform:rotate(360deg);transform:rotate(360deg)}}@keyframes shell-loading-spinner{100%{-webkit-transform:rotate(360deg);transform:rotate(360deg)}}@-webkit-keyframes shell-display{0%{opacity:0}100%{opacity:1}}@keyframes shell-display{0%{opacity:0}100%{opacity:1}}\n",
      "   </style>\n",
      "   <div class=\"shell-nav\">\n",
      "    <script>\n",
      "     -1!==document.cookie.indexOf(\"twilight-user\")||-1!==document.cookie.indexOf(\"twilight-auth\")?document.querySelector(\".shell-nav\").classList.add(\"shell-logged-in\"):window.__twitchIntegrations&&window.__twitchIntegrations.app&&document.querySelector(\"html\").classList.add(\"desktop-login\")\n",
      "    </script>\n",
      "    <figure class=\"shell-nav__logo\">\n",
      "     <svg fill=\"#ffffff\" height=\"30px\" version=\"1.1\" viewbox=\"0 0 30 30\" width=\"30px\" x=\"0px\" y=\"0px\">\n",
      "      <path clip-rule=\"evenodd\" d=\"M21,9h-2v6h2V9z M5.568,3L4,7v17h5v3h3.886L16,24h5l6-6V3H5.568z M25,16l-4,4h-6l-3,3v-3H8V5h17V16z M16,9h-2v6h2V9z\" fill-rule=\"evenodd\">\n",
      "      </path>\n",
      "     </svg>\n",
      "    </figure>\n",
      "    <div class=\"shell-nav__link shell-nav__link--follow\">\n",
      "    </div>\n",
      "    <div class=\"shell-nav__link shell-nav__link--browse\">\n",
      "    </div>\n",
      "    <div class=\"shell-nav__link shell-nav__link--get-desktop\">\n",
      "    </div>\n",
      "    <div class=\"shell-nav__ellipsis\">\n",
      "     <figure class=\"shell__svg--navmore\">\n",
      "      <svg height=\"20px\" version=\"1.1\" viewbox=\"0 0 20 20\" width=\"20px\" x=\"0px\" y=\"0px\">\n",
      "       <path d=\"M4 8a2 2 0 1 1 0 4 2 2 0 0 1 0-4zm6 0a2 2 0 1 1 0 4 2 2 0 0 1 0-4zm6 0a2 2 0 1 1 0 4 2 2 0 0 1 0-4z\" fill-rule=\"evenodd\">\n",
      "       </path>\n",
      "      </svg>\n",
      "     </figure>\n",
      "    </div>\n",
      "    <div class=\"shell-nav__search-container\">\n",
      "     <div class=\"shell-nav__search\">\n",
      "     </div>\n",
      "    </div>\n",
      "    <div class=\"shell-nav__user-auth\">\n",
      "     <div class=\"shell-nav__user-auth-button shell-nav__user-auth-button--login\">\n",
      "     </div>\n",
      "     <div class=\"shell-nav__user-auth-button shell-nav__user-auth-button--singup\">\n",
      "     </div>\n",
      "    </div>\n",
      "    <div class=\"shell-nav__user-card\">\n",
      "     <div class=\"shell-nav__user-card-avatar\">\n",
      "     </div>\n",
      "     <div class=\"shell-nav__user-card-copy-container\">\n",
      "      <div class=\"shell-nav__user-card-username\">\n",
      "      </div>\n",
      "      <div class=\"shell-nav__user-card-status\">\n",
      "       <div class=\"shell-nav__user-card-status-copy\">\n",
      "       </div>\n",
      "      </div>\n",
      "     </div>\n",
      "     <div class=\"shell-nav__user-card-arrow\">\n",
      "      <figure class=\"shell-nav__user-card-arrow-svg\">\n",
      "       <svg height=\"20px\" version=\"1.1\" viewbox=\"0 0 20 20\" width=\"20px\" x=\"0px\" y=\"0px\">\n",
      "        <path d=\"M5.054 7.463A.714.714 0 0 1 5.714 7h8.572c.289 0 .55.183.66.463.11.28.05.603-.155.817l-4.286 4.5A.696.696 0 0 1 10 13a.696.696 0 0 1-.505-.22L5.21 8.28a.777.777 0 0 1-.155-.817\">\n",
      "        </path>\n",
      "       </svg>\n",
      "      </figure>\n",
      "     </div>\n",
      "    </div>\n",
      "   </div>\n",
      "   <div class=\"shell-loader\" data-a-target=\"shell-loader\">\n",
      "    <div class=\"shell-loader__spinner\">\n",
      "    </div>\n",
      "   </div>\n",
      "  </div>\n",
      "  <script>\n",
      "   window.__twilightApproximatedFirstPaint=performance.now()\n",
      "  </script>\n",
      "  <script crossorigin=\"anonymous\" src=\"https://static.twitchcdn.net/config/settings.ba04fd82baff7f7e8c47828141acc256.js\">\n",
      "  </script>\n",
      "  <script>\n",
      "   try{var defaultSpadeEndpoint=\"https://spade.twitch.tv/track\";window.__twilightBuildID=\"e4ac337d-689a-4ae7-9b34-d81e9cbeb7bd\";for(var deviceID,serverID,entries=document.cookie.split(\"; \"),i=entries.length-1;i>=0;i--){var entry=entries[i].split(\"=\");if(\"server_session_id\"===entry[0]?serverID=entry[1]:\"unique_id\"===entry[0]&&(deviceID=entry[1]),deviceID&&serverID)break}var blob=new Blob([\"data=\"+encodeURIComponent(btoa(JSON.stringify({event:\"benchmark_template_loaded\",properties:{app_version:window.__twilightBuildID,benchmark_server_id:serverID,client_time:Date.now()/1e3,device_id:deviceID,duration:Math.round(performance.now()),url:location.protocol+\"//\"+location.hostname+location.pathname+location.search}})))],{type:\"application/x-www-form-urlencoded; charset=UTF-8\"}),req=new XMLHttpRequest;req.open(\"POST\",window.__twilightSettings&&window.__twilightSettings.spade_url||defaultSpadeEndpoint,!0),req.send(blob)}catch(e){console.error(\"Error in bootstrap script:\",e)}\n",
      "  </script>\n",
      "  <link crossorigin=\"anonymous\" href=\"https://static.twitchcdn.net/assets/core-b86b0f2117121f32f7e3.css\" rel=\"stylesheet\"/>\n",
      "  <script crossorigin=\"anonymous\" src=\"https://polyfill.twitchsvc.net/v2/polyfill.min.js?unknown=polyfill&amp;flags=gated&amp;features=Array.prototype.find,Array.prototype.findIndex,Array.prototype.includes,default,fetch,Intl.~locale.en,Object.entries,Object.values,URL\">\n",
      "  </script>\n",
      "  <script>\n",
      "   delete window.webpackJsonp,function(e){function c(c){for(var d,b,f=c[0],t=c[1],n=c[2],p=0,i=[];p<f.length;p++)b=f[p],s[b]&&i.push(s[b][0]),s[b]=0;for(d in t)Object.prototype.hasOwnProperty.call(t,d)&&(e[d]=t[d]);for(r&&r(c);i.length;)i.shift()();return o.push.apply(o,n||[]),a()}function a(){for(var e,c=0;c<o.length;c++){for(var a=o[c],b=!0,f=1;f<a.length;f++){var t=a[f];0!==s[t]&&(b=!1)}b&&(o.splice(c--,1),e=d(d.s=a[0]))}return e}function d(c){if(b[c])return b[c].exports;var a=b[c]={i:c,l:!1,exports:{}};return e[c].call(a.exports,a,a.exports,d),a.l=!0,a.exports}var b={},f={108:0},s={108:0},o=[];d.e=function(e){function c(c){n.onerror=n.onload=null,clearTimeout(p);var a=s[e];if(0!==a){if(a){var d=c&&(\"load\"===c.type?\"missing\":c.type),b=c&&c.target&&c.target.src,f=new Error(\"Loading chunk \"+e+\" failed.\\n(\"+d+\": \"+b+\")\");f.type=d,f.request=b,a[1](f)}s[e]=void 0}}var a=[];f[e]?a.push(f[e]):0!==f[e]&&{29:1,30:1,34:1,36:1,37:1,38:1,39:1,40:1,41:1,42:1,43:1,44:1,45:1,46:1,47:1,48:1,49:1,50:1,51:1,52:1,53:1,54:1,55:1,56:1,59:1,60:1,61:1,64:1,65:1,67:1,68:1,69:1,72:1,73:1,74:1,75:1,76:1,77:1,78:1,80:1,83:1,84:1,85:1,86:1,87:1,88:1,89:1,90:1,92:1,93:1,95:1,96:1,97:1,98:1,99:1,100:1,101:1,102:1,105:1,107:1,109:1,110:1,111:1,112:1,113:1,114:1,115:1,118:1,119:1,120:1,121:1,122:1,123:1,124:1,125:1,128:1,129:1,131:1,133:1,134:1,135:1,136:1,137:1,138:1,139:1,140:1,141:1,142:1,143:1,144:1,145:1,149:1,151:1,152:1,153:1,154:1,155:1,156:1,158:1,159:1,160:1,161:1,162:1,164:1,165:1,166:1,167:1,168:1,169:1,171:1,172:1,173:1,174:1,175:1,176:1,177:1,178:1,179:1,180:1,181:1,182:1,183:1,184:1,185:1,186:1,187:1,188:1,189:1,190:1,191:1,192:1,195:1,197:1,198:1,199:1,200:1,201:1,202:1,203:1,204:1,205:1,206:1,207:1,208:1,209:1,210:1,211:1,212:1,213:1,214:1,215:1,219:1,220:1,221:1,222:1,226:1}[e]&&a.push(f[e]=new Promise(function(c,a){for(var b=\"assets/\"+({1:\"core.locales.ro\",2:\"core.locales.ko\",3:\"core.locales.ja\",4:\"core.locales.zh-tw\",5:\"core.locales.zh-cn\",6:\"core.locales.th\",7:\"core.locales.ru\",8:\"core.locales.bg\",9:\"core.locales.el\",10:\"core.locales.cs\",11:\"core.locales.tr\",12:\"core.locales.vi\",13:\"core.locales.sv\",14:\"core.locales.fi\",15:\"core.locales.sk\",16:\"core.locales.pt-br\",17:\"core.locales.pt\",18:\"core.locales.pl\",19:\"core.locales.no\",20:\"core.locales.nl\",21:\"core.locales.hu\",22:\"core.locales.it\",23:\"core.locales.fr\",24:\"core.locales.es-mx\",25:\"core.locales.es\",26:\"core.locales.en-gb\",27:\"core.locales.de\",28:\"core.locales.da\",29:\"features.auth.components.auth-form\",30:\"features.staff-console\",31:\"vendor-moment\",32:\"features.desktop\",33:\"vendor-chartjs\",34:\"pages.user\",35:\"features.desktop.utils.logger\",36:\"pages.multiview-stream\",37:\"pages.squad-stream\",38:\"pages.clips-watch\",39:\"pages.video-watch\",40:\"pages.report-user-page\",41:\"pages.channel-videos\",42:\"pages.channel.components.channel-root.components.channel-videos-overview-page\",43:\"pages.channel.components.channel-root\",44:\"pages.channel\",45:\"pages.channel-following\",46:\"pages.channel-followers\",47:\"pages.channel-events\",48:\"pages.channel-collections\",49:\"pages.channel-clips\",50:\"pages.unsubscribe\",51:\"pages.subscriptions-management\",52:\"features.auth.components.start-user-flow\",53:\"pages.settings\",54:\"pages.payments\",55:\"pages.inventory\",56:\"pages.front\",57:\"pages.friends\",58:\"pages.friend-requests\",59:\"pages.following\",60:\"pages.extensions\",61:\"pages.event-landing\",62:\"pages.email-verification\",63:\"pages.email-unsubscribe\",64:\"pages.directory-game\",65:\"pages.dev-only\",66:\"pages.desklight-mods\",67:\"pages.browse\",68:\"pages.broadcast\",69:\"pages.anon-front\",70:\"features.desktop.components.network-integration-manager\",71:\"features.desktop.components.desktop-update-banner\",72:\"features.whispers\",73:\"features.verify-email.components.verify-email-bar.component\",74:\"pages.partnership\",75:\"pages.desktop-login\",76:\"pages.onboarding\",77:\"pages.teams-landing\",78:\"pages.teams-dashboard\",79:\"pages.dashboard.components.dashboard-redirect\",80:\"pages.dashboard\",81:\"features.desktop.components.desktop-toast-manager\",82:\"features.onsite-notifications.test.mock-onsite-notifications\",83:\"features.twitch-prime.components.prime-gift-experiment.prime-gift-submission-form\",84:\"pages.turbo-landing\",85:\"pages.bits-checkout\",86:\"pages.activate-device\",87:\"pages.subs-checkout.components.subs-checkout-page\",88:\"pages.embed-chat\",89:\"pages.subs\",90:\"pages.prime\",91:\"pages.bits\",92:\"pages.popout-extension\",93:\"pages.popout-chat\",94:\"pages.code-redemption\",95:\"twitch-player-ui\",96:\"sites.clips.pages.error\",97:\"sites.clips.pages.view\",98:\"sites.clips.pages.create\",99:\"sites.dev.pages.sandbox\",100:\"sites.dev.pages.bounty-board-campaign-page\",101:\"sites.dev.pages.bounty-board-dashboard-root\",102:\"sites.dev.pages.company-overview\",103:\"sites.dev.pages.company-access-pending\",104:\"sites.dev.pages.company-request-access\",105:\"sites.dev.pages.login\",106:\"sites.dev.pages.dashboard\",107:\"sites.dev.pages.game-fact-sheet\",109:\"features.campaigns.components.hgg-tabs\",110:\"features.campaigns.components.owl-campaign-layout\",111:\"features.campaigns.components.owl-tabs\",112:\"features.campaigns.components.hgc-tabs\",113:\"features.campaigns\",114:\"features.edit-broadcast-modal\",115:\"pages.channel-events.components.channel-events-content\",116:\"pages.channel-followers.components.channel-followers-content\",117:\"pages.channel-following.components.channel-following-content\",118:\"pages.channel.components.channel-panels\",119:\"features.campaigns.components.rewards-tab\",120:\"features.campaigns.components.insider-tab\",121:\"features.campaigns.components.progress-tab\",122:\"pages.channel-videos.components.filterable-video-tower.component\",123:\"pages.channel-collections.components.channel-collections-content\",124:\"pages.channel-clips.components.channel-clips-content\",125:\"pages.channel.components.channel-root.components.channel-videos-overview-page.components.channel-videos-overview-content\",126:\"features.multiview.components.multiview-banner\",127:\"features.squad-stream.components.squad-stream-banner\",128:\"features.squad-stream\",129:\"pages.directory-popular\",130:\"pages.desklight-mods.components.addon-details-versions\",131:\"pages.desklight-mods.components.addon-details-changelog\",132:\"pages.desklight-mods.components.addon-details-screenshots\",133:\"pages.desklight-mods.components.addon-details-description\",134:\"pages.desklight-mods.components.addon-details\",135:\"pages.desklight-mods.components.featured-addons\",136:\"pages.desklight-mods.components.browsable-addons\",137:\"pages.desklight-mods.components.installed-addons\",138:\"pages.desklight-mods.components.game-root\",139:\"pages.desklight-mods.components.available-games-page\",140:\"pages.directory-game-videos\",141:\"pages.directory-game-details\",142:\"pages.directory-game-clips\",143:\"features.edit-profile.components.user-image-uploader\",144:\"features.edit-profile\",145:\"features.video-carousel.components.latest-videos-from-followed-carousel.component\",146:\"pages.front.components.rec-feedback-button\",147:\"pages.settings.components.settings-notifications-page.components.desktop-notification-settings\",148:\"pages.settings.components.settings-desktop-page\",149:\"pages.settings.other-pages\",150:\"features.new-user-survey.component\",151:\"pages.dashboard.components.multiview-page.components.teams-tab\",152:\"pages.dashboard.components.multiview-page.components.roles-tab\",153:\"pages.dashboard.components.multiview-page.components.players-tab\",154:\"pages.dashboard.components.multiview-page.components.chanlets-tab\",155:\"pages.video-manager\",156:\"pages.dashboard.components.stream-summary-page\",157:\"pages.video-tools.pages.highlighter.components.redirect-to-latest-archive.component\",158:\"pages.dashboard.components.roles-page\",159:\"pages.dashboard.components.permissions-page\",160:\"pages.dashboard.components.live-page\",161:\"pages.video-tools.pages.highlighter-v3\",162:\"pages.video-tools.pages.highlighter\",163:\"pages.dashboard.components.multiview-page\",164:\"pages.dashboard.components.extension-dashboard-root\",165:\"pages.dashboard-settings\",166:\"pages.dashboard-moderation-settings.components.banned-chatters-page\",167:\"pages.dashboard-moderation-settings.components.permitted-terms-page\",168:\"pages.dashboard-moderation-settings.components.blocked-terms-page\",169:\"pages.dashboard-moderation-settings.components.automod-page\",170:\"pages.dashboard-moderation-settings\",171:\"pages.dashboard-revenue-settings\",172:\"pages.dashboard.components.events-page.components.dashboard-events-root\",173:\"pages.dashboard.components.broadcast-page\",174:\"pages.dashboard-moderation\",175:\"pages.video-tools.pages.collection-manager\",176:\"pages.video-tools.pages.collection-editor\",177:\"pages.clips-manager\",178:\"pages.dashboard.components.channel-analytics-root\",179:\"pages.dashboard.components.bounties-page\",180:\"pages.dashboard.components.automod-page\",181:\"pages.dashboard.components.activity-page\",182:\"pages.dashboard.components.achievements-page\",183:\"pages.channel-surfing\",184:\"pages.partnership.components.partnership-signup-page\",185:\"pages.bits.components.bits-landing-page\",186:\"pages.prime.components.twitch-prime-fortnite\",187:\"pages.prime.components.twitch-prime-fortnite-linking\",188:\"pages.prime.components.twitch-prime-fortnite-success\",189:\"pages.prime.components.twitch-prime-offers\",190:\"pages.subs.components.subs-broadcaster-page\",191:\"pages.subs.components.subs-landing-page\",192:\"features.chat-share\",193:\"features.chat.components.rituals-onboarding-sticky\",194:\"features.chat.components.raid-notification\",195:\"features.chat.components.orbis\",196:\"features.chat.components.native-broadcast-notification\",197:\"features.chat.components.mystery-gift-chat-banner-queue\",198:\"features.chat-settings.components.chat-settings.component\",199:\"features.subscribe-button.components.subscribe-balloon.component\",200:\"features.chat.components.new-chatter-ritual\",201:\"features.chat.components.chat-viewers\",202:\"features.chat.components.extension-message-card\",203:\"features.chat.components.viewer-card\",204:\"features.rooms.components.room-picker\",205:\"features.rooms.components.room\",206:\"features.rooms.components.active-room-button\",207:\"pages.code-redemption.components.download-key-code-page\",208:\"pages.code-redemption.components.code-redemption-redeem-page\",209:\"features.campaigns.components.ticket-description\",210:\"features.checkout-payments.components.checkout-modal\",211:\"VODHighlighterPlayerType\",212:\"clipsWatchPlayerType\",213:\"clipsEditingPlayerType\",214:\"clipsEmbedPlayerType\",215:\"clipsViewingPlayerType\",216:\"amazonLivePlayerType\",217:\"branch-io\",218:\"sites.dev.pages.extensions-enable-monetization\",219:\"sites.dev.pages.drops-dashboard-root\",220:\"sites.dev.pages.games-list-page\",221:\"sites.dev.pages.app-edit-page\",222:\"sites.dev.pages.app-create-page\",223:\"sites.dev.pages.apps-list-page\",224:\"sites.dev.pages.overview-page\",225:\"sites.dev.pages.bounty-board-analytics-page\",226:\"sites.dev.pages.bounty-board-campaign-manager-page\"}[e]||e)+\"-\"+{1:\"31d6cfe0d16ae931b73c\",2:\"31d6cfe0d16ae931b73c\",3:\"31d6cfe0d16ae931b73c\",4:\"31d6cfe0d16ae931b73c\",5:\"31d6cfe0d16ae931b73c\",6:\"31d6cfe0d16ae931b73c\",7:\"31d6cfe0d16ae931b73c\",8:\"31d6cfe0d16ae931b73c\",9:\"31d6cfe0d16ae931b73c\",10:\"31d6cfe0d16ae931b73c\",11:\"31d6cfe0d16ae931b73c\",12:\"31d6cfe0d16ae931b73c\",13:\"31d6cfe0d16ae931b73c\",14:\"31d6cfe0d16ae931b73c\",15:\"31d6cfe0d16ae931b73c\",16:\"31d6cfe0d16ae931b73c\",17:\"31d6cfe0d16ae931b73c\",18:\"31d6cfe0d16ae931b73c\",19:\"31d6cfe0d16ae931b73c\",20:\"31d6cfe0d16ae931b73c\",21:\"31d6cfe0d16ae931b73c\",22:\"31d6cfe0d16ae931b73c\",23:\"31d6cfe0d16ae931b73c\",24:\"31d6cfe0d16ae931b73c\",25:\"31d6cfe0d16ae931b73c\",26:\"31d6cfe0d16ae931b73c\",27:\"31d6cfe0d16ae931b73c\",28:\"31d6cfe0d16ae931b73c\",29:\"5eb9eae21ba8894a6f38\",30:\"d346e891a9c672d96728\",31:\"31d6cfe0d16ae931b73c\",32:\"31d6cfe0d16ae931b73c\",33:\"31d6cfe0d16ae931b73c\",34:\"48f9d291ba868d981743\",35:\"31d6cfe0d16ae931b73c\",36:\"362d24285253c8f8ebb9\",37:\"e7e043b65793f89026f6\",38:\"12573ac7a637de8f214d\",39:\"41de1f4a3146af58dda7\",40:\"cb4b1a62e69b09506c71\",41:\"3e22dc4a451ee7ca5916\",42:\"86f2306e982547bf0390\",43:\"6505c6429535ec274d83\",44:\"08355b0050406be80bc1\",45:\"4fc9b2f7656a28b54ef3\",46:\"1607491f83babcf18750\",47:\"81495f29ca19dd063adb\",48:\"dd821bf085db51e96d94\",49:\"7989f343bb2d95552f82\",50:\"f0dc92d80b37ea2182ff\",51:\"bc3d5a06a39f25a088a4\",52:\"1f8c0638bb19f1444660\",53:\"209fce72f7f9f9328969\",54:\"f48bcbcaa4fbea611457\",55:\"515b74e95c79c1846c87\",56:\"3c97b94fca5ec0987742\",57:\"31d6cfe0d16ae931b73c\",58:\"31d6cfe0d16ae931b73c\",59:\"8cde571315aca5e3a16e\",60:\"aa21cdd6a72d76dbf86f\",61:\"308fb4f7a562b6ecabb8\",62:\"31d6cfe0d16ae931b73c\",63:\"31d6cfe0d16ae931b73c\",64:\"fff411c31501af23bc71\",65:\"010eea5769facf4ed32c\",66:\"31d6cfe0d16ae931b73c\",67:\"b0edb8142f53066dd119\",68:\"e5e14159843762cf76fb\",69:\"1f8c0638bb19f1444660\",70:\"31d6cfe0d16ae931b73c\",71:\"31d6cfe0d16ae931b73c\",72:\"7d0011f4ee40c25cdc51\",73:\"61b53f9876afb8bbde80\",74:\"7d0011f4ee40c25cdc51\",75:\"6fc694394b3acc56d224\",76:\"fe97b436dd04e2391b14\",77:\"2e87c0701aab77e04b96\",78:\"2a759876d554745e7b43\",79:\"31d6cfe0d16ae931b73c\",80:\"63d6e7ddd79c2749f0aa\",81:\"31d6cfe0d16ae931b73c\",82:\"31d6cfe0d16ae931b73c\",83:\"ab5c0ff3ec28009b641d\",84:\"5e906ff14371257f74d2\",85:\"4e31b38b19b377ede3d4\",86:\"c86c0a87b1cb5a603a6c\",87:\"ce87a5cf764ab4f24b9e\",88:\"fd2e6cc83e5e1ec5bb9b\",89:\"5b6a7eddf1e24c3d5fac\",90:\"79e27b1875ae8d1c02ce\",91:\"31d6cfe0d16ae931b73c\",92:\"448321221b745adcef6a\",93:\"4e2e916a5041ee934c9d\",94:\"31d6cfe0d16ae931b73c\",95:\"8c4fbb9b43f63789a6af\",96:\"393fe8fccc16d437d360\",97:\"bb73590d42bafe3b9db7\",98:\"a2754a90dec7ab023f97\",99:\"b3139c898e0a48594b9c\",100:\"728c248073ed6013ed06\",101:\"1f20df7521d4b83b8f49\",102:\"90669b3a161b856411b4\",103:\"31d6cfe0d16ae931b73c\",104:\"31d6cfe0d16ae931b73c\",105:\"ba0b080421893eb98b0f\",106:\"31d6cfe0d16ae931b73c\",107:\"0364395f69a7fbe09d76\",109:\"ccf6305d599ebbc9cff7\",110:\"8ac84e73467300cc9714\",111:\"cd753c85c21433171859\",112:\"30842d616133568870e7\",113:\"479d5e69db5e519ca030\",114:\"d185b87a8c16756fcfce\",115:\"2ddeb864e23eee14d926\",116:\"31d6cfe0d16ae931b73c\",117:\"31d6cfe0d16ae931b73c\",118:\"5dc838e42b5a565c6f11\",119:\"db90b0d923b2fc4b631a\",120:\"af7841685edc9c2590a4\",121:\"f34eb3f2866ca2694293\",122:\"2e673df39e1d1487df86\",123:\"21a18cce14196df83c65\",124:\"82afeeed5254adebb3b3\",125:\"d3567144d3e351d32d63\",126:\"31d6cfe0d16ae931b73c\",127:\"31d6cfe0d16ae931b73c\",128:\"9d976f11bded5f46313c\",129:\"dd62e3036e854564d4a3\",130:\"31d6cfe0d16ae931b73c\",131:\"a5e896634dced32f4238\",132:\"31d6cfe0d16ae931b73c\",133:\"958ccfc5a8248289be07\",134:\"bb691f0501f8c9639882\",135:\"60d2ca5c85a084079890\",136:\"cf46f249b7f1bc5acf3a\",137:\"c14f76026ae672467bf3\",138:\"bbd0717a6fba64b9f3e5\",139:\"36c60311334ead3421dc\",140:\"ebe27fec4d8d7eaf537e\",141:\"31f68216695167796edd\",142:\"6fcaa402b05d1b93a537\",143:\"ea77c1417f7843702c4f\",144:\"ab8a4ce4e460563e3019\",145:\"3435538a0d6f410f838a\",146:\"31d6cfe0d16ae931b73c\",147:\"31d6cfe0d16ae931b73c\",148:\"31d6cfe0d16ae931b73c\",149:\"c457bf2f5de1118084a8\",150:\"31d6cfe0d16ae931b73c\",151:\"f55e7c8a6f5a1cd3f946\",152:\"cf484cc84b3a8c65c408\",153:\"cf484cc84b3a8c65c408\",154:\"fb4407bf42689747cdf3\",155:\"d05c3d56221deff9be41\",156:\"246384ec764fee608e04\",157:\"31d6cfe0d16ae931b73c\",158:\"3669acee8129e320e18e\",159:\"5e22096b7844a2bdd3cc\",160:\"41d88a3ef2199a5f87cb\",161:\"ac3933ad925a1f10accc\",162:\"88f59817d791eba36558\",163:\"31d6cfe0d16ae931b73c\",164:\"a67e5a31f9d87fd0b22e\",165:\"639936b5cfc0cc8299df\",166:\"2504065003d61332c780\",167:\"e184ca2b30f82e799ba7\",168:\"e184ca2b30f82e799ba7\",169:\"9b25ad04c146ea54686e\",170:\"31d6cfe0d16ae931b73c\",171:\"85cf2012873f00120cc1\",172:\"cb05d2fe9dc40f62f678\",173:\"dee3ca1dd653aef16981\",174:\"f7a6a6fd338c72fc6497\",175:\"c3febd8ea262ead59f3a\",176:\"0aa0f30c21c49ca601a6\",177:\"a9f9e49eb89195d3cacf\",178:\"6ee3f5f67315dd985743\",179:\"c73a93fc5995c3eeed0c\",180:\"5e598ba6a10e26006beb\",181:\"756fedcfe88efc76c082\",182:\"5637d1cc6a61eda4f115\",183:\"5b592179f1b06c306fc9\",184:\"887af6e7c6c1cc9933de\",185:\"668caeb936dc88b0f04d\",186:\"2993be38360f3d0af993\",187:\"78d461ca77c5df09580b\",188:\"f289e8623950e2b2ef1d\",189:\"d5efa168e44081a20efb\",190:\"e3ee97120a5f32edb61a\",191:\"6ccae1cd4d80d1cbe2d0\",192:\"e946d1f30f83054ac66e\",193:\"31d6cfe0d16ae931b73c\",194:\"31d6cfe0d16ae931b73c\",195:\"51b001ef674a373ddd16\",196:\"31d6cfe0d16ae931b73c\",197:\"e39e53651b6e87d9137e\",198:\"6e3bf4137eb6487bf125\",199:\"c4002e9a68266606146c\",200:\"403b711284c82b384a0f\",201:\"3218527684ea8e01352f\",202:\"c8197dfd6fea98c65057\",203:\"64f91d2c11c4c2682ceb\",204:\"b9a62ff5c796afe1f46d\",205:\"b3b3960c0b2a316330d8\",206:\"494b6d5eb33cbc5d1412\",207:\"edc2d4d47858cad00772\",208:\"1d24e4d5fd3b488e39f5\",209:\"21db6bad6f7e247c96ca\",210:\"d64bb42ce49df16710c6\",211:\"595d370bebc0a0bcb47e\",212:\"43b91c11e78e6e3e8e7e\",213:\"6801b2f210dafb2c39b8\",214:\"43b91c11e78e6e3e8e7e\",215:\"43b91c11e78e6e3e8e7e\",216:\"31d6cfe0d16ae931b73c\",217:\"31d6cfe0d16ae931b73c\",218:\"31d6cfe0d16ae931b73c\",219:\"23696cbb6990cdf2df26\",220:\"047ca844366def887bd6\",221:\"c82a23544c061597ed12\",222:\"c82a23544c061597ed12\",223:\"31d6cfe0d16ae931b73c\",224:\"31d6cfe0d16ae931b73c\",225:\"31d6cfe0d16ae931b73c\",226:\"cf1c78393912fac26c24\",227:\"31d6cfe0d16ae931b73c\",228:\"31d6cfe0d16ae931b73c\",229:\"31d6cfe0d16ae931b73c\",230:\"31d6cfe0d16ae931b73c\",231:\"31d6cfe0d16ae931b73c\",232:\"31d6cfe0d16ae931b73c\",233:\"31d6cfe0d16ae931b73c\",234:\"31d6cfe0d16ae931b73c\",235:\"31d6cfe0d16ae931b73c\",236:\"31d6cfe0d16ae931b73c\",237:\"31d6cfe0d16ae931b73c\",238:\"31d6cfe0d16ae931b73c\",239:\"31d6cfe0d16ae931b73c\",240:\"31d6cfe0d16ae931b73c\",241:\"31d6cfe0d16ae931b73c\",242:\"31d6cfe0d16ae931b73c\",243:\"31d6cfe0d16ae931b73c\",244:\"31d6cfe0d16ae931b73c\",245:\"31d6cfe0d16ae931b73c\",246:\"31d6cfe0d16ae931b73c\",247:\"31d6cfe0d16ae931b73c\",248:\"31d6cfe0d16ae931b73c\",249:\"31d6cfe0d16ae931b73c\",250:\"31d6cfe0d16ae931b73c\",251:\"31d6cfe0d16ae931b73c\",252:\"31d6cfe0d16ae931b73c\",253:\"31d6cfe0d16ae931b73c\",254:\"31d6cfe0d16ae931b73c\",255:\"31d6cfe0d16ae931b73c\",256:\"31d6cfe0d16ae931b73c\",257:\"31d6cfe0d16ae931b73c\",258:\"31d6cfe0d16ae931b73c\",259:\"31d6cfe0d16ae931b73c\",260:\"31d6cfe0d16ae931b73c\",261:\"31d6cfe0d16ae931b73c\",262:\"31d6cfe0d16ae931b73c\",263:\"31d6cfe0d16ae931b73c\",264:\"31d6cfe0d16ae931b73c\",265:\"31d6cfe0d16ae931b73c\",266:\"31d6cfe0d16ae931b73c\",267:\"31d6cfe0d16ae931b73c\",268:\"31d6cfe0d16ae931b73c\",269:\"31d6cfe0d16ae931b73c\",270:\"31d6cfe0d16ae931b73c\",271:\"31d6cfe0d16ae931b73c\",272:\"31d6cfe0d16ae931b73c\",273:\"31d6cfe0d16ae931b73c\",274:\"31d6cfe0d16ae931b73c\",275:\"31d6cfe0d16ae931b73c\",276:\"31d6cfe0d16ae931b73c\",277:\"31d6cfe0d16ae931b73c\",278:\"31d6cfe0d16ae931b73c\",279:\"31d6cfe0d16ae931b73c\",280:\"31d6cfe0d16ae931b73c\",281:\"31d6cfe0d16ae931b73c\",282:\"31d6cfe0d16ae931b73c\",283:\"31d6cfe0d16ae931b73c\",284:\"31d6cfe0d16ae931b73c\",285:\"31d6cfe0d16ae931b73c\",286:\"31d6cfe0d16ae931b73c\",287:\"31d6cfe0d16ae931b73c\",288:\"31d6cfe0d16ae931b73c\",289:\"31d6cfe0d16ae931b73c\",290:\"31d6cfe0d16ae931b73c\",291:\"31d6cfe0d16ae931b73c\",292:\"31d6cfe0d16ae931b73c\",293:\"31d6cfe0d16ae931b73c\",294:\"31d6cfe0d16ae931b73c\",295:\"31d6cfe0d16ae931b73c\",296:\"31d6cfe0d16ae931b73c\",297:\"31d6cfe0d16ae931b73c\",298:\"31d6cfe0d16ae931b73c\",299:\"31d6cfe0d16ae931b73c\",300:\"31d6cfe0d16ae931b73c\",301:\"31d6cfe0d16ae931b73c\",302:\"31d6cfe0d16ae931b73c\",303:\"31d6cfe0d16ae931b73c\",304:\"31d6cfe0d16ae931b73c\",305:\"31d6cfe0d16ae931b73c\",306:\"31d6cfe0d16ae931b73c\",307:\"31d6cfe0d16ae931b73c\",308:\"31d6cfe0d16ae931b73c\",309:\"31d6cfe0d16ae931b73c\",310:\"31d6cfe0d16ae931b73c\",311:\"31d6cfe0d16ae931b73c\",312:\"31d6cfe0d16ae931b73c\",313:\"31d6cfe0d16ae931b73c\",314:\"31d6cfe0d16ae931b73c\",315:\"31d6cfe0d16ae931b73c\",316:\"31d6cfe0d16ae931b73c\",317:\"31d6cfe0d16ae931b73c\",318:\"31d6cfe0d16ae931b73c\",319:\"31d6cfe0d16ae931b73c\",320:\"31d6cfe0d16ae931b73c\",321:\"31d6cfe0d16ae931b73c\",322:\"31d6cfe0d16ae931b73c\",323:\"31d6cfe0d16ae931b73c\",324:\"31d6cfe0d16ae931b73c\",325:\"31d6cfe0d16ae931b73c\",326:\"31d6cfe0d16ae931b73c\",327:\"31d6cfe0d16ae931b73c\",328:\"31d6cfe0d16ae931b73c\",329:\"31d6cfe0d16ae931b73c\",330:\"31d6cfe0d16ae931b73c\",331:\"31d6cfe0d16ae931b73c\",332:\"31d6cfe0d16ae931b73c\",333:\"31d6cfe0d16ae931b73c\",334:\"31d6cfe0d16ae931b73c\",335:\"31d6cfe0d16ae931b73c\",336:\"31d6cfe0d16ae931b73c\",337:\"31d6cfe0d16ae931b73c\",338:\"31d6cfe0d16ae931b73c\",339:\"31d6cfe0d16ae931b73c\",340:\"31d6cfe0d16ae931b73c\",341:\"31d6cfe0d16ae931b73c\",342:\"31d6cfe0d16ae931b73c\",343:\"31d6cfe0d16ae931b73c\",344:\"31d6cfe0d16ae931b73c\",345:\"31d6cfe0d16ae931b73c\",346:\"31d6cfe0d16ae931b73c\",347:\"31d6cfe0d16ae931b73c\",348:\"31d6cfe0d16ae931b73c\",349:\"31d6cfe0d16ae931b73c\",350:\"31d6cfe0d16ae931b73c\",351:\"31d6cfe0d16ae931b73c\",352:\"31d6cfe0d16ae931b73c\",353:\"31d6cfe0d16ae931b73c\",354:\"31d6cfe0d16ae931b73c\",355:\"31d6cfe0d16ae931b73c\",356:\"31d6cfe0d16ae931b73c\",357:\"31d6cfe0d16ae931b73c\",358:\"31d6cfe0d16ae931b73c\",359:\"31d6cfe0d16ae931b73c\",360:\"31d6cfe0d16ae931b73c\",361:\"31d6cfe0d16ae931b73c\",362:\"31d6cfe0d16ae931b73c\",363:\"31d6cfe0d16ae931b73c\",364:\"31d6cfe0d16ae931b73c\",365:\"31d6cfe0d16ae931b73c\",366:\"31d6cfe0d16ae931b73c\",367:\"31d6cfe0d16ae931b73c\",368:\"31d6cfe0d16ae931b73c\",369:\"31d6cfe0d16ae931b73c\",370:\"31d6cfe0d16ae931b73c\",371:\"31d6cfe0d16ae931b73c\",372:\"31d6cfe0d16ae931b73c\",373:\"31d6cfe0d16ae931b73c\",374:\"31d6cfe0d16ae931b73c\",375:\"31d6cfe0d16ae931b73c\",376:\"31d6cfe0d16ae931b73c\",377:\"31d6cfe0d16ae931b73c\",378:\"31d6cfe0d16ae931b73c\",379:\"31d6cfe0d16ae931b73c\",380:\"31d6cfe0d16ae931b73c\",381:\"31d6cfe0d16ae931b73c\",382:\"31d6cfe0d16ae931b73c\",383:\"31d6cfe0d16ae931b73c\",384:\"31d6cfe0d16ae931b73c\",385:\"31d6cfe0d16ae931b73c\",386:\"31d6cfe0d16ae931b73c\",387:\"31d6cfe0d16ae931b73c\",388:\"31d6cfe0d16ae931b73c\",389:\"31d6cfe0d16ae931b73c\",390:\"31d6cfe0d16ae931b73c\",391:\"31d6cfe0d16ae931b73c\",392:\"31d6cfe0d16ae931b73c\",393:\"31d6cfe0d16ae931b73c\",394:\"31d6cfe0d16ae931b73c\",395:\"31d6cfe0d16ae931b73c\",396:\"31d6cfe0d16ae931b73c\",397:\"31d6cfe0d16ae931b73c\",398:\"31d6cfe0d16ae931b73c\",399:\"31d6cfe0d16ae931b73c\",400:\"31d6cfe0d16ae931b73c\",401:\"31d6cfe0d16ae931b73c\",402:\"31d6cfe0d16ae931b73c\",403:\"31d6cfe0d16ae931b73c\",404:\"31d6cfe0d16ae931b73c\",405:\"31d6cfe0d16ae931b73c\",406:\"31d6cfe0d16ae931b73c\",407:\"31d6cfe0d16ae931b73c\",408:\"31d6cfe0d16ae931b73c\",409:\"31d6cfe0d16ae931b73c\",410:\"31d6cfe0d16ae931b73c\",411:\"31d6cfe0d16ae931b73c\",412:\"31d6cfe0d16ae931b73c\",413:\"31d6cfe0d16ae931b73c\",414:\"31d6cfe0d16ae931b73c\",415:\"31d6cfe0d16ae931b73c\",416:\"31d6cfe0d16ae931b73c\",417:\"31d6cfe0d16ae931b73c\",418:\"31d6cfe0d16ae931b73c\",419:\"31d6cfe0d16ae931b73c\",420:\"31d6cfe0d16ae931b73c\",421:\"31d6cfe0d16ae931b73c\",422:\"31d6cfe0d16ae931b73c\",423:\"31d6cfe0d16ae931b73c\",424:\"31d6cfe0d16ae931b73c\",425:\"31d6cfe0d16ae931b73c\",426:\"31d6cfe0d16ae931b73c\",427:\"31d6cfe0d16ae931b73c\",428:\"31d6cfe0d16ae931b73c\",429:\"31d6cfe0d16ae931b73c\",430:\"31d6cfe0d16ae931b73c\",431:\"31d6cfe0d16ae931b73c\",432:\"31d6cfe0d16ae931b73c\",433:\"31d6cfe0d16ae931b73c\",434:\"31d6cfe0d16ae931b73c\",435:\"31d6cfe0d16ae931b73c\",436:\"31d6cfe0d16ae931b73c\",437:\"31d6cfe0d16ae931b73c\",438:\"31d6cfe0d16ae931b73c\",439:\"31d6cfe0d16ae931b73c\",440:\"31d6cfe0d16ae931b73c\",441:\"31d6cfe0d16ae931b73c\",442:\"31d6cfe0d16ae931b73c\",443:\"31d6cfe0d16ae931b73c\",444:\"31d6cfe0d16ae931b73c\",445:\"31d6cfe0d16ae931b73c\",446:\"31d6cfe0d16ae931b73c\",447:\"31d6cfe0d16ae931b73c\",448:\"31d6cfe0d16ae931b73c\",449:\"31d6cfe0d16ae931b73c\",450:\"31d6cfe0d16ae931b73c\",451:\"31d6cfe0d16ae931b73c\",452:\"31d6cfe0d16ae931b73c\",453:\"31d6cfe0d16ae931b73c\",454:\"31d6cfe0d16ae931b73c\",455:\"31d6cfe0d16ae931b73c\",456:\"31d6cfe0d16ae931b73c\",457:\"31d6cfe0d16ae931b73c\",458:\"31d6cfe0d16ae931b73c\",459:\"31d6cfe0d16ae931b73c\",460:\"31d6cfe0d16ae931b73c\",461:\"31d6cfe0d16ae931b73c\",462:\"31d6cfe0d16ae931b73c\",463:\"31d6cfe0d16ae931b73c\",464:\"31d6cfe0d16ae931b73c\",465:\"31d6cfe0d16ae931b73c\",466:\"31d6cfe0d16ae931b73c\",467:\"31d6cfe0d16ae931b73c\",468:\"31d6cfe0d16ae931b73c\",469:\"31d6cfe0d16ae931b73c\",470:\"31d6cfe0d16ae931b73c\",471:\"31d6cfe0d16ae931b73c\",472:\"31d6cfe0d16ae931b73c\",473:\"31d6cfe0d16ae931b73c\",474:\"31d6cfe0d16ae931b73c\",475:\"31d6cfe0d16ae931b73c\",476:\"31d6cfe0d16ae931b73c\",477:\"31d6cfe0d16ae931b73c\",478:\"31d6cfe0d16ae931b73c\",479:\"31d6cfe0d16ae931b73c\",480:\"31d6cfe0d16ae931b73c\",481:\"31d6cfe0d16ae931b73c\",482:\"31d6cfe0d16ae931b73c\",483:\"31d6cfe0d16ae931b73c\",484:\"31d6cfe0d16ae931b73c\",485:\"31d6cfe0d16ae931b73c\",486:\"31d6cfe0d16ae931b73c\",487:\"31d6cfe0d16ae931b73c\",488:\"31d6cfe0d16ae931b73c\",489:\"31d6cfe0d16ae931b73c\",490:\"31d6cfe0d16ae931b73c\",491:\"31d6cfe0d16ae931b73c\",492:\"31d6cfe0d16ae931b73c\",493:\"31d6cfe0d16ae931b73c\",494:\"31d6cfe0d16ae931b73c\",495:\"31d6cfe0d16ae931b73c\",496:\"31d6cfe0d16ae931b73c\",497:\"31d6cfe0d16ae931b73c\",498:\"31d6cfe0d16ae931b73c\",499:\"31d6cfe0d16ae931b73c\",500:\"31d6cfe0d16ae931b73c\",501:\"31d6cfe0d16ae931b73c\",502:\"31d6cfe0d16ae931b73c\",503:\"31d6cfe0d16ae931b73c\",504:\"31d6cfe0d16ae931b73c\",505:\"31d6cfe0d16ae931b73c\",506:\"31d6cfe0d16ae931b73c\",507:\"31d6cfe0d16ae931b73c\",508:\"31d6cfe0d16ae931b73c\",509:\"31d6cfe0d16ae931b73c\",510:\"31d6cfe0d16ae931b73c\",511:\"31d6cfe0d16ae931b73c\",512:\"31d6cfe0d16ae931b73c\",513:\"31d6cfe0d16ae931b73c\",514:\"31d6cfe0d16ae931b73c\",515:\"31d6cfe0d16ae931b73c\",516:\"31d6cfe0d16ae931b73c\",517:\"31d6cfe0d16ae931b73c\",518:\"31d6cfe0d16ae931b73c\",519:\"31d6cfe0d16ae931b73c\",520:\"31d6cfe0d16ae931b73c\",521:\"31d6cfe0d16ae931b73c\",522:\"31d6cfe0d16ae931b73c\",523:\"31d6cfe0d16ae931b73c\",524:\"31d6cfe0d16ae931b73c\",525:\"31d6cfe0d16ae931b73c\",526:\"31d6cfe0d16ae931b73c\",527:\"31d6cfe0d16ae931b73c\",528:\"31d6cfe0d16ae931b73c\",529:\"31d6cfe0d16ae931b73c\",530:\"31d6cfe0d16ae931b73c\",531:\"31d6cfe0d16ae931b73c\",532:\"31d6cfe0d16ae931b73c\",533:\"31d6cfe0d16ae931b73c\",534:\"31d6cfe0d16ae931b73c\",535:\"31d6cfe0d16ae931b73c\",536:\"31d6cfe0d16ae931b73c\",537:\"31d6cfe0d16ae931b73c\",538:\"31d6cfe0d16ae931b73c\",539:\"31d6cfe0d16ae931b73c\",540:\"31d6cfe0d16ae931b73c\",541:\"31d6cfe0d16ae931b73c\",542:\"31d6cfe0d16ae931b73c\",543:\"31d6cfe0d16ae931b73c\",544:\"31d6cfe0d16ae931b73c\",545:\"31d6cfe0d16ae931b73c\",546:\"31d6cfe0d16ae931b73c\",547:\"31d6cfe0d16ae931b73c\",548:\"31d6cfe0d16ae931b73c\",549:\"31d6cfe0d16ae931b73c\",550:\"31d6cfe0d16ae931b73c\",551:\"31d6cfe0d16ae931b73c\",552:\"31d6cfe0d16ae931b73c\",553:\"31d6cfe0d16ae931b73c\",554:\"31d6cfe0d16ae931b73c\",555:\"31d6cfe0d16ae931b73c\",556:\"31d6cfe0d16ae931b73c\",557:\"31d6cfe0d16ae931b73c\",558:\"31d6cfe0d16ae931b73c\",559:\"31d6cfe0d16ae931b73c\",560:\"31d6cfe0d16ae931b73c\",561:\"31d6cfe0d16ae931b73c\",562:\"31d6cfe0d16ae931b73c\",563:\"31d6cfe0d16ae931b73c\",564:\"31d6cfe0d16ae931b73c\",565:\"31d6cfe0d16ae931b73c\",566:\"31d6cfe0d16ae931b73c\",567:\"31d6cfe0d16ae931b73c\",568:\"31d6cfe0d16ae931b73c\",569:\"31d6cfe0d16ae931b73c\",570:\"31d6cfe0d16ae931b73c\",571:\"31d6cfe0d16ae931b73c\",572:\"31d6cfe0d16ae931b73c\",573:\"31d6cfe0d16ae931b73c\",574:\"31d6cfe0d16ae931b73c\",575:\"31d6cfe0d16ae931b73c\",576:\"31d6cfe0d16ae931b73c\",577:\"31d6cfe0d16ae931b73c\",578:\"31d6cfe0d16ae931b73c\",579:\"31d6cfe0d16ae931b73c\",580:\"31d6cfe0d16ae931b73c\",581:\"31d6cfe0d16ae931b73c\",582:\"31d6cfe0d16ae931b73c\",583:\"31d6cfe0d16ae931b73c\",584:\"31d6cfe0d16ae931b73c\",585:\"31d6cfe0d16ae931b73c\",586:\"31d6cfe0d16ae931b73c\",587:\"31d6cfe0d16ae931b73c\",588:\"31d6cfe0d16ae931b73c\",589:\"31d6cfe0d16ae931b73c\",590:\"31d6cfe0d16ae931b73c\",591:\"31d6cfe0d16ae931b73c\",592:\"31d6cfe0d16ae931b73c\",593:\"31d6cfe0d16ae931b73c\",594:\"31d6cfe0d16ae931b73c\",595:\"31d6cfe0d16ae931b73c\",596:\"31d6cfe0d16ae931b73c\",597:\"31d6cfe0d16ae931b73c\",598:\"31d6cfe0d16ae931b73c\",599:\"31d6cfe0d16ae931b73c\",600:\"31d6cfe0d16ae931b73c\",601:\"31d6cfe0d16ae931b73c\",602:\"31d6cfe0d16ae931b73c\",603:\"31d6cfe0d16ae931b73c\",604:\"31d6cfe0d16ae931b73c\",605:\"31d6cfe0d16ae931b73c\",606:\"31d6cfe0d16ae931b73c\",607:\"31d6cfe0d16ae931b73c\",608:\"31d6cfe0d16ae931b73c\",609:\"31d6cfe0d16ae931b73c\",610:\"31d6cfe0d16ae931b73c\",611:\"31d6cfe0d16ae931b73c\",612:\"31d6cfe0d16ae931b73c\",613:\"31d6cfe0d16ae931b73c\",614:\"31d6cfe0d16ae931b73c\",615:\"31d6cfe0d16ae931b73c\",616:\"31d6cfe0d16ae931b73c\",617:\"31d6cfe0d16ae931b73c\",618:\"31d6cfe0d16ae931b73c\",619:\"31d6cfe0d16ae931b73c\",620:\"31d6cfe0d16ae931b73c\",621:\"31d6cfe0d16ae931b73c\",622:\"31d6cfe0d16ae931b73c\",623:\"31d6cfe0d16ae931b73c\",624:\"31d6cfe0d16ae931b73c\",625:\"31d6cfe0d16ae931b73c\",626:\"31d6cfe0d16ae931b73c\",627:\"31d6cfe0d16ae931b73c\",628:\"31d6cfe0d16ae931b73c\",629:\"31d6cfe0d16ae931b73c\",630:\"31d6cfe0d16ae931b73c\",631:\"31d6cfe0d16ae931b73c\",632:\"31d6cfe0d16ae931b73c\",633:\"31d6cfe0d16ae931b73c\",634:\"31d6cfe0d16ae931b73c\",635:\"31d6cfe0d16ae931b73c\",636:\"31d6cfe0d16ae931b73c\",637:\"31d6cfe0d16ae931b73c\",638:\"31d6cfe0d16ae931b73c\",639:\"31d6cfe0d16ae931b73c\",640:\"31d6cfe0d16ae931b73c\",641:\"31d6cfe0d16ae931b73c\",642:\"31d6cfe0d16ae931b73c\",643:\"31d6cfe0d16ae931b73c\",644:\"31d6cfe0d16ae931b73c\",645:\"31d6cfe0d16ae931b73c\",646:\"31d6cfe0d16ae931b73c\",647:\"31d6cfe0d16ae931b73c\",648:\"31d6cfe0d16ae931b73c\",649:\"31d6cfe0d16ae931b73c\",650:\"31d6cfe0d16ae931b73c\",651:\"31d6cfe0d16ae931b73c\",652:\"31d6cfe0d16ae931b73c\",653:\"31d6cfe0d16ae931b73c\",654:\"31d6cfe0d16ae931b73c\",655:\"31d6cfe0d16ae931b73c\",656:\"31d6cfe0d16ae931b73c\",657:\"31d6cfe0d16ae931b73c\",658:\"31d6cfe0d16ae931b73c\",659:\"31d6cfe0d16ae931b73c\",660:\"31d6cfe0d16ae931b73c\",661:\"31d6cfe0d16ae931b73c\",662:\"31d6cfe0d16ae931b73c\",663:\"31d6cfe0d16ae931b73c\",664:\"31d6cfe0d16ae931b73c\",665:\"31d6cfe0d16ae931b73c\",666:\"31d6cfe0d16ae931b73c\",667:\"31d6cfe0d16ae931b73c\",668:\"31d6cfe0d16ae931b73c\",669:\"31d6cfe0d16ae931b73c\",670:\"31d6cfe0d16ae931b73c\",671:\"31d6cfe0d16ae931b73c\",672:\"31d6cfe0d16ae931b73c\",673:\"31d6cfe0d16ae931b73c\",674:\"31d6cfe0d16ae931b73c\",675:\"31d6cfe0d16ae931b73c\",676:\"31d6cfe0d16ae931b73c\",677:\"31d6cfe0d16ae931b73c\",678:\"31d6cfe0d16ae931b73c\",679:\"31d6cfe0d16ae931b73c\",680:\"31d6cfe0d16ae931b73c\",681:\"31d6cfe0d16ae931b73c\",682:\"31d6cfe0d16ae931b73c\",683:\"31d6cfe0d16ae931b73c\",684:\"31d6cfe0d16ae931b73c\",685:\"31d6cfe0d16ae931b73c\",686:\"31d6cfe0d16ae931b73c\",687:\"31d6cfe0d16ae931b73c\",688:\"31d6cfe0d16ae931b73c\",689:\"31d6cfe0d16ae931b73c\",690:\"31d6cfe0d16ae931b73c\",691:\"31d6cfe0d16ae931b73c\",692:\"31d6cfe0d16ae931b73c\",693:\"31d6cfe0d16ae931b73c\",694:\"31d6cfe0d16ae931b73c\",695:\"31d6cfe0d16ae931b73c\",696:\"31d6cfe0d16ae931b73c\",697:\"31d6cfe0d16ae931b73c\",698:\"31d6cfe0d16ae931b73c\",699:\"31d6cfe0d16ae931b73c\",700:\"31d6cfe0d16ae931b73c\",701:\"31d6cfe0d16ae931b73c\",702:\"31d6cfe0d16ae931b73c\",703:\"31d6cfe0d16ae931b73c\",704:\"31d6cfe0d16ae931b73c\",705:\"31d6cfe0d16ae931b73c\",706:\"31d6cfe0d16ae931b73c\",707:\"31d6cfe0d16ae931b73c\",708:\"31d6cfe0d16ae931b73c\",709:\"31d6cfe0d16ae931b73c\",710:\"31d6cfe0d16ae931b73c\",711:\"31d6cfe0d16ae931b73c\",712:\"31d6cfe0d16ae931b73c\",713:\"31d6cfe0d16ae931b73c\",714:\"31d6cfe0d16ae931b73c\",715:\"31d6cfe0d16ae931b73c\",716:\"31d6cfe0d16ae931b73c\",717:\"31d6cfe0d16ae931b73c\",718:\"31d6cfe0d16ae931b73c\",719:\"31d6cfe0d16ae931b73c\",720:\"31d6cfe0d16ae931b73c\",721:\"31d6cfe0d16ae931b73c\",722:\"31d6cfe0d16ae931b73c\",723:\"31d6cfe0d16ae931b73c\",724:\"31d6cfe0d16ae931b73c\",725:\"31d6cfe0d16ae931b73c\",726:\"31d6cfe0d16ae931b73c\",727:\"31d6cfe0d16ae931b73c\",728:\"31d6cfe0d16ae931b73c\",729:\"31d6cfe0d16ae931b73c\",730:\"31d6cfe0d16ae931b73c\",731:\"31d6cfe0d16ae931b73c\",732:\"31d6cfe0d16ae931b73c\",733:\"31d6cfe0d16ae931b73c\",734:\"31d6cfe0d16ae931b73c\",735:\"31d6cfe0d16ae931b73c\",736:\"31d6cfe0d16ae931b73c\"}[e]+\".css\",f=d.p+b,s=document.getElementsByTagName(\"link\"),o=0;o<s.length;o++){var t=(p=s[o]).getAttribute(\"data-href\")||p.getAttribute(\"href\");if(\"stylesheet\"===p.rel&&(t===b||t===f))return c()}var n=document.getElementsByTagName(\"style\");for(o=0;o<n.length;o++){var p;if((t=(p=n[o]).getAttribute(\"data-href\"))===b||t===f)return c()}var r=document.createElement(\"link\");r.rel=\"stylesheet\",r.type=\"text/css\",r.onload=c,r.onerror=function(c){var d=c&&c.target&&c.target.src||f,b=new Error(\"Loading CSS chunk \"+e+\" failed.\\n(\"+d+\")\");b.request=d,a(b)},r.href=f,document.getElementsByTagName(\"head\")[0].appendChild(r)}).then(function(){f[e]=0}));var b=s[e];if(0!==b)if(b)a.push(b[2]);else{var o=new Promise(function(c,a){b=s[e]=[c,a]});a.push(b[2]=o);var t=document.getElementsByTagName(\"head\")[0],n=document.createElement(\"script\");n.charset=\"utf-8\",n.timeout=120,n.crossOrigin=\"anonymous\",d.nc&&n.setAttribute(\"nonce\",d.nc),n.src=function(e){return d.p+\"assets/\"+({1:\"core.locales.ro\",2:\"core.locales.ko\",3:\"core.locales.ja\",4:\"core.locales.zh-tw\",5:\"core.locales.zh-cn\",6:\"core.locales.th\",7:\"core.locales.ru\",8:\"core.locales.bg\",9:\"core.locales.el\",10:\"core.locales.cs\",11:\"core.locales.tr\",12:\"core.locales.vi\",13:\"core.locales.sv\",14:\"core.locales.fi\",15:\"core.locales.sk\",16:\"core.locales.pt-br\",17:\"core.locales.pt\",18:\"core.locales.pl\",19:\"core.locales.no\",20:\"core.locales.nl\",21:\"core.locales.hu\",22:\"core.locales.it\",23:\"core.locales.fr\",24:\"core.locales.es-mx\",25:\"core.locales.es\",26:\"core.locales.en-gb\",27:\"core.locales.de\",28:\"core.locales.da\",29:\"features.auth.components.auth-form\",30:\"features.staff-console\",31:\"vendor-moment\",32:\"features.desktop\",33:\"vendor-chartjs\",34:\"pages.user\",35:\"features.desktop.utils.logger\",36:\"pages.multiview-stream\",37:\"pages.squad-stream\",38:\"pages.clips-watch\",39:\"pages.video-watch\",40:\"pages.report-user-page\",41:\"pages.channel-videos\",42:\"pages.channel.components.channel-root.components.channel-videos-overview-page\",43:\"pages.channel.components.channel-root\",44:\"pages.channel\",45:\"pages.channel-following\",46:\"pages.channel-followers\",47:\"pages.channel-events\",48:\"pages.channel-collections\",49:\"pages.channel-clips\",50:\"pages.unsubscribe\",51:\"pages.subscriptions-management\",52:\"features.auth.components.start-user-flow\",53:\"pages.settings\",54:\"pages.payments\",55:\"pages.inventory\",56:\"pages.front\",57:\"pages.friends\",58:\"pages.friend-requests\",59:\"pages.following\",60:\"pages.extensions\",61:\"pages.event-landing\",62:\"pages.email-verification\",63:\"pages.email-unsubscribe\",64:\"pages.directory-game\",65:\"pages.dev-only\",66:\"pages.desklight-mods\",67:\"pages.browse\",68:\"pages.broadcast\",69:\"pages.anon-front\",70:\"features.desktop.components.network-integration-manager\",71:\"features.desktop.components.desktop-update-banner\",72:\"features.whispers\",73:\"features.verify-email.components.verify-email-bar.component\",74:\"pages.partnership\",75:\"pages.desktop-login\",76:\"pages.onboarding\",77:\"pages.teams-landing\",78:\"pages.teams-dashboard\",79:\"pages.dashboard.components.dashboard-redirect\",80:\"pages.dashboard\",81:\"features.desktop.components.desktop-toast-manager\",82:\"features.onsite-notifications.test.mock-onsite-notifications\",83:\"features.twitch-prime.components.prime-gift-experiment.prime-gift-submission-form\",84:\"pages.turbo-landing\",85:\"pages.bits-checkout\",86:\"pages.activate-device\",87:\"pages.subs-checkout.components.subs-checkout-page\",88:\"pages.embed-chat\",89:\"pages.subs\",90:\"pages.prime\",91:\"pages.bits\",92:\"pages.popout-extension\",93:\"pages.popout-chat\",94:\"pages.code-redemption\",95:\"twitch-player-ui\",96:\"sites.clips.pages.error\",97:\"sites.clips.pages.view\",98:\"sites.clips.pages.create\",99:\"sites.dev.pages.sandbox\",100:\"sites.dev.pages.bounty-board-campaign-page\",101:\"sites.dev.pages.bounty-board-dashboard-root\",102:\"sites.dev.pages.company-overview\",103:\"sites.dev.pages.company-access-pending\",104:\"sites.dev.pages.company-request-access\",105:\"sites.dev.pages.login\",106:\"sites.dev.pages.dashboard\",107:\"sites.dev.pages.game-fact-sheet\",109:\"features.campaigns.components.hgg-tabs\",110:\"features.campaigns.components.owl-campaign-layout\",111:\"features.campaigns.components.owl-tabs\",112:\"features.campaigns.components.hgc-tabs\",113:\"features.campaigns\",114:\"features.edit-broadcast-modal\",115:\"pages.channel-events.components.channel-events-content\",116:\"pages.channel-followers.components.channel-followers-content\",117:\"pages.channel-following.components.channel-following-content\",118:\"pages.channel.components.channel-panels\",119:\"features.campaigns.components.rewards-tab\",120:\"features.campaigns.components.insider-tab\",121:\"features.campaigns.components.progress-tab\",122:\"pages.channel-videos.components.filterable-video-tower.component\",123:\"pages.channel-collections.components.channel-collections-content\",124:\"pages.channel-clips.components.channel-clips-content\",125:\"pages.channel.components.channel-root.components.channel-videos-overview-page.components.channel-videos-overview-content\",126:\"features.multiview.components.multiview-banner\",127:\"features.squad-stream.components.squad-stream-banner\",128:\"features.squad-stream\",129:\"pages.directory-popular\",130:\"pages.desklight-mods.components.addon-details-versions\",131:\"pages.desklight-mods.components.addon-details-changelog\",132:\"pages.desklight-mods.components.addon-details-screenshots\",133:\"pages.desklight-mods.components.addon-details-description\",134:\"pages.desklight-mods.components.addon-details\",135:\"pages.desklight-mods.components.featured-addons\",136:\"pages.desklight-mods.components.browsable-addons\",137:\"pages.desklight-mods.components.installed-addons\",138:\"pages.desklight-mods.components.game-root\",139:\"pages.desklight-mods.components.available-games-page\",140:\"pages.directory-game-videos\",141:\"pages.directory-game-details\",142:\"pages.directory-game-clips\",143:\"features.edit-profile.components.user-image-uploader\",144:\"features.edit-profile\",145:\"features.video-carousel.components.latest-videos-from-followed-carousel.component\",146:\"pages.front.components.rec-feedback-button\",147:\"pages.settings.components.settings-notifications-page.components.desktop-notification-settings\",148:\"pages.settings.components.settings-desktop-page\",149:\"pages.settings.other-pages\",150:\"features.new-user-survey.component\",151:\"pages.dashboard.components.multiview-page.components.teams-tab\",152:\"pages.dashboard.components.multiview-page.components.roles-tab\",153:\"pages.dashboard.components.multiview-page.components.players-tab\",154:\"pages.dashboard.components.multiview-page.components.chanlets-tab\",155:\"pages.video-manager\",156:\"pages.dashboard.components.stream-summary-page\",157:\"pages.video-tools.pages.highlighter.components.redirect-to-latest-archive.component\",158:\"pages.dashboard.components.roles-page\",159:\"pages.dashboard.components.permissions-page\",160:\"pages.dashboard.components.live-page\",161:\"pages.video-tools.pages.highlighter-v3\",162:\"pages.video-tools.pages.highlighter\",163:\"pages.dashboard.components.multiview-page\",164:\"pages.dashboard.components.extension-dashboard-root\",165:\"pages.dashboard-settings\",166:\"pages.dashboard-moderation-settings.components.banned-chatters-page\",167:\"pages.dashboard-moderation-settings.components.permitted-terms-page\",168:\"pages.dashboard-moderation-settings.components.blocked-terms-page\",169:\"pages.dashboard-moderation-settings.components.automod-page\",170:\"pages.dashboard-moderation-settings\",171:\"pages.dashboard-revenue-settings\",172:\"pages.dashboard.components.events-page.components.dashboard-events-root\",173:\"pages.dashboard.components.broadcast-page\",174:\"pages.dashboard-moderation\",175:\"pages.video-tools.pages.collection-manager\",176:\"pages.video-tools.pages.collection-editor\",177:\"pages.clips-manager\",178:\"pages.dashboard.components.channel-analytics-root\",179:\"pages.dashboard.components.bounties-page\",180:\"pages.dashboard.components.automod-page\",181:\"pages.dashboard.components.activity-page\",182:\"pages.dashboard.components.achievements-page\",183:\"pages.channel-surfing\",184:\"pages.partnership.components.partnership-signup-page\",185:\"pages.bits.components.bits-landing-page\",186:\"pages.prime.components.twitch-prime-fortnite\",187:\"pages.prime.components.twitch-prime-fortnite-linking\",188:\"pages.prime.components.twitch-prime-fortnite-success\",189:\"pages.prime.components.twitch-prime-offers\",190:\"pages.subs.components.subs-broadcaster-page\",191:\"pages.subs.components.subs-landing-page\",192:\"features.chat-share\",193:\"features.chat.components.rituals-onboarding-sticky\",194:\"features.chat.components.raid-notification\",195:\"features.chat.components.orbis\",196:\"features.chat.components.native-broadcast-notification\",197:\"features.chat.components.mystery-gift-chat-banner-queue\",198:\"features.chat-settings.components.chat-settings.component\",199:\"features.subscribe-button.components.subscribe-balloon.component\",200:\"features.chat.components.new-chatter-ritual\",201:\"features.chat.components.chat-viewers\",202:\"features.chat.components.extension-message-card\",203:\"features.chat.components.viewer-card\",204:\"features.rooms.components.room-picker\",205:\"features.rooms.components.room\",206:\"features.rooms.components.active-room-button\",207:\"pages.code-redemption.components.download-key-code-page\",208:\"pages.code-redemption.components.code-redemption-redeem-page\",209:\"features.campaigns.components.ticket-description\",210:\"features.checkout-payments.components.checkout-modal\",211:\"VODHighlighterPlayerType\",212:\"clipsWatchPlayerType\",213:\"clipsEditingPlayerType\",214:\"clipsEmbedPlayerType\",215:\"clipsViewingPlayerType\",216:\"amazonLivePlayerType\",217:\"branch-io\",218:\"sites.dev.pages.extensions-enable-monetization\",219:\"sites.dev.pages.drops-dashboard-root\",220:\"sites.dev.pages.games-list-page\",221:\"sites.dev.pages.app-edit-page\",222:\"sites.dev.pages.app-create-page\",223:\"sites.dev.pages.apps-list-page\",224:\"sites.dev.pages.overview-page\",225:\"sites.dev.pages.bounty-board-analytics-page\",226:\"sites.dev.pages.bounty-board-campaign-manager-page\"}[e]||e)+\"-\"+{1:\"50ad9a43cb0dd4ffaf9f\",2:\"0315421086a9accb7369\",3:\"0242a3373e438dd526c3\",4:\"e651e70302be0f1cb4e8\",5:\"dffd1bb9fd51560b1968\",6:\"162fd3da82c309f79167\",7:\"9befb5e50bad3cd64ca7\",8:\"498db67e5466912b325c\",9:\"d984ee65de982bef5a81\",10:\"8f9b8fa29234e4960883\",11:\"2f69cea048fcfce92488\",12:\"6bf7ef2408c28b26db3b\",13:\"08758821c28ab01dbc19\",14:\"e4fcfc7612ea899a309a\",15:\"e52211ac8bb85bf6eeca\",16:\"9c02444c36a591a91cb4\",17:\"d95a11cfbcd7c865d8d0\",18:\"1e1e4a0e528280c13b82\",19:\"ff6726c9d5a7d01100da\",20:\"f74bec74b7d04a4fb0c5\",21:\"698e7035f47ddb28f750\",22:\"1cb3ce1351440d6c9ad4\",23:\"8d94d3a0b9fe9bb3f740\",24:\"6e50a47cc98a1f097fe2\",25:\"866ad5c4628d67beb978\",26:\"d648801096b37fa3e6f3\",27:\"67397f4ed69c562f92e5\",28:\"53cddfbcac01f4189772\",29:\"3826ffd3f99c28f8ba99\",30:\"f68aa294886fb731c44d\",31:\"6829c06db3f8f9a66b31\",32:\"35f38739f0051951aa9a\",33:\"442545833e5726670dcf\",34:\"b4a33c6a58cd981b4fa4\",35:\"ca058c8a9461ce81bbd1\",36:\"4991e8b3abdd0be91c13\",37:\"10d097d3d35b3b7ab7a5\",38:\"b955e232cd2e3328105b\",39:\"9e20117bb1e8836d6381\",40:\"298bed944c278f300044\",41:\"386867a7e1a9079cb306\",42:\"e786c8126da171eb5423\",43:\"e5b50f7a4ee2b5cfb941\",44:\"690c7b2de9b460bac7b6\",45:\"a5abfdc244153639cb53\",46:\"089fbfa8576064b8e2f9\",47:\"8ce5e2ea2dad20b67e35\",48:\"76d19b3ced7a1facdac2\",49:\"7ee32b76d80e8884d528\",50:\"8ad38d4179a5407fdd8f\",51:\"c34a3ec40328ece227a8\",52:\"496c87af1ca9bbea076f\",53:\"384b32d1737008fb5212\",54:\"1e8fc876a64bbc38df1c\",55:\"3f50735443656264dbf1\",56:\"102bec0bd24c17c19613\",57:\"85f2de025094dc63a17c\",58:\"a3f3af9faad1f604cfe9\",59:\"9c2f67c86dc8c19021a2\",60:\"d24380d8d873a6c5f8d2\",61:\"35d2998ef99792d6a24f\",62:\"5717bfe0f586e7ab1481\",63:\"b6fa4f65d4f9d68cafec\",64:\"000d218ac7c5b52e6ee2\",65:\"d3308650d5d4ce3ce66f\",66:\"dc586002ff814fcd4545\",67:\"f38864c7b228f0728d9d\",68:\"b8dadb0095926b0cb7e8\",69:\"a3da5f26700c94479937\",70:\"1f41c135a6104c9ba193\",71:\"78959719c56e6ddb46ae\",72:\"33014cef1c606cd68eb5\",73:\"9bb37706787e2b91bec1\",74:\"b02471657d6fa39d4326\",75:\"435a452580c1805c6f4c\",76:\"f314321d719829002f26\",77:\"66292ec3d9b1694fffa4\",78:\"90bee7e016142aac3ddf\",79:\"cd03109fb509f9884835\",80:\"9236126cb791b7a71b3e\",81:\"f2ec8d5e331a11a82c88\",82:\"0c5b70d429e6ba476712\",83:\"b405885ce4198d5bde11\",84:\"3ff1c5b96fd8c20b1c33\",85:\"bfb4537266f2b3148587\",86:\"fc6e3c76d166b4dfa3bf\",87:\"795f37bfdae5c044f74a\",88:\"4e6016f9b6e53f0931cc\",89:\"e55c55322d9ea63f9e32\",90:\"a2305602f003deab17ef\",91:\"94791fdede1095784ae8\",92:\"fae72beb28489a7c51e0\",93:\"8064eca3dee8813ff561\",94:\"f7c2497449446c678510\",95:\"e100b632501278c1e872\",96:\"4e3357b3749de714de72\",97:\"51b5b7352e3da43a9240\",98:\"dbeb534f6b022540f3d6\",99:\"1b70fd35bf2c82ef2c18\",100:\"1f1dfc7c5b546d4f542b\",101:\"943c02099998d552634c\",102:\"b9c5b28dabc1338af531\",103:\"2ef51f0cde948bfdaa99\",104:\"465eac015397bb4cd63d\",105:\"14e9576b45064945e71b\",106:\"060544750ec78738b359\",107:\"54dc784b3ebd088cc5f0\",109:\"bdb7fe7fc08dbb74ea55\",110:\"468df2b393c175a12b6c\",111:\"e1cc6527ea619d439d6a\",112:\"5024c70d35a894015b8a\",113:\"b3c5c3dfc0f5bfb5335d\",114:\"7c32e49ea5a4bccb3588\",115:\"12d5db5b056b63eb2315\",116:\"55269e7bbdfaa31256d3\",117:\"62b832a97fafc284bb53\",118:\"6a673964d065d5292807\",119:\"34214165d2e00c0c97d9\",120:\"9e2cecf49cf190b62447\",121:\"42ebf0ffd430c393e9d7\",122:\"571985cbd3ffcc3a3cc3\",123:\"c7f16be7fcbf8c09e09d\",124:\"a6a25e645b88f43e0a0a\",125:\"0eff3621fb250947f44b\",126:\"dd8892509de17c64c8ee\",127:\"fd576b3d6099c6ce136e\",128:\"2da8b4229fad638808bb\",129:\"446fcc1e6a605a7ff462\",130:\"9318ff07a42e9c1ec8f7\",131:\"d7760e05be0751011d56\",132:\"b160446411aff2ec1fbc\",133:\"4eae1061699dcca514c5\",134:\"5bba6bc6eeaf252e2e14\",135:\"bfeedcd8b2f10bf9e763\",136:\"863c4d05ecfe24c6e6db\",137:\"6b9073eb0deb1a88e3fb\",138:\"cbcd763ea79708e83e53\",139:\"7588fc14fc773ae180cc\",140:\"c1f3ee9e427e88386736\",141:\"3ec214dfcf87cd87dfad\",142:\"08580307c9a2cee4ef67\",143:\"ce8fc2c4e166ce15c25f\",144:\"35d3342fe5d3633a1762\",145:\"0413a1cc4312786f7182\",146:\"11cc6726bd0f26f60c7d\",147:\"d18ee692986b734b300a\",148:\"5b0d70996ffb7a188681\",149:\"164e7d4c0ecf634da5b2\",150:\"54a049156e1b1f0392b5\",151:\"95918ad719c73d97c2c7\",152:\"f72bc9f04ffab91b6fa8\",153:\"90770c291df4c71b94e1\",154:\"87b5cf6944436d3ccb29\",155:\"bd2853d6d59257b3263e\",156:\"0bb0d4b808d713784773\",157:\"78d3f074d81824ad64e0\",158:\"d31b8ce03dc05064b1f3\",159:\"cde61d33993b4d8c04a9\",160:\"74f5106501d3e19bb4ec\",161:\"f8c816a7208253838364\",162:\"36e480e079b2b6e8f799\",163:\"57b1bf1771b6cef1717e\",164:\"0a0089763b8b0a1a4088\",165:\"8b5664ef312e742cf184\",166:\"8a7d3fcb10470ab51912\",167:\"204b4cc44250bf9c3756\",168:\"fd3bf90ba48dddf46b55\",169:\"58ec079c11cc524c53ef\",170:\"d57f45d7c8362c66c1b6\",171:\"68e33646740a52d930e9\",172:\"b887c3236295022f9e5a\",173:\"3e8d7ceb9a454d68734b\",174:\"d24c384e1beaee517fab\",175:\"a37b43869c2220311106\",176:\"072a1e9c4a4e259e8353\",177:\"8a2ce0ee40cb9560e30a\",178:\"3e0029e3fddd6dd7d3c4\",179:\"44aedfa228f1e348d8aa\",180:\"3a412427323075737bd0\",181:\"4d3e1ee197a3464a3b0c\",182:\"d65529fb11f8e30211d2\",183:\"70d4d9e3ed81d6a22076\",184:\"f0df25bcad1cf4f2b220\",185:\"10a444fc7ba5b60a9a84\",186:\"e7172a06bca585fec48a\",187:\"71ae59ccffe807f1adfd\",188:\"eb0f58db920d3f384902\",189:\"3c79f0dd07d82be94900\",190:\"2effda477ba7ea380fb9\",191:\"520bdd1f4936f4e52695\",192:\"e20415e49bfaa0b8b261\",193:\"0b01d800332d1b67e765\",194:\"6c90771aab782a982ae0\",195:\"fe0f572eea2331003cad\",196:\"206270a72c37ecc42f2d\",197:\"f97b269c46107bf4479e\",198:\"e6b66ad37b5a27205da2\",199:\"c126bc9a217376286d5a\",200:\"5965d0be6f86f1e5fe9e\",201:\"ca38032d7a270e855535\",202:\"cc58aadce54e27d6ff65\",203:\"1d4afed70683fe9cf1ca\",204:\"67d74d5b3c965fddc123\",205:\"b8bf3680c4263946d6b0\",206:\"496e2c54eafd28689dfa\",207:\"b91783b7b3d8a4571410\",208:\"a6a01af09ade5d35f023\",209:\"aab6be350761c265716d\",210:\"92e709da246331f2669a\",211:\"9d1f129b396007bc6ece\",212:\"32814229c91c1d59163e\",213:\"cd9ea35f7b5c08932992\",214:\"5bec836bd1c563510ec9\",215:\"9901caaa129a0fa25ce1\",216:\"b64efc4cc3345f1ae775\",217:\"4d0eb3afb7fe65a6fdcd\",218:\"9cac0e7f1aec23b40db4\",219:\"0e1197c85c2facbee452\",220:\"9b91aa1c0d3836dcd917\",221:\"11a0f936ec9c28c7ad03\",222:\"31091aa5faa3426fd483\",223:\"63d5c2cde3940a49077e\",224:\"f7fe355932dbca97b60d\",225:\"54f64ddb05eb81250aac\",226:\"67f481506db94846c5b1\",227:\"20738df9a2337328cc50\",228:\"8a5249799bd73bf30d23\",229:\"75fbaa79f1e0ffcfc038\",230:\"1831fbe2dd67736b70d2\",231:\"e7f7d7451f209fdbdbde\",232:\"92a2e86d7c032a095032\",233:\"45f576b88c6c08448277\",234:\"310579d34801144312eb\",235:\"6819d5cc21483fde026b\",236:\"8d598d9105a519b51b1e\",237:\"f3a6f202417c7d009159\",238:\"ab37bc43fc266ea97ee9\",239:\"d544142160169b6dc50a\",240:\"58bab8a8e8e074af3d5d\",241:\"160734c355ebad46c934\",242:\"020c2dc86f1e042c10b2\",243:\"c2abb61680803614f76b\",244:\"8bfdd1beb2bae09469eb\",245:\"56c5c625fa5a1ac5cf0c\",246:\"d3df1b35103bbf8f3ba6\",247:\"8fb7e8324679219b5937\",248:\"da1ecade940c91a8fbef\",249:\"a166b73451e5768f2245\",250:\"acc3b9e98f216a57d9cf\",251:\"ecef370fad78bb8f92e5\",252:\"da32664028163df3ccc8\",253:\"18efc5c8e8c9367c6ff4\",254:\"7593627aa203a62b8ecb\",255:\"3dfcda7d7c4c1093ef3f\",256:\"dcced3d0532d9b9fb47b\",257:\"8baab6f0d761eab73d6a\",258:\"f11de361651e676afe85\",259:\"565bee8fcef274dbf582\",260:\"72c4d3f86734cba41caa\",261:\"dde8a6bc0feca9eb8918\",262:\"62430a33afe6f9003131\",263:\"b6616c81d00ccffcf69d\",264:\"680ec9aab24d6683a332\",265:\"9223c1f47ccfcce44cc5\",266:\"59be037cf1f7c9821db9\",267:\"0c69a416df0ca9ca7d68\",268:\"6d644ae3d391fd09e5a9\",269:\"9758f602fac33ac09d6e\",270:\"ed29c294c4c01a701401\",271:\"16814521e77f29b56c24\",272:\"05c0d2868c64635958ef\",273:\"80b04e186bc9b7360c31\",274:\"5bd7554be969b1e068fc\",275:\"c352784f1b35637e309b\",276:\"9a4d095571822e0ae48e\",277:\"6c11241f0301f10985ac\",278:\"4c3d2d13eda0dcd5e22d\",279:\"51a429a66fa4880f383d\",280:\"6588305e465c72a4a904\",281:\"e2e3a98ba0e1dfda73a4\",282:\"85178bfe47da9314a12e\",283:\"6ee565807e39bcda1b43\",284:\"cb215f05d188c4748fbb\",285:\"2d93bf3c97ccaaafc707\",286:\"909cd142b11bad1b963a\",287:\"5b22a99cef10e7b4bf63\",288:\"170d65fcc9cda9f2cc49\",289:\"4f8e6c93ab4c9e99d202\",290:\"a325f34514d7e4d64424\",291:\"1294cb79fec94005d35d\",292:\"475bd5162e8ca94b43fd\",293:\"ca5bbd333ac9de0b7551\",294:\"e20341dc6f67eb2fa67c\",295:\"88134490fbca80661025\",296:\"e1e9c196f08c8b687966\",297:\"d450201deeb3edc9aa1d\",298:\"393829f655c208c81556\",299:\"eb3583e8f4f5816f71d5\",300:\"52ddcab496c1b0c005dc\",301:\"129d12737386b6d6a633\",302:\"69fd2531681c60871f65\",303:\"c35f973eaf0a589342d3\",304:\"0fb2fab0e42a40c8e91b\",305:\"304981edbf26b483b205\",306:\"4dac195db545c932791a\",307:\"416d40381cd005721b4b\",308:\"ddf6b767044ae7c44387\",309:\"3d64588deb2b69f25903\",310:\"93c748fea39c3729dd93\",311:\"258bd0ac6784875b18b9\",312:\"b4b364373f2e46db06b4\",313:\"ee4f1e7308efea479917\",314:\"9a695c4962f170fa213f\",315:\"ea5aaf70ee8725ee6237\",316:\"903b46d54a5efa6a0e1e\",317:\"bc752db8fb9a2cbe5d98\",318:\"011c029d7b708e561364\",319:\"0e0b698c7b97307068eb\",320:\"60e00c0e78f9fc69ae3e\",321:\"5a4371795f6dd8070880\",322:\"f244f2d661c979a09ccc\",323:\"01f1be63574d3b23fdd2\",324:\"66a34823d34439ece577\",325:\"cb4d7386e50eaa292cbc\",326:\"355a7dfe15a06b076bf7\",327:\"25ba73906aa7bf5463bf\",328:\"0f815168b7d506ae2520\",329:\"b829d23f363046b77dc6\",330:\"32b3f14dc15253132d33\",331:\"53542a8d961c325fb2c0\",332:\"31479c3d69c275ba51dd\",333:\"b419afd6e68ddae27c68\",334:\"8e43986fd7226a886750\",335:\"94363c248856d4bf7725\",336:\"f438386de8a34a27dcaa\",337:\"48803aaad552b8ddb47a\",338:\"b070c63a7868616a75b1\",339:\"8bffe659847442b8d313\",340:\"109d558550388b73fd55\",341:\"6bad7818c29ac0d318d0\",342:\"b82fd535f804bc5a7605\",343:\"fac268cf9ac61c7ac7df\",344:\"3483a1900007cd945419\",345:\"4959cf42b7cec0e52baa\",346:\"e9a671920d2c0de8891d\",347:\"0e0d5195a8f56f7c9911\",348:\"979d8160c1fc90a006b1\",349:\"f502c360f949d0ede63d\",350:\"37753c7eb07e3934f33e\",351:\"3cf81e6de1abb0422490\",352:\"85f6c7b95242c6dd9c1b\",353:\"1bf4ba4d83b257436e6f\",354:\"8e3faeb477ec92e1cc1e\",355:\"960340079eb5ecb7c3bc\",356:\"cf0af611321831622dfd\",357:\"557e4e8d2e9ee5bf700e\",358:\"99e860f3ce9cda0cb804\",359:\"6a3d875ee1af375541b5\",360:\"8faa7eff522f4e84256f\",361:\"20e74f6103cdb63aabdf\",362:\"e16a43f1be0c2ea0a15c\",363:\"83157d43657ec2f246cb\",364:\"ee4367984d96b7324167\",365:\"0207d71c3b461c40fffa\",366:\"9a951cf8d3616ffa8720\",367:\"b9a980795d1cce67232b\",368:\"14d3e4aa2f959f596e46\",369:\"e9593c75c6641f0ffb66\",370:\"b53d69939d56ff51a2f7\",371:\"a0cbc87f86d4e989bbb0\",372:\"3c99826f613792b967c6\",373:\"766ae07dae6fe0704f6c\",374:\"e084fcd8261c60c31965\",375:\"ae286ea7813dd660fa17\",376:\"9c51add2099f856a0d19\",377:\"bf9b82090a0963cf4fee\",378:\"79c2a6b79f8cdbe5caa6\",379:\"9c16a0f1b18b9d5dba22\",380:\"3b235692b2b65215f7da\",381:\"9d3604555a9bf423bc58\",382:\"f795f8134a20ac3197c6\",383:\"9643176948fff51fb5e1\",384:\"a8997c1c6a0c19b69725\",385:\"968ade481e4fbc170769\",386:\"a8ff1c9ec91e6e21f471\",387:\"5e965403730290b79cfc\",388:\"32bdc275cf74b17601d9\",389:\"7e6e93f3c7cf02508f60\",390:\"2ea8d9a3c83ca0eb3de0\",391:\"1ee525f17f387412a17b\",392:\"7ca1f7907b302f09a3b0\",393:\"8f919086e82ea0d397d6\",394:\"b97183bcfb9a1402aba1\",395:\"e6c399b355d3a13e6184\",396:\"1ec0d5fbb135f3e3d012\",397:\"1b1269e31674a55851c8\",398:\"47369ad605440772b57c\",399:\"884ab854504deee3a338\",400:\"1514b5ef19dae3ac6c28\",401:\"6fa3ec183e64ac0ebbfc\",402:\"bac944e3945a18d378c4\",403:\"51c423c3a525713e35f3\",404:\"b606d17b1d9b124e6b71\",405:\"9324205ad3be2b3890a4\",406:\"e7f9dcb66ae05ff4aad7\",407:\"b0e04da6580c1f48d9fe\",408:\"f9ca3740997a156c4087\",409:\"e39808d92534682d9d4d\",410:\"9ec4337eea287c995b9d\",411:\"c1b2a37df49c952c7300\",412:\"961f31b5cf768f33c0c9\",413:\"8ba4ae1d7d93bb9fec3f\",414:\"71ea6266177609ebcc2f\",415:\"a11591b49c4efd5bb37e\",416:\"6604a08264b4d1d1c1a7\",417:\"b7ce4311e42e2adddf8b\",418:\"2c1b0b67bf3ab38badcb\",419:\"c51ec0fcf6d8268f8f49\",420:\"9ae84c7b3ab149e6e8c8\",421:\"ee17c0f90566729f48fe\",422:\"4bf45ac501fb7ff32b37\",423:\"767a0e8e89b4ed41e6e7\",424:\"e8069a7fec0dd30d7ca0\",425:\"0119ab1b2af1aec4b631\",426:\"3ceb4d34087ed67b35f7\",427:\"2856eeea3b765269783e\",428:\"f5dcfc156478c6caa06a\",429:\"0489d6447ade7bea78b5\",430:\"1cd13a6091d2c2eefc8b\",431:\"923dbb44b4017b5a668f\",432:\"41309211cf288980323b\",433:\"14fcb7fa8b8cfe9c538b\",434:\"bb09ef9188f2a4652a47\",435:\"7ebfc15b306d04d084d4\",436:\"13783cae82caf934c52f\",437:\"75061397bca20132d8bb\",438:\"c226517aaab82be617e1\",439:\"fa2ecf9fe8cc6c75d144\",440:\"fa7dc35decc1c9ef4776\",441:\"69a6496265162ab0cde2\",442:\"2e86b91f8d3374755013\",443:\"aaaaf37d7a03fbfba686\",444:\"721275de6c6781019410\",445:\"074d294cbd15463c175d\",446:\"f7ca0b66a5136167ae64\",447:\"5fe6bb437f39c5e38113\",448:\"d3479b65c9cea4d41f59\",449:\"6530776183e260bb4cdb\",450:\"6a1083fcf0fcab5be734\",451:\"ed476265c1307ccedc68\",452:\"7dbdd0a1ff313e12f3e8\",453:\"ff2fdef187da1b06d680\",454:\"4d6db19f4ea2d839bc85\",455:\"dd00bf499a55734cfbae\",456:\"6184517858a62c08f9df\",457:\"53bf323add73394f0e9e\",458:\"f32214788f766c554f1f\",459:\"9b3033a40a7c30d56cec\",460:\"6aefe96db6f81de3e045\",461:\"06565e22eae97755536a\",462:\"5ea1f2ad3d5248029a18\",463:\"780d929775e8521ec188\",464:\"08e2fe56b66d0cee78e6\",465:\"643b5d14549600e082a3\",466:\"86b6da5465a20f0a24e8\",467:\"49a9e84d0dd63dbb98c0\",468:\"0a1fb7b568df26a347ae\",469:\"5a781a9c5e2911573f37\",470:\"a7b62034556890003eb0\",471:\"23dc310bbda7b3320e0f\",472:\"fb32bfb3ee36f6b0b313\",473:\"dcb0652d2ae49ea70b22\",474:\"3459d9da1d102ea19d96\",475:\"e8433f9c41df800b3d8e\",476:\"cf99c09fbb31dbb5070d\",477:\"1d3440af4bcd39a25671\",478:\"e6402063fcc656fb86c8\",479:\"2ed50333e60a6703d3bc\",480:\"222fa3dee5995b5c073f\",481:\"e9712b23a0e7db138ffb\",482:\"adcfba6b6521a2c25f17\",483:\"62b8f050ee63ca8d83d5\",484:\"faac46bfd1aade24e6be\",485:\"bf9743b5d34f4adf8216\",486:\"c9439a85ef1a6cc7fd1e\",487:\"1595898506d8a368c0a5\",488:\"471d63f4ae40aeea1b20\",489:\"32c475cf1960acb1bd2e\",490:\"3fc60cea8af9cff7d5fe\",491:\"91e6ccfa118997b973dc\",492:\"f1e215c605dbba2b5592\",493:\"83fe76b44e818d4bd80f\",494:\"7546e49a0413f75fbf2c\",495:\"cf3b25de1270d502bb3c\",496:\"4fb4dfecd6fe28676065\",497:\"c5944701a5247f5644fd\",498:\"262bfb69cd515d457246\",499:\"901b6e7ee77d12c4baa6\",500:\"16dd05dd532cd5cbe1b9\",501:\"6041700204f64dc14441\",502:\"075ecdb3104fb07e285c\",503:\"ebb9775c0046f7c5c9d0\",504:\"be7515741485b4dc5814\",505:\"d90d95b2691bcc100441\",506:\"325963e179a08178b386\",507:\"7f62337bd058380b9a58\",508:\"c472b6bbf94699e264ee\",509:\"ea05252c988fac2a372e\",510:\"73ac6f7585321034a356\",511:\"23b288fa4d249491c3e4\",512:\"bbb494d7d4a766d2944a\",513:\"1c65465b8b4a56118edd\",514:\"d25abc83d6195af42f08\",515:\"5b71fad1aa90a40f39e3\",516:\"3664e2c91013f17ce6e2\",517:\"9a2021228a852ad6c065\",518:\"a943c6c4d190e664d571\",519:\"72a6a09e8632dd4af8cc\",520:\"091d1d8e3159a8b29275\",521:\"1ffd3b737c0356d7163a\",522:\"e3be260558628adf5eb0\",523:\"a5f4df474a3334b7930b\",524:\"aceb6da20428e1fb453e\",525:\"731122aaaa99934d26c2\",526:\"1f94eaf527e58d660485\",527:\"1f3328f38d760412837c\",528:\"a9404e88308384dca8cc\",529:\"e036294c3528f4a5d13f\",530:\"a0d9e93fb6b65fab72c9\",531:\"d8a5564e219cd1a2befb\",532:\"5632362f80a3ba03b4f2\",533:\"a1705b81149e5bd555d0\",534:\"d01886d57f45bf4cf165\",535:\"2b1eafb7a780f03963b3\",536:\"f5386fffa663000d57f8\",537:\"b537a474fe3d2e28c282\",538:\"f0ff1ca9b94bc524a64a\",539:\"51f43fd5a2d48a756764\",540:\"0102ca6e29ae04f70f78\",541:\"ccc619fdd2297a484684\",542:\"8984a32dc8e3909583f6\",543:\"6a25e022386f3bab4792\",544:\"c9747955a822a93499a2\",545:\"17e198d7057c6b3bac36\",546:\"b61fdee034c3a83fe556\",547:\"982f8b0d5b7949cec4fe\",548:\"d0533cc3fe4f06339ed3\",549:\"f232f1d72114a7bcf9fe\",550:\"6725f1af74124ca6378c\",551:\"1f5fbdfbaf72b3135a98\",552:\"962e84cbcba7b978e2c0\",553:\"8a504ed49b1aca469377\",554:\"3f5f822dee6c789a06f5\",555:\"05a5d769c2d7a214aa11\",556:\"17923fdeae4dbb4332f1\",557:\"647d3a3963c196adb011\",558:\"982c98a6674cdd8771d6\",559:\"ac51fb93d4eb8ef53386\",560:\"192ff648c957dd3e27af\",561:\"eb69d48e9c8fbb451e10\",562:\"64ca2891b25339653bea\",563:\"bc2d174918c5e810319d\",564:\"ab8aa48ce0dfc7ac70e7\",565:\"868f64b9064bd44bffc1\",566:\"9f4a4be1b1cb7672a0fe\",567:\"5a13c46e39ac6beac2e3\",568:\"1f62fd9a33639b8b621c\",569:\"495fca117295ca427495\",570:\"0092e215363a81d5c65b\",571:\"3acffc562a83730e7e67\",572:\"2bce9e1b08ca55b17cce\",573:\"f22217184a0be77c3a6a\",574:\"66a5bb04c8f0de5af764\",575:\"e27ca61f392550651774\",576:\"98b809dd173aa64de4b7\",577:\"4138528dcc746b2d56a9\",578:\"1a85787850b6181975e7\",579:\"62edc68aa25bb6e02f5b\",580:\"a85bc28e21fd3b9a5122\",581:\"b9ebfa51e38ded172f98\",582:\"b33b7c180ccb9da889eb\",583:\"16a37db40b8adfc5cd1c\",584:\"4fbe279eb013ba5088cd\",585:\"b59b51d066b2a9430a50\",586:\"9c206e2ad1f444d20aa0\",587:\"838ae9a85932b27b4ecf\",588:\"bdacda66b6b2e9312c66\",589:\"895af09cb2e1899bff91\",590:\"2d1e01da4e4c9d6091d0\",591:\"92c42c61ea9b52702e51\",592:\"f1d36f1910fd494e2a99\",593:\"52a3b70d422d10de940a\",594:\"1e1ce98adf75452a57ed\",595:\"e976276d77f333b97b40\",596:\"efddfdc08436673a03a5\",597:\"8e2c2ccdb83f638e5d9e\",598:\"fb3fbf1bde5d4f2b188e\",599:\"1f8cacae83a0f55e98cc\",600:\"d93fc3e8ca42b7f2adc6\",601:\"2353ecc08cf2418686e8\",602:\"61d67d060d091f0f2868\",603:\"f1f0d523d39fb266d369\",604:\"0e61dd48c935e63bba25\",605:\"37d5995f949d56249d97\",606:\"64719407a139730e8438\",607:\"661c4b5bc70e79b14250\",608:\"a44204b1690c9a4aed60\",609:\"78ba3e8b967e24e160c4\",610:\"fa9ecbc72f1a005527e7\",611:\"19cfdf53c72289604545\",612:\"038f08ce1a22312372b8\",613:\"00c86115b4b88d817915\",614:\"ee203feba06e0b16846a\",615:\"d2b07e956a43af717c85\",616:\"8533615fdf925a81e531\",617:\"c2d9c17f228f4933aad7\",618:\"05303b8ecc14f256a12c\",619:\"b107da731bfdb6e9f8e0\",620:\"93e88e6072185839d3cf\",621:\"a2b16ddf4dfa8add8b2d\",622:\"777ece9a2a724d1b91ce\",623:\"4bd4d56352455184a2f1\",624:\"eda8f4f63e6e42056b38\",625:\"a0978975daaca202eeba\",626:\"ccbddcfaf27c6a41d0db\",627:\"0798b3ef57598572d6ac\",628:\"634ff452e55af08917db\",629:\"d9c0e56dc787ce18553c\",630:\"6a77045be6a0b962be31\",631:\"2c5e2f506d94afa6278e\",632:\"2cdbf18e41d4c4c14350\",633:\"4bb1dc4e0e7100c3960c\",634:\"7af6d657ccaa7afe1edd\",635:\"9269e022d8dde5c2a3f5\",636:\"7ac17550e2c6e29db75e\",637:\"45f8a557d1c4f716ac82\",638:\"72ad92a5e3e84cf34276\",639:\"b7b765444d1a656e2e53\",640:\"f2923e0ab24dd26d674c\",641:\"f2564a408b60acef56b2\",642:\"94754dcde54c887f28be\",643:\"5444fc5d530214665d99\",644:\"2e722e0920836c9b856e\",645:\"39d9beb3cadf6c48081c\",646:\"1cc6160723afe2af4d60\",647:\"14ff4e08846dd9d9c1dd\",648:\"e91a78c768116c434f3b\",649:\"5b5467900d4c07ae3bf8\",650:\"5abcfe9b7bd5d894bcdd\",651:\"6b9f45aa5b576233a67d\",652:\"bd6207ff1ee5d560fcbe\",653:\"dcdb53c10050db21a4c9\",654:\"25cd006f8156b2b8b530\",655:\"de3aed76c4b967dd112c\",656:\"92fedf8c06f2115a36a9\",657:\"ecf2aae34a439f49e5aa\",658:\"ee26c092d12929adc3f4\",659:\"c2b4c891cadd4275e68f\",660:\"654140e2225d0dc5bbcd\",661:\"199ed48aa48fc3877a89\",662:\"93418983d607a39c5e8c\",663:\"5155d3f48e18ce40c4cf\",664:\"ae42d585d5a0ec4d12e0\",665:\"5d451f2ca46d07c440a0\",666:\"1329667e72f5d4581306\",667:\"0f8796366aff48c5efd7\",668:\"132c1e5a5aa9304bfe2f\",669:\"5857c2817fa804601239\",670:\"7d5bcf0e7156e7e8e3c0\",671:\"110a653ace71cb3c5f77\",672:\"6ae6ec33ce3564376d6b\",673:\"8a4c4372355561323633\",674:\"49c1389a010933f28240\",675:\"422edd6e0d6148d01191\",676:\"dd1a2b50aff6991a06b8\",677:\"3f4cf5634ca0c20dff10\",678:\"ee8ccb12f14dca1aaa78\",679:\"0b67a5b8ca4d1f28421f\",680:\"388ac1eb6b373f41f42a\",681:\"c426599a79765374e27c\",682:\"965539354a68d4565034\",683:\"c37a5db0d4a614f38c0f\",684:\"c57991b18ac290a4f194\",685:\"aa454975d3e2457ee20a\",686:\"1102787ead600b233e02\",687:\"0ec7c4b3d3ea13d5bb9a\",688:\"5c27b9434e9c44078d98\",689:\"f4da20c0aa6a45318317\",690:\"bc07a17dabd003a659ae\",691:\"ab1314be5de422836191\",692:\"29cbb1cf7950ce99cfec\",693:\"5372d0ed45b599926233\",694:\"34faf4b7914151572936\",695:\"2e770567e4c52b295af9\",696:\"5e9519a554a920639fe7\",697:\"4716925608b6a7a265ea\",698:\"39dc5c9be6f8d6a614e7\",699:\"02331675fae131f50cc6\",700:\"17fdc81ad736b7b76b7c\",701:\"a760c239487bafac1685\",702:\"363bac6205bee462f2f1\",703:\"aaf6494b38274d66953a\",704:\"3d601d18116eb6b8d1f4\",705:\"f8daa673cf35b58117e5\",706:\"b6f7e8aee5cea316e4b0\",707:\"f091248f3a3e02c20128\",708:\"6a6f74ec6b33ab914bd1\",709:\"05348cb9a63f433b5cb0\",710:\"fed469518785d1e29545\",711:\"1ca4af73264916c87232\",712:\"91fe0d7a6aed933dd467\",713:\"17e4ea8bccc38d9ca36a\",714:\"565ca4013d55180ad425\",715:\"37cfd43adaf2609633f5\",716:\"858f4c07db2dee5d4ac0\",717:\"257a6f552c2b78f23320\",718:\"3f101eecc60d4079ecd2\",719:\"658fea6e2f5c618ea2f9\",720:\"b4c43d9dcd7b360a38c2\",721:\"3358b1398fb6a62bb585\",722:\"0d9bd9b3f9a2bcbe4c19\",723:\"868f496893a8cab50dd0\",724:\"594f685be73f75568a05\",725:\"8036dd38d27223fcfcef\",726:\"617a28ec886e9b554dd1\",727:\"9543a3861d5e2005b07a\",728:\"a67041aad9f55a47d3d6\",729:\"25fb81c94ec812813b51\",730:\"be77f8f5ee26920ab4ba\",731:\"67b4479e53e0e7cdb711\",732:\"eee6e9cb1980a1a1dbd5\",733:\"780218ab5a012b649ddb\",734:\"0a5447972129191bfb92\",735:\"38a115461be406b2702f\",736:\"92495b3c44e5d456ac63\"}[e]+\".js\"}(e);var p=setTimeout(function(){c({type:\"timeout\",target:n})},12e4);n.onerror=n.onload=c,t.appendChild(n)}return Promise.all(a)},d.m=e,d.c=b,d.d=function(e,c,a){d.o(e,c)||Object.defineProperty(e,c,{configurable:!1,enumerable:!0,get:a})},d.r=function(e){Object.defineProperty(e,\"__esModule\",{value:!0})},d.n=function(e){var c=e&&e.__esModule?function(){return e.default}:function(){return e};return d.d(c,\"a\",c),c},d.o=function(e,c){return Object.prototype.hasOwnProperty.call(e,c)},d.p=\"https://static.twitchcdn.net/\",d.oe=function(e){throw console.error(e),e};var t=window.webpackJsonp=window.webpackJsonp||[],n=t.push.bind(t);t.push=c,t=t.slice();for(var p=0;p<t.length;p++)c(t[p]);var r=n;a()}([]),Object.defineProperty(window,\"webpackJsonp\",{value:window.webpackJsonp,writable:!1,configurable:!1})\n",
      "  </script>\n",
      "  <script crossorigin=\"anonymous\" src=\"https://static.twitchcdn.net/assets/vendor-93a703d617d556cc0e7c.js\">\n",
      "  </script>\n",
      "  <script crossorigin=\"anonymous\" src=\"https://static.twitchcdn.net/assets/core-5a478e7b4dada7b70626.js\">\n",
      "  </script>\n",
      " </body>\n",
      "</html>\n"
     ]
    }
   ],
   "source": [
    "print(soup.prettify())\n",
    "# doesn't load the whole script"
   ]
  },
  {
   "cell_type": "code",
   "execution_count": 57,
   "metadata": {},
   "outputs": [],
   "source": [
    "from selenium import webdriver\n",
    "from selenium.webdriver.common.keys import Keys\n",
    "import os\n",
    "chromedriver = '/Users/dynogravelso/Documents/GitHub/kojak_twitch_prediction/chromedriver' # path to the chromedriver executable\n",
    "os.environ[\"webdriver.chrome.driver\"] = chromedriver"
   ]
  },
  {
   "cell_type": "code",
   "execution_count": 87,
   "metadata": {},
   "outputs": [],
   "source": [
    "# testpage sneaky\n",
    "url = 'https://www.twitch.tv/c9sneaky'\n",
    "driver = webdriver.Chrome(chromedriver)\n",
    "driver.get(url)"
   ]
  },
  {
   "cell_type": "code",
   "execution_count": 91,
   "metadata": {},
   "outputs": [],
   "source": [
    "# scroll to the bottom to see if the stuff loads\n",
    "driver.execute_script(\"window.scrollTo(0, document.body.scrollHeight);\")"
   ]
  },
  {
   "cell_type": "code",
   "execution_count": null,
   "metadata": {},
   "outputs": [],
   "source": [
    "#cleaning"
   ]
  },
  {
   "cell_type": "code",
   "execution_count": null,
   "metadata": {},
   "outputs": [],
   "source": [
    "# eda"
   ]
  },
  {
   "cell_type": "code",
   "execution_count": null,
   "metadata": {},
   "outputs": [],
   "source": [
    "#"
   ]
  }
 ],
 "metadata": {
  "kernelspec": {
   "display_name": "Python 3",
   "language": "python",
   "name": "python3"
  },
  "language_info": {
   "codemirror_mode": {
    "name": "ipython",
    "version": 3
   },
   "file_extension": ".py",
   "mimetype": "text/x-python",
   "name": "python",
   "nbconvert_exporter": "python",
   "pygments_lexer": "ipython3",
   "version": "3.6.6"
  }
 },
 "nbformat": 4,
 "nbformat_minor": 2
}
