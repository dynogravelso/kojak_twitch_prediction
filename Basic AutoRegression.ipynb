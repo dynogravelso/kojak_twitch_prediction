{
 "cells": [
  {
   "cell_type": "code",
   "execution_count": 2,
   "metadata": {},
   "outputs": [],
   "source": [
    "import pandas as pd\n",
    "import numpy as np\n",
    "import matplotlib.pyplot as plt\n",
    "import seaborn as sns\n",
    "from pymongo import MongoClient\n",
    "from datetime import datetime"
   ]
  },
  {
   "cell_type": "code",
   "execution_count": 3,
   "metadata": {},
   "outputs": [],
   "source": [
    "# Try autoregression on here with what you have on mongo right here\n",
    "client = MongoClient('localhost', 27017)"
   ]
  },
  {
   "cell_type": "code",
   "execution_count": 4,
   "metadata": {},
   "outputs": [
    {
     "data": {
      "text/plain": [
       "['admin', 'config', 'local', 'twitch_database']"
      ]
     },
     "execution_count": 4,
     "metadata": {},
     "output_type": "execute_result"
    }
   ],
   "source": [
    "client.list_database_names()"
   ]
  },
  {
   "cell_type": "code",
   "execution_count": 5,
   "metadata": {},
   "outputs": [],
   "source": [
    "twitch_db = client['twitch_database']\n",
    "twitch_collection = twitch_db.all_data"
   ]
  },
  {
   "cell_type": "code",
   "execution_count": 9,
   "metadata": {},
   "outputs": [
    {
     "data": {
      "text/plain": [
       "{'_id': ObjectId('5bffad1a4a5f1a744e489a17'),\n",
       " 'current_views': 34846,\n",
       " 'stream_created_time': '2015-02-01T02:48:25Z',\n",
       " 'game_name': 'Dota 2',\n",
       " 'broadcaster_ID': 29578325,\n",
       " 'broadcaster_name': 'beyondthesummit',\n",
       " 'delay_setting': -1,\n",
       " 'follower_number': 197236,\n",
       " 'partner_status': 'True',\n",
       " 'broadcaster_language': 'en',\n",
       " 'total_views': 197742366,\n",
       " 'language': 'en',\n",
       " 'broadcaster_created_time': '2012-04-07T04:16:39Z',\n",
       " 'playback_bitrate': 3247460,\n",
       " 'source_resolution': '1600x900',\n",
       " 'stream_ID': 12932973168,\n",
       " 'time': datetime.datetime(2015, 2, 1, 0, 0)}"
      ]
     },
     "execution_count": 9,
     "metadata": {},
     "output_type": "execute_result"
    }
   ],
   "source": [
    "# sample \n",
    "twitch_collection.find_one()"
   ]
  },
  {
   "cell_type": "code",
   "execution_count": 15,
   "metadata": {},
   "outputs": [
    {
     "data": {
      "text/plain": [
       "<pymongo.cursor.Cursor at 0x1a1592e630>"
      ]
     },
     "execution_count": 15,
     "metadata": {},
     "output_type": "execute_result"
    }
   ],
   "source": [
    "search_items = twitch_collection.find({'broadcaster_ID': 29578325}).sort([('created_at',-1)]).limit(100)\n",
    "search_items"
   ]
  },
  {
   "cell_type": "code",
   "execution_count": null,
   "metadata": {},
   "outputs": [],
   "source": [
    "for item in search_items:\n",
    "    print(item)\n",
    "    break"
   ]
  },
  {
   "cell_type": "code",
   "execution_count": null,
   "metadata": {},
   "outputs": [],
   "source": []
  }
 ],
 "metadata": {
  "kernelspec": {
   "display_name": "Python 3",
   "language": "python",
   "name": "python3"
  },
  "language_info": {
   "codemirror_mode": {
    "name": "ipython",
    "version": 3
   },
   "file_extension": ".py",
   "mimetype": "text/x-python",
   "name": "python",
   "nbconvert_exporter": "python",
   "pygments_lexer": "ipython3",
   "version": "3.6.6"
  }
 },
 "nbformat": 4,
 "nbformat_minor": 2
}
