{
 "cells": [
  {
   "cell_type": "code",
   "execution_count": 2,
   "metadata": {},
   "outputs": [],
   "source": [
    "def find_target(nums, target):\n",
    "    d = {i: num for i,num in enumerate(nums)}\n",
    "    for index in d:\n",
    "        complement = target - d[index]\n",
    "        if complement in d:\n",
    "            return (index, complement.get_key())\n"
   ]
  },
  {
   "cell_type": "code",
   "execution_count": 20,
   "metadata": {},
   "outputs": [
    {
     "data": {
      "text/plain": [
       "dict_keys([0, 1, 2, 3])"
      ]
     },
     "execution_count": 20,
     "metadata": {},
     "output_type": "execute_result"
    }
   ],
   "source": [
    "nums = [2,7,11,15]\n",
    "target = 9\n",
    "# find_target(nums, target)\n",
    "d = {i: num for i,num in enumerate(nums)}\n",
    "7 in d.values()\n",
    "d.keys()"
   ]
  },
  {
   "cell_type": "code",
   "execution_count": 23,
   "metadata": {},
   "outputs": [
    {
     "data": {
      "text/plain": [
       "dict_values([2, 7, 11, 15])"
      ]
     },
     "execution_count": 23,
     "metadata": {},
     "output_type": "execute_result"
    }
   ],
   "source": [
    "d.values()"
   ]
  },
  {
   "cell_type": "code",
   "execution_count": 56,
   "metadata": {},
   "outputs": [],
   "source": [
    "s = '()['"
   ]
  },
  {
   "cell_type": "code",
   "execution_count": 48,
   "metadata": {},
   "outputs": [],
   "source": [
    "s = list(s)"
   ]
  },
  {
   "cell_type": "code",
   "execution_count": 33,
   "metadata": {},
   "outputs": [
    {
     "data": {
      "text/plain": [
       "')'"
      ]
     },
     "execution_count": 33,
     "metadata": {},
     "output_type": "execute_result"
    }
   ],
   "source": [
    "s.pop()"
   ]
  },
  {
   "cell_type": "code",
   "execution_count": 34,
   "metadata": {},
   "outputs": [
    {
     "data": {
      "text/plain": [
       "['(']"
      ]
     },
     "execution_count": 34,
     "metadata": {},
     "output_type": "execute_result"
    }
   ],
   "source": [
    "s"
   ]
  },
  {
   "cell_type": "code",
   "execution_count": 62,
   "metadata": {},
   "outputs": [],
   "source": [
    "class Solution:\n",
    "    def isValid(self, s):\n",
    "        \"\"\"\n",
    "        :type s: str\n",
    "        :rtype: bool\n",
    "        \"\"\"        \n",
    "        complement_d = {')': '(', '}': '{', ']': '['}\n",
    "        # d = {i: char for i,char in enumerate(s)}\n",
    "        s = list(s)\n",
    "        flag = True\n",
    "        while flag == True:\n",
    "            if len(s) == 0:\n",
    "                break\n",
    "            flag = False\n",
    "            close = s[-1]\n",
    "            complement = complement_d[close]\n",
    "            if close not in complement_d.keys():\n",
    "                break\n",
    "            if s[-2] == complement_d[close]:\n",
    "                s = s[:-2]\n",
    "                flag = True\n",
    "        return s == []"
   ]
  },
  {
   "cell_type": "code",
   "execution_count": 67,
   "metadata": {},
   "outputs": [
    {
     "data": {
      "text/plain": [
       "False"
      ]
     },
     "execution_count": 67,
     "metadata": {},
     "output_type": "execute_result"
    }
   ],
   "source": [
    "s = '[]['\n",
    "is_valid(s)"
   ]
  },
  {
   "cell_type": "code",
   "execution_count": 68,
   "metadata": {},
   "outputs": [
    {
     "data": {
      "text/plain": [
       "'['"
      ]
     },
     "execution_count": 68,
     "metadata": {},
     "output_type": "execute_result"
    }
   ],
   "source": [
    "s[-1]"
   ]
  },
  {
   "cell_type": "code",
   "execution_count": 1,
   "metadata": {},
   "outputs": [],
   "source": [
    "import pandas as pd\n",
    "import pickle\n",
    "with open('hs_df.pkl', mode = 'rb') as f:\n",
    "    hs_df = pickle.load(f)"
   ]
  },
  {
   "cell_type": "code",
   "execution_count": 2,
   "metadata": {},
   "outputs": [
    {
     "name": "stdout",
     "output_type": "stream",
     "text": [
      "<class 'pandas.core.frame.DataFrame'>\n",
      "RangeIndex: 1960342 entries, 0 to 1960341\n",
      "Data columns (total 17 columns):\n",
      "_id                         object\n",
      "broadcaster_ID              object\n",
      "broadcaster_created_time    object\n",
      "broadcaster_language        object\n",
      "broadcaster_name            object\n",
      "current_views               int64\n",
      "delay_setting               object\n",
      "follower_number             object\n",
      "game_name                   object\n",
      "language                    object\n",
      "partner_status              object\n",
      "playback_bitrate            object\n",
      "source_resolution           object\n",
      "stream_ID                   object\n",
      "stream_created_time         object\n",
      "time                        datetime64[ns]\n",
      "total_views                 object\n",
      "dtypes: datetime64[ns](1), int64(1), object(15)\n",
      "memory usage: 254.3+ MB\n"
     ]
    }
   ],
   "source": [
    "hs_df.info()"
   ]
  },
  {
   "cell_type": "code",
   "execution_count": 3,
   "metadata": {},
   "outputs": [],
   "source": [
    "hs_df = hs_df.groupby(by = 'time').sum()"
   ]
  },
  {
   "cell_type": "code",
   "execution_count": 4,
   "metadata": {
    "scrolled": false
   },
   "outputs": [
    {
     "ename": "NameError",
     "evalue": "name 'plt' is not defined",
     "output_type": "error",
     "traceback": [
      "\u001b[0;31m---------------------------------------------------------------------------\u001b[0m",
      "\u001b[0;31mNameError\u001b[0m                                 Traceback (most recent call last)",
      "\u001b[0;32m<ipython-input-4-dda020d44ba4>\u001b[0m in \u001b[0;36m<module>\u001b[0;34m()\u001b[0m\n\u001b[1;32m      7\u001b[0m \u001b[0mhs_plot_df\u001b[0m \u001b[0;34m=\u001b[0m \u001b[0mhs_plot_df\u001b[0m\u001b[0;34m.\u001b[0m\u001b[0mrename\u001b[0m\u001b[0;34m(\u001b[0m\u001b[0mcolumns\u001b[0m \u001b[0;34m=\u001b[0m \u001b[0;34m{\u001b[0m\u001b[0;34m'current_views'\u001b[0m\u001b[0;34m:\u001b[0m \u001b[0;34m'Current Views'\u001b[0m\u001b[0;34m,\u001b[0m \u001b[0;34m'rolling_current_views'\u001b[0m\u001b[0;34m:\u001b[0m \u001b[0;34m'Rolling Current Views'\u001b[0m\u001b[0;34m}\u001b[0m\u001b[0;34m)\u001b[0m\u001b[0;34m\u001b[0m\u001b[0m\n\u001b[1;32m      8\u001b[0m \u001b[0;31m# hs_plot_df.plot(figsize = [10,10]);\u001b[0m\u001b[0;34m\u001b[0m\u001b[0;34m\u001b[0m\u001b[0m\n\u001b[0;32m----> 9\u001b[0;31m \u001b[0mfig\u001b[0m\u001b[0;34m,\u001b[0m \u001b[0max\u001b[0m \u001b[0;34m=\u001b[0m \u001b[0mplt\u001b[0m\u001b[0;34m.\u001b[0m\u001b[0msubplots\u001b[0m\u001b[0;34m(\u001b[0m\u001b[0mfigsize\u001b[0m\u001b[0;34m=\u001b[0m\u001b[0;34m[\u001b[0m\u001b[0;36m20\u001b[0m\u001b[0;34m,\u001b[0m\u001b[0;36m10\u001b[0m\u001b[0;34m]\u001b[0m\u001b[0;34m)\u001b[0m\u001b[0;34m\u001b[0m\u001b[0m\n\u001b[0m\u001b[1;32m     10\u001b[0m \u001b[0max\u001b[0m\u001b[0;34m.\u001b[0m\u001b[0mset_ylim\u001b[0m\u001b[0;34m(\u001b[0m\u001b[0mbottom\u001b[0m \u001b[0;34m=\u001b[0m \u001b[0;36m0\u001b[0m\u001b[0;34m,\u001b[0m \u001b[0mtop\u001b[0m \u001b[0;34m=\u001b[0m \u001b[0;36m50000\u001b[0m\u001b[0;34m)\u001b[0m\u001b[0;34m\u001b[0m\u001b[0m\n\u001b[1;32m     11\u001b[0m \u001b[0msns\u001b[0m\u001b[0;34m.\u001b[0m\u001b[0mlineplot\u001b[0m\u001b[0;34m(\u001b[0m\u001b[0mdata\u001b[0m \u001b[0;34m=\u001b[0m \u001b[0mhs_plot_df\u001b[0m\u001b[0;34m[\u001b[0m\u001b[0;34m'Rolling Current Views'\u001b[0m\u001b[0;34m]\u001b[0m\u001b[0;34m)\u001b[0m\u001b[0;34m;\u001b[0m\u001b[0;34m\u001b[0m\u001b[0m\n",
      "\u001b[0;31mNameError\u001b[0m: name 'plt' is not defined"
     ]
    }
   ],
   "source": [
    "# hs_plot_df = pd.DataFrame([hs_df.groupby(by = 'time').sum(), hs_df.groupby(by = 'time').sum().rolling(window = 1440).mean()], columns = ['current','rolling'])\n",
    "current = hs_df.groupby(by = 'time').sum()\n",
    "rolling = hs_df.groupby(by = 'time').sum().rolling(window = 288).mean()\n",
    "rolling['rolling_current_views'] = rolling.current_views\n",
    "hs_plot_df = pd.concat([current, rolling.rolling_current_views], axis = 1)\n",
    "# rolling.rolling_current_views.plot(figsize = [10,10]);\n",
    "hs_plot_df = hs_plot_df.rename(columns = {'current_views': 'Current Views', 'rolling_current_views': 'Rolling Current Views'})\n",
    "# hs_plot_df.plot(figsize = [10,10]);\n",
    "fig, ax = plt.subplots(figsize=[20,10])\n",
    "ax.set_ylim(bottom = 0, top = 50000)\n",
    "sns.lineplot(data = hs_plot_df['Rolling Current Views']);\n",
    "# top is rolling only\n",
    "# bottom is comparison between rolling and messy viewership data without rolling average"
   ]
  },
  {
   "cell_type": "code",
   "execution_count": 5,
   "metadata": {},
   "outputs": [],
   "source": [
    "from datetime import datetime\n",
    "from datetime import timedelta\n",
    "dates = [datetime(2015,2,1) + (timedelta(minutes = 5)*i) for i in range(0,10080)]"
   ]
  },
  {
   "cell_type": "code",
   "execution_count": 6,
   "metadata": {
    "scrolled": true
   },
   "outputs": [
    {
     "data": {
      "text/plain": [
       "[28213, 28133, 28704, 28459, 29760]"
      ]
     },
     "execution_count": 6,
     "metadata": {},
     "output_type": "execute_result"
    }
   ],
   "source": [
    "views_list = [(hs_df.current_views[date] if (date in hs_df.index) else None) for date in dates]\n",
    "len(views_list)\n",
    "views_list[0:5]"
   ]
  },
  {
   "cell_type": "code",
   "execution_count": 7,
   "metadata": {},
   "outputs": [
    {
     "name": "stdout",
     "output_type": "stream",
     "text": [
      "<class 'pandas.core.frame.DataFrame'>\n",
      "DatetimeIndex: 10080 entries, 2015-02-01 00:00:00 to 2015-03-07 23:55:00\n",
      "Data columns (total 1 columns):\n",
      "current_views    9977 non-null float64\n",
      "dtypes: float64(1)\n",
      "memory usage: 157.5 KB\n"
     ]
    }
   ],
   "source": [
    "hs_clean_df = pd.DataFrame(views_list, index = dates, columns = ['current_views'])\n",
    "hs_clean_df.info()"
   ]
  },
  {
   "cell_type": "code",
   "execution_count": 8,
   "metadata": {},
   "outputs": [
    {
     "name": "stdout",
     "output_type": "stream",
     "text": [
      "<class 'pandas.core.frame.DataFrame'>\n",
      "DatetimeIndex: 10080 entries, 2015-02-01 00:00:00 to 2015-03-07 23:55:00\n",
      "Data columns (total 1 columns):\n",
      "current_views    10080 non-null float64\n",
      "dtypes: float64(1)\n",
      "memory usage: 157.5 KB\n"
     ]
    }
   ],
   "source": [
    "hs_clean_df = hs_clean_df.fillna(method='backfill')\n",
    "hs_clean_df.info()"
   ]
  },
  {
   "cell_type": "code",
   "execution_count": 9,
   "metadata": {},
   "outputs": [],
   "source": [
    "import statsmodels.api as sm"
   ]
  },
  {
   "cell_type": "code",
   "execution_count": null,
   "metadata": {},
   "outputs": [
    {
     "name": "stderr",
     "output_type": "stream",
     "text": [
      "/anaconda3/lib/python3.6/site-packages/statsmodels/tsa/base/tsa_model.py:171: ValueWarning: No frequency information was provided, so inferred frequency 5T will be used.\n",
      "  % freq, ValueWarning)\n"
     ]
    }
   ],
   "source": [
    "# fit SARIMA monthly based on helper plots\n",
    "start= 0\n",
    "# sar = sm.tsa.statespace.SARIMAX(current, order=(1,1,0), seasonal_order=(0,0,0,288), trend='c').fit()\n",
    "sar = sm.tsa.statespace.SARIMAX(hs_clean_df[start:start+1440], order=(0,1,1), seasonal_order=(0,1,0,288), trend='c').fit()\n",
    "sar.summary()"
   ]
  },
  {
   "cell_type": "code",
   "execution_count": null,
   "metadata": {},
   "outputs": [],
   "source": [
    "import pickle\n",
    "with open('sar.pkl', 'rb') as picklefile:\n",
    "    sar = pickle.load(picklefile)"
   ]
  }
 ],
 "metadata": {
  "kernelspec": {
   "display_name": "Python 3",
   "language": "python",
   "name": "python3"
  },
  "language_info": {
   "codemirror_mode": {
    "name": "ipython",
    "version": 3
   },
   "file_extension": ".py",
   "mimetype": "text/x-python",
   "name": "python",
   "nbconvert_exporter": "python",
   "pygments_lexer": "ipython3",
   "version": "3.6.6"
  }
 },
 "nbformat": 4,
 "nbformat_minor": 2
}
