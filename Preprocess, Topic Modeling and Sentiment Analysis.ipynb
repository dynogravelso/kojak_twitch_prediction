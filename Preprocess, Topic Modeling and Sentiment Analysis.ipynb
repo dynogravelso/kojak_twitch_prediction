{
 "cells": [
  {
   "cell_type": "code",
   "execution_count": 3,
   "metadata": {},
   "outputs": [],
   "source": [
    "%matplotlib inline\n",
    "import tweepy\n",
    "import cnfg\n",
    "from tqdm import tqdm\n",
    "import pandas as pd\n",
    "import matplotlib.pyplot as plt\n",
    "from textblob import TextBlob\n",
    "from pymongo import MongoClient\n",
    "from tweepy import Stream\n",
    "from tweepy.streaming import StreamListener\n",
    "import json\n",
    "import os\n",
    "from sklearn.feature_extraction.text import CountVectorizer\n",
    "import seaborn as sns  \n",
    "import numpy as np\n",
    "import gensim\n",
    "import pprint\n",
    "pp = pprint.PrettyPrinter()\n",
    "\n",
    "pd.set_option('display.max_colwidth', 200)"
   ]
  },
  {
   "cell_type": "code",
   "execution_count": 4,
   "metadata": {},
   "outputs": [],
   "source": [
    "# Connect to monogodb server, start mongod in terminal to run\n",
    "client = MongoClient('localhost', 27017)"
   ]
  },
  {
   "cell_type": "code",
   "execution_count": 5,
   "metadata": {},
   "outputs": [
    {
     "data": {
      "text/plain": [
       "['admin', 'config', 'local', 'twitter_database']"
      ]
     },
     "execution_count": 5,
     "metadata": {},
     "output_type": "execute_result"
    }
   ],
   "source": [
    "client.list_database_names()"
   ]
  },
  {
   "cell_type": "code",
   "execution_count": 6,
   "metadata": {},
   "outputs": [],
   "source": [
    "twitter_db = client['twitter_database']\n",
    "tweet_collection = twitter_db.rdr2_no_retweets_2"
   ]
  },
  {
   "cell_type": "markdown",
   "metadata": {},
   "source": [
    "# First do all preprocessing"
   ]
  },
  {
   "cell_type": "code",
   "execution_count": 7,
   "metadata": {},
   "outputs": [
    {
     "name": "stdout",
     "output_type": "stream",
     "text": [
      "<class 'pandas.core.frame.DataFrame'>\n",
      "RangeIndex: 9264 entries, 0 to 9263\n",
      "Data columns (total 8 columns):\n",
      "_id               9264 non-null object\n",
      "created_at        9264 non-null object\n",
      "favorite_count    9264 non-null int64\n",
      "retweet_count     9264 non-null int64\n",
      "screen_name       9264 non-null object\n",
      "sentiment         9264 non-null float64\n",
      "subjectivity      9264 non-null float64\n",
      "text              9264 non-null object\n",
      "dtypes: float64(2), int64(2), object(4)\n",
      "memory usage: 579.1+ KB\n"
     ]
    }
   ],
   "source": [
    "import re\n",
    "pattern = re.compile('^(?!.*http.).*$', re.IGNORECASE)\n",
    "# Limiting the tweets used to a certain number, because I kept on collecting and I didn't want my results to keep changing as I collected\n",
    "twitter_text_test = tweet_collection.find({'text':{'$regex':pattern}}).limit(9264)\n",
    "twitter_text_list = [item for item in twitter_text_test]\n",
    "rdr2_tweets_df = pd.DataFrame(twitter_text_list)\n",
    "rdr2_tweets_df.loc[:,'_id'] = rdr2_tweets_df._id.apply(lambda x: str(x))\n",
    "rdr2_tweets_df.info()"
   ]
  },
  {
   "cell_type": "code",
   "execution_count": 8,
   "metadata": {},
   "outputs": [
    {
     "data": {
      "text/plain": [
       "0.016405688008956604"
      ]
     },
     "execution_count": 8,
     "metadata": {},
     "output_type": "execute_result"
    },
    {
     "data": {
      "image/png": "[encoded data removed]",
      "text/plain": [
       "<Figure size 432x288 with 1 Axes>"
      ]
     },
     "metadata": {},
     "output_type": "display_data"
    }
   ],
   "source": [
    "# simple plot of tweet sentiment\n",
    "plt.scatter(list(rdr2_tweets_df.sort_values(by = 'subjectivity').subjectivity), list(rdr2_tweets_df.sort_values(by = 'subjectivity').sentiment));\n",
    "overall_tweet_sentiment = np.mean(rdr2_tweets_df.sentiment)\n",
    "overall_tweet_sentiment\n",
    "# surprised that it is negative on average, given the attention and how good it seems to be received in general"
   ]
  },
  {
   "cell_type": "code",
   "execution_count": 9,
   "metadata": {
    "scrolled": true
   },
   "outputs": [
    {
     "data": {
      "text/html": [
       "<div>\n",
       "<style scoped>\n",
       "    .dataframe tbody tr th:only-of-type {\n",
       "        vertical-align: middle;\n",
       "    }\n",
       "\n",
       "    .dataframe tbody tr th {\n",
       "        vertical-align: top;\n",
       "    }\n",
       "\n",
       "    .dataframe thead th {\n",
       "        text-align: right;\n",
       "    }\n",
       "</style>\n",
       "<table border=\"1\" class=\"dataframe\">\n",
       "  <thead>\n",
       "    <tr style=\"text-align: right;\">\n",
       "      <th></th>\n",
       "      <th>_id</th>\n",
       "      <th>created_at</th>\n",
       "      <th>favorite_count</th>\n",
       "      <th>retweet_count</th>\n",
       "      <th>screen_name</th>\n",
       "      <th>sentiment</th>\n",
       "      <th>subjectivity</th>\n",
       "      <th>text</th>\n",
       "    </tr>\n",
       "  </thead>\n",
       "  <tbody>\n",
       "    <tr>\n",
       "      <th>0</th>\n",
       "      <td>5be8c1412af8b82a53bb9ed3</td>\n",
       "      <td>Sun Nov 11 23:54:36 +0000 2018</td>\n",
       "      <td>0</td>\n",
       "      <td>0</td>\n",
       "      <td>Mxster_Shimxda</td>\n",
       "      <td>0.1</td>\n",
       "      <td>0.466667</td>\n",
       "      <td>(Red Dead Redemption is just Grand Theft Yeehaw.</td>\n",
       "    </tr>\n",
       "    <tr>\n",
       "      <th>1</th>\n",
       "      <td>5be8c1722af8b82a53bb9edb</td>\n",
       "      <td>Sun Nov 11 23:55:25 +0000 2018</td>\n",
       "      <td>0</td>\n",
       "      <td>0</td>\n",
       "      <td>josepire31</td>\n",
       "      <td>-0.1</td>\n",
       "      <td>0.200000</td>\n",
       "      <td>Red dead redemption 2 para xbox one 👌🏼</td>\n",
       "    </tr>\n",
       "    <tr>\n",
       "      <th>2</th>\n",
       "      <td>5be8c17d2af8b82a53bb9edd</td>\n",
       "      <td>Sun Nov 11 23:55:36 +0000 2018</td>\n",
       "      <td>0</td>\n",
       "      <td>0</td>\n",
       "      <td>ditzidoggie</td>\n",
       "      <td>-0.1</td>\n",
       "      <td>0.200000</td>\n",
       "      <td>I got the red dead redemption 2 guide so im gonna nerd out and check out these neat locations</td>\n",
       "    </tr>\n",
       "    <tr>\n",
       "      <th>3</th>\n",
       "      <td>5be8c1832af8b82a53bb9edf</td>\n",
       "      <td>Sun Nov 11 23:55:41 +0000 2018</td>\n",
       "      <td>0</td>\n",
       "      <td>0</td>\n",
       "      <td>DViz</td>\n",
       "      <td>-0.1</td>\n",
       "      <td>0.200000</td>\n",
       "      <td>@psychotriaplays “Red Dead Redemption 0”</td>\n",
       "    </tr>\n",
       "    <tr>\n",
       "      <th>4</th>\n",
       "      <td>5be8c1bc2af8b82a53bb9ee4</td>\n",
       "      <td>Sun Nov 11 23:56:39 +0000 2018</td>\n",
       "      <td>0</td>\n",
       "      <td>0</td>\n",
       "      <td>Samantha12Sue</td>\n",
       "      <td>-0.1</td>\n",
       "      <td>0.200000</td>\n",
       "      <td>banana blunts &amp;amp; Red Dead Redemption 2🍌🎮</td>\n",
       "    </tr>\n",
       "  </tbody>\n",
       "</table>\n",
       "</div>"
      ],
      "text/plain": [
       "                        _id                      created_at  favorite_count  \\\n",
       "0  5be8c1412af8b82a53bb9ed3  Sun Nov 11 23:54:36 +0000 2018               0   \n",
       "1  5be8c1722af8b82a53bb9edb  Sun Nov 11 23:55:25 +0000 2018               0   \n",
       "2  5be8c17d2af8b82a53bb9edd  Sun Nov 11 23:55:36 +0000 2018               0   \n",
       "3  5be8c1832af8b82a53bb9edf  Sun Nov 11 23:55:41 +0000 2018               0   \n",
       "4  5be8c1bc2af8b82a53bb9ee4  Sun Nov 11 23:56:39 +0000 2018               0   \n",
       "\n",
       "   retweet_count     screen_name  sentiment  subjectivity  \\\n",
       "0              0  Mxster_Shimxda        0.1      0.466667   \n",
       "1              0      josepire31       -0.1      0.200000   \n",
       "2              0     ditzidoggie       -0.1      0.200000   \n",
       "3              0            DViz       -0.1      0.200000   \n",
       "4              0   Samantha12Sue       -0.1      0.200000   \n",
       "\n",
       "                                                                                            text  \n",
       "0                                               (Red Dead Redemption is just Grand Theft Yeehaw.  \n",
       "1                                                         Red dead redemption 2 para xbox one 👌🏼  \n",
       "2  I got the red dead redemption 2 guide so im gonna nerd out and check out these neat locations  \n",
       "3                                                       @psychotriaplays “Red Dead Redemption 0”  \n",
       "4                                                    banana blunts &amp; Red Dead Redemption 2🍌🎮  "
      ]
     },
     "execution_count": 9,
     "metadata": {},
     "output_type": "execute_result"
    }
   ],
   "source": [
    "rdr2_tweets_df.head()"
   ]
  },
  {
   "cell_type": "code",
   "execution_count": 10,
   "metadata": {},
   "outputs": [],
   "source": [
    "# text = u'This dog \\U0001f602'\n",
    "# print(text)\n",
    "pattern = re.compile(\"[\"\n",
    "        u\"\\U0001F300-\\U0001F6FF\"  # symbols & pictographs\n",
    "                           \"]+\", flags=re.UNICODE)\n",
    "rdr2_tweets_df.loc[:, 'text_clean'] = rdr2_tweets_df.text.apply(lambda x: re.sub(pattern,'',x))\n",
    "rdr2_tweets_df.loc[:, 'text_clean'] = rdr2_tweets_df.text_clean.apply(lambda x: re.sub('@','',x))\n",
    "rdr2_tweets_df.loc[:, 'text_clean'] = rdr2_tweets_df.text_clean.apply(lambda x: x.lower())\n",
    "# print(emoji_pattern.sub(r'', text)) # no emoji\n",
    "# print(re.sub(emoji_pattern, '', text))"
   ]
  },
  {
   "cell_type": "code",
   "execution_count": 11,
   "metadata": {
    "scrolled": false
   },
   "outputs": [
    {
     "data": {
      "text/html": [
       "<div>\n",
       "<style scoped>\n",
       "    .dataframe tbody tr th:only-of-type {\n",
       "        vertical-align: middle;\n",
       "    }\n",
       "\n",
       "    .dataframe tbody tr th {\n",
       "        vertical-align: top;\n",
       "    }\n",
       "\n",
       "    .dataframe thead th {\n",
       "        text-align: right;\n",
       "    }\n",
       "</style>\n",
       "<table border=\"1\" class=\"dataframe\">\n",
       "  <thead>\n",
       "    <tr style=\"text-align: right;\">\n",
       "      <th></th>\n",
       "      <th>_id</th>\n",
       "      <th>created_at</th>\n",
       "      <th>favorite_count</th>\n",
       "      <th>retweet_count</th>\n",
       "      <th>screen_name</th>\n",
       "      <th>sentiment</th>\n",
       "      <th>subjectivity</th>\n",
       "      <th>text</th>\n",
       "      <th>text_clean</th>\n",
       "    </tr>\n",
       "  </thead>\n",
       "  <tbody>\n",
       "    <tr>\n",
       "      <th>9</th>\n",
       "      <td>5be8c2e12af8b82a53bb9f30</td>\n",
       "      <td>Mon Nov 12 00:01:32 +0000 2018</td>\n",
       "      <td>0</td>\n",
       "      <td>0</td>\n",
       "      <td>MGORedRanger89</td>\n",
       "      <td>-0.233333</td>\n",
       "      <td>0.466667</td>\n",
       "      <td>Well...that's Red Dead Redemption 2 finished....kinda sad now 😂</td>\n",
       "      <td>well...that's red dead redemption 2 finished....kinda sad now</td>\n",
       "    </tr>\n",
       "    <tr>\n",
       "      <th>10</th>\n",
       "      <td>5be8c2f02af8b82a53bb9f32</td>\n",
       "      <td>Mon Nov 12 00:01:47 +0000 2018</td>\n",
       "      <td>0</td>\n",
       "      <td>0</td>\n",
       "      <td>Devon_DaVinci</td>\n",
       "      <td>-0.100000</td>\n",
       "      <td>0.200000</td>\n",
       "      <td>Continuing my stream of Red Dead Redemption 2. Come check it out on Twitch &amp;amp; YouTube.</td>\n",
       "      <td>continuing my stream of red dead redemption 2. come check it out on twitch &amp;amp; youtube.</td>\n",
       "    </tr>\n",
       "    <tr>\n",
       "      <th>11</th>\n",
       "      <td>5be8c2f12af8b82a53bb9f33</td>\n",
       "      <td>Mon Nov 12 00:01:48 +0000 2018</td>\n",
       "      <td>0</td>\n",
       "      <td>0</td>\n",
       "      <td>jhop3e</td>\n",
       "      <td>0.200000</td>\n",
       "      <td>0.266667</td>\n",
       "      <td>red dead redemption 2 au where i fight rockstar to the death, win, and then smooch arthur morgan</td>\n",
       "      <td>red dead redemption 2 au where i fight rockstar to the death, win, and then smooch arthur morgan</td>\n",
       "    </tr>\n",
       "    <tr>\n",
       "      <th>12</th>\n",
       "      <td>5be8c3052af8b82a53bb9f35</td>\n",
       "      <td>Mon Nov 12 00:02:08 +0000 2018</td>\n",
       "      <td>0</td>\n",
       "      <td>0</td>\n",
       "      <td>ihatederek_k</td>\n",
       "      <td>-0.400000</td>\n",
       "      <td>0.450000</td>\n",
       "      <td>Red Dead Redemption 2 is the worst game ever programmed ever in the year 2018. @ me cowards.</td>\n",
       "      <td>red dead redemption 2 is the worst game ever programmed ever in the year 2018.  me cowards.</td>\n",
       "    </tr>\n",
       "    <tr>\n",
       "      <th>13</th>\n",
       "      <td>5be8c3282af8b82a53bb9f3c</td>\n",
       "      <td>Mon Nov 12 00:02:42 +0000 2018</td>\n",
       "      <td>0</td>\n",
       "      <td>0</td>\n",
       "      <td>NubianBby</td>\n",
       "      <td>-0.133333</td>\n",
       "      <td>0.166667</td>\n",
       "      <td>Streaming Red Dead Redemption in a few 🐎</td>\n",
       "      <td>streaming red dead redemption in a few</td>\n",
       "    </tr>\n",
       "  </tbody>\n",
       "</table>\n",
       "</div>"
      ],
      "text/plain": [
       "                         _id                      created_at  favorite_count  \\\n",
       "9   5be8c2e12af8b82a53bb9f30  Mon Nov 12 00:01:32 +0000 2018               0   \n",
       "10  5be8c2f02af8b82a53bb9f32  Mon Nov 12 00:01:47 +0000 2018               0   \n",
       "11  5be8c2f12af8b82a53bb9f33  Mon Nov 12 00:01:48 +0000 2018               0   \n",
       "12  5be8c3052af8b82a53bb9f35  Mon Nov 12 00:02:08 +0000 2018               0   \n",
       "13  5be8c3282af8b82a53bb9f3c  Mon Nov 12 00:02:42 +0000 2018               0   \n",
       "\n",
       "    retweet_count     screen_name  sentiment  subjectivity  \\\n",
       "9               0  MGORedRanger89  -0.233333      0.466667   \n",
       "10              0   Devon_DaVinci  -0.100000      0.200000   \n",
       "11              0          jhop3e   0.200000      0.266667   \n",
       "12              0    ihatederek_k  -0.400000      0.450000   \n",
       "13              0       NubianBby  -0.133333      0.166667   \n",
       "\n",
       "                                                                                                text  \\\n",
       "9                                    Well...that's Red Dead Redemption 2 finished....kinda sad now 😂   \n",
       "10         Continuing my stream of Red Dead Redemption 2. Come check it out on Twitch &amp; YouTube.   \n",
       "11  red dead redemption 2 au where i fight rockstar to the death, win, and then smooch arthur morgan   \n",
       "12      Red Dead Redemption 2 is the worst game ever programmed ever in the year 2018. @ me cowards.   \n",
       "13                                                          Streaming Red Dead Redemption in a few 🐎   \n",
       "\n",
       "                                                                                          text_clean  \n",
       "9                                     well...that's red dead redemption 2 finished....kinda sad now   \n",
       "10         continuing my stream of red dead redemption 2. come check it out on twitch &amp; youtube.  \n",
       "11  red dead redemption 2 au where i fight rockstar to the death, win, and then smooch arthur morgan  \n",
       "12       red dead redemption 2 is the worst game ever programmed ever in the year 2018.  me cowards.  \n",
       "13                                                           streaming red dead redemption in a few   "
      ]
     },
     "execution_count": 11,
     "metadata": {},
     "output_type": "execute_result"
    }
   ],
   "source": [
    "rdr2_tweets_df.sort_values(by = 'created_at', ascending = True).head()"
   ]
  },
  {
   "cell_type": "code",
   "execution_count": 12,
   "metadata": {},
   "outputs": [],
   "source": [
    "from sklearn.feature_extraction.text import TfidfVectorizer, CountVectorizer\n",
    "from sklearn.decomposition import TruncatedSVD\n",
    "from sklearn import metrics\n",
    "from nltk.corpus import stopwords\n",
    "stop_words_list = list(stopwords.words('english'))\n",
    "stop_words_list = stop_words_list + ['rdr2', 'rdr', 'red', 'dead', 'redemption', 'rt', 'game']"
   ]
  },
  {
   "cell_type": "code",
   "execution_count": 13,
   "metadata": {},
   "outputs": [
    {
     "name": "stderr",
     "output_type": "stream",
     "text": [
      "100%|██████████| 32/32 [00:00<00:00, 104.74it/s]\n",
      "100%|██████████| 186/186 [00:12<00:00, 14.83it/s]\n"
     ]
    }
   ],
   "source": [
    "import string\n",
    "rdr2_tweets_df.loc[:, 'text_no_stop'] = rdr2_tweets_df.text_clean\n",
    "for punc in tqdm(string.punctuation):\n",
    "    rdr2_tweets_df.loc[:, 'text_no_stop'] = rdr2_tweets_df.text_no_stop.apply(lambda x: x.replace(punc, ' '))\n",
    "for word in tqdm(stop_words_list):\n",
    "    rdr2_tweets_df.loc[:, 'text_no_stop'] = rdr2_tweets_df.text_no_stop.apply(lambda x: re.sub('(^|\\s)'+word+'($|\\s|\\n)',' ',x))"
   ]
  },
  {
   "cell_type": "code",
   "execution_count": 14,
   "metadata": {},
   "outputs": [
    {
     "data": {
      "text/html": [
       "<div>\n",
       "<style scoped>\n",
       "    .dataframe tbody tr th:only-of-type {\n",
       "        vertical-align: middle;\n",
       "    }\n",
       "\n",
       "    .dataframe tbody tr th {\n",
       "        vertical-align: top;\n",
       "    }\n",
       "\n",
       "    .dataframe thead th {\n",
       "        text-align: right;\n",
       "    }\n",
       "</style>\n",
       "<table border=\"1\" class=\"dataframe\">\n",
       "  <thead>\n",
       "    <tr style=\"text-align: right;\">\n",
       "      <th></th>\n",
       "      <th>_id</th>\n",
       "      <th>created_at</th>\n",
       "      <th>favorite_count</th>\n",
       "      <th>retweet_count</th>\n",
       "      <th>screen_name</th>\n",
       "      <th>sentiment</th>\n",
       "      <th>subjectivity</th>\n",
       "      <th>text</th>\n",
       "      <th>text_clean</th>\n",
       "      <th>text_no_stop</th>\n",
       "    </tr>\n",
       "  </thead>\n",
       "  <tbody>\n",
       "    <tr>\n",
       "      <th>9</th>\n",
       "      <td>5be8c2e12af8b82a53bb9f30</td>\n",
       "      <td>Mon Nov 12 00:01:32 +0000 2018</td>\n",
       "      <td>0</td>\n",
       "      <td>0</td>\n",
       "      <td>MGORedRanger89</td>\n",
       "      <td>-0.233333</td>\n",
       "      <td>0.466667</td>\n",
       "      <td>Well...that's Red Dead Redemption 2 finished....kinda sad now 😂</td>\n",
       "      <td>well...that's red dead redemption 2 finished....kinda sad now</td>\n",
       "      <td>well   2 finished    kinda sad</td>\n",
       "    </tr>\n",
       "    <tr>\n",
       "      <th>10</th>\n",
       "      <td>5be8c2f02af8b82a53bb9f32</td>\n",
       "      <td>Mon Nov 12 00:01:47 +0000 2018</td>\n",
       "      <td>0</td>\n",
       "      <td>0</td>\n",
       "      <td>Devon_DaVinci</td>\n",
       "      <td>-0.100000</td>\n",
       "      <td>0.200000</td>\n",
       "      <td>Continuing my stream of Red Dead Redemption 2. Come check it out on Twitch &amp;amp; YouTube.</td>\n",
       "      <td>continuing my stream of red dead redemption 2. come check it out on twitch &amp;amp; youtube.</td>\n",
       "      <td>continuing stream 2  come check twitch  amp  youtube</td>\n",
       "    </tr>\n",
       "    <tr>\n",
       "      <th>11</th>\n",
       "      <td>5be8c2f12af8b82a53bb9f33</td>\n",
       "      <td>Mon Nov 12 00:01:48 +0000 2018</td>\n",
       "      <td>0</td>\n",
       "      <td>0</td>\n",
       "      <td>jhop3e</td>\n",
       "      <td>0.200000</td>\n",
       "      <td>0.266667</td>\n",
       "      <td>red dead redemption 2 au where i fight rockstar to the death, win, and then smooch arthur morgan</td>\n",
       "      <td>red dead redemption 2 au where i fight rockstar to the death, win, and then smooch arthur morgan</td>\n",
       "      <td>2 au fight rockstar death  win  smooch arthur morgan</td>\n",
       "    </tr>\n",
       "    <tr>\n",
       "      <th>12</th>\n",
       "      <td>5be8c3052af8b82a53bb9f35</td>\n",
       "      <td>Mon Nov 12 00:02:08 +0000 2018</td>\n",
       "      <td>0</td>\n",
       "      <td>0</td>\n",
       "      <td>ihatederek_k</td>\n",
       "      <td>-0.400000</td>\n",
       "      <td>0.450000</td>\n",
       "      <td>Red Dead Redemption 2 is the worst game ever programmed ever in the year 2018. @ me cowards.</td>\n",
       "      <td>red dead redemption 2 is the worst game ever programmed ever in the year 2018.  me cowards.</td>\n",
       "      <td>2 worst ever programmed ever year 2018   cowards</td>\n",
       "    </tr>\n",
       "    <tr>\n",
       "      <th>13</th>\n",
       "      <td>5be8c3282af8b82a53bb9f3c</td>\n",
       "      <td>Mon Nov 12 00:02:42 +0000 2018</td>\n",
       "      <td>0</td>\n",
       "      <td>0</td>\n",
       "      <td>NubianBby</td>\n",
       "      <td>-0.133333</td>\n",
       "      <td>0.166667</td>\n",
       "      <td>Streaming Red Dead Redemption in a few 🐎</td>\n",
       "      <td>streaming red dead redemption in a few</td>\n",
       "      <td>streaming</td>\n",
       "    </tr>\n",
       "  </tbody>\n",
       "</table>\n",
       "</div>"
      ],
      "text/plain": [
       "                         _id                      created_at  favorite_count  \\\n",
       "9   5be8c2e12af8b82a53bb9f30  Mon Nov 12 00:01:32 +0000 2018               0   \n",
       "10  5be8c2f02af8b82a53bb9f32  Mon Nov 12 00:01:47 +0000 2018               0   \n",
       "11  5be8c2f12af8b82a53bb9f33  Mon Nov 12 00:01:48 +0000 2018               0   \n",
       "12  5be8c3052af8b82a53bb9f35  Mon Nov 12 00:02:08 +0000 2018               0   \n",
       "13  5be8c3282af8b82a53bb9f3c  Mon Nov 12 00:02:42 +0000 2018               0   \n",
       "\n",
       "    retweet_count     screen_name  sentiment  subjectivity  \\\n",
       "9               0  MGORedRanger89  -0.233333      0.466667   \n",
       "10              0   Devon_DaVinci  -0.100000      0.200000   \n",
       "11              0          jhop3e   0.200000      0.266667   \n",
       "12              0    ihatederek_k  -0.400000      0.450000   \n",
       "13              0       NubianBby  -0.133333      0.166667   \n",
       "\n",
       "                                                                                                text  \\\n",
       "9                                    Well...that's Red Dead Redemption 2 finished....kinda sad now 😂   \n",
       "10         Continuing my stream of Red Dead Redemption 2. Come check it out on Twitch &amp; YouTube.   \n",
       "11  red dead redemption 2 au where i fight rockstar to the death, win, and then smooch arthur morgan   \n",
       "12      Red Dead Redemption 2 is the worst game ever programmed ever in the year 2018. @ me cowards.   \n",
       "13                                                          Streaming Red Dead Redemption in a few 🐎   \n",
       "\n",
       "                                                                                          text_clean  \\\n",
       "9                                     well...that's red dead redemption 2 finished....kinda sad now    \n",
       "10         continuing my stream of red dead redemption 2. come check it out on twitch &amp; youtube.   \n",
       "11  red dead redemption 2 au where i fight rockstar to the death, win, and then smooch arthur morgan   \n",
       "12       red dead redemption 2 is the worst game ever programmed ever in the year 2018.  me cowards.   \n",
       "13                                                           streaming red dead redemption in a few    \n",
       "\n",
       "                                             text_no_stop  \n",
       "9                         well   2 finished    kinda sad   \n",
       "10  continuing stream 2  come check twitch  amp  youtube   \n",
       "11   2 au fight rockstar death  win  smooch arthur morgan  \n",
       "12      2 worst ever programmed ever year 2018   cowards   \n",
       "13                                             streaming   "
      ]
     },
     "execution_count": 14,
     "metadata": {},
     "output_type": "execute_result"
    }
   ],
   "source": [
    "rdr2_tweets_df.sort_values(by = 'created_at', ascending = True).head(5)"
   ]
  },
  {
   "cell_type": "code",
   "execution_count": 15,
   "metadata": {},
   "outputs": [],
   "source": [
    "corpus = list(rdr2_tweets_df.text_no_stop)\n",
    "corpus = [tweet.split(' ') for tweet in corpus]"
   ]
  },
  {
   "cell_type": "code",
   "execution_count": 16,
   "metadata": {},
   "outputs": [],
   "source": [
    "def filter(word):\n",
    "    return ''.join(e for e in word if e.isalnum())"
   ]
  },
  {
   "cell_type": "code",
   "execution_count": 17,
   "metadata": {},
   "outputs": [],
   "source": [
    "for i, tweet in enumerate(corpus):\n",
    "    new_list = [filter(word) for word in tweet]\n",
    "    corpus[i] = new_list"
   ]
  },
  {
   "cell_type": "code",
   "execution_count": null,
   "metadata": {},
   "outputs": [],
   "source": [
    "# Build the bigram and trigram models\n",
    "bigram = gensim.models.Phrases(corpus, min_count=20)\n",
    "trigram = gensim.models.Phrases(bigram[corpus], min_count=10)  \n",
    "\n",
    "bigram_model = gensim.models.phrases.Phraser(bigram)\n",
    "trigram_model = gensim.models.phrases.Phraser(trigram)\n",
    "corpus = [trigram_model[bigram_model[t]] for t in corpus]"
   ]
  },
  {
   "cell_type": "code",
   "execution_count": 19,
   "metadata": {},
   "outputs": [],
   "source": [
    "import spacy\n",
    "nlp = spacy.load('en', disable=['parser', 'ner'])\n",
    "\n",
    "# NOUN, ADJ, VERB, ADV\n",
    "def lemmatization(texts, allowed_postags=['NOUN']):\n",
    "    texts_out = []\n",
    "    for sent in tqdm(texts):\n",
    "        doc = nlp(' '.join(sent)) \n",
    "        output_text = [token.lemma_ for token in doc if token.pos_ in allowed_postags and token.is_stop == False]\n",
    "#         if len(output_text) > 0:\n",
    "        texts_out.append(output_text)\n",
    "    return texts_out"
   ]
  },
  {
   "cell_type": "code",
   "execution_count": 20,
   "metadata": {},
   "outputs": [
    {
     "name": "stderr",
     "output_type": "stream",
     "text": [
      "100%|██████████| 9264/9264 [00:44<00:00, 210.34it/s]\n"
     ]
    }
   ],
   "source": [
    "# takes ~44 secs\n",
    "lemm_corpus = lemmatization(corpus)"
   ]
  },
  {
   "cell_type": "code",
   "execution_count": 21,
   "metadata": {},
   "outputs": [],
   "source": [
    "from copy import deepcopy, copy\n",
    "lemm_corpus_s = deepcopy(lemm_corpus)"
   ]
  },
  {
   "cell_type": "code",
   "execution_count": 22,
   "metadata": {},
   "outputs": [
    {
     "name": "stdout",
     "output_type": "stream",
     "text": [
      "yeehaw\n",
      "xbox_one\n",
      "nerd location\n",
      "\n",
      "banana blunt\n"
     ]
    }
   ],
   "source": [
    "for i, tweet in enumerate(lemm_corpus):\n",
    "    lemm_corpus[i] = ' '.join(tweet)\n",
    "    lemm_corpus[i].replace('-PRON-','')\n",
    "    lemm_corpus[i].replace('pron','')\n",
    "    if i < 5:\n",
    "        print(lemm_corpus[i])"
   ]
  },
  {
   "cell_type": "code",
   "execution_count": 23,
   "metadata": {},
   "outputs": [
    {
     "data": {
      "text/html": [
       "<div>\n",
       "<style scoped>\n",
       "    .dataframe tbody tr th:only-of-type {\n",
       "        vertical-align: middle;\n",
       "    }\n",
       "\n",
       "    .dataframe tbody tr th {\n",
       "        vertical-align: top;\n",
       "    }\n",
       "\n",
       "    .dataframe thead th {\n",
       "        text-align: right;\n",
       "    }\n",
       "</style>\n",
       "<table border=\"1\" class=\"dataframe\">\n",
       "  <thead>\n",
       "    <tr style=\"text-align: right;\">\n",
       "      <th></th>\n",
       "      <th>aaa</th>\n",
       "      <th>aaaaa</th>\n",
       "      <th>aaaand</th>\n",
       "      <th>aajedi</th>\n",
       "      <th>aakh</th>\n",
       "      <th>aaron</th>\n",
       "      <th>aball</th>\n",
       "      <th>abduction</th>\n",
       "      <th>abdulllalsaleh</th>\n",
       "      <th>abeerandagame</th>\n",
       "      <th>...</th>\n",
       "      <th>zmanbrianzane</th>\n",
       "      <th>zoenlanosca</th>\n",
       "      <th>zombie</th>\n",
       "      <th>zone</th>\n",
       "      <th>zordon</th>\n",
       "      <th>zotaki</th>\n",
       "      <th>zscrollock</th>\n",
       "      <th>zteevin</th>\n",
       "      <th>zumbiezuza</th>\n",
       "      <th>zzrayannzz</th>\n",
       "    </tr>\n",
       "    <tr>\n",
       "      <th>_id</th>\n",
       "      <th></th>\n",
       "      <th></th>\n",
       "      <th></th>\n",
       "      <th></th>\n",
       "      <th></th>\n",
       "      <th></th>\n",
       "      <th></th>\n",
       "      <th></th>\n",
       "      <th></th>\n",
       "      <th></th>\n",
       "      <th></th>\n",
       "      <th></th>\n",
       "      <th></th>\n",
       "      <th></th>\n",
       "      <th></th>\n",
       "      <th></th>\n",
       "      <th></th>\n",
       "      <th></th>\n",
       "      <th></th>\n",
       "      <th></th>\n",
       "      <th></th>\n",
       "    </tr>\n",
       "  </thead>\n",
       "  <tbody>\n",
       "    <tr>\n",
       "      <th>5be8c1412af8b82a53bb9ed3</th>\n",
       "      <td>0</td>\n",
       "      <td>0</td>\n",
       "      <td>0</td>\n",
       "      <td>0</td>\n",
       "      <td>0</td>\n",
       "      <td>0</td>\n",
       "      <td>0</td>\n",
       "      <td>0</td>\n",
       "      <td>0</td>\n",
       "      <td>0</td>\n",
       "      <td>...</td>\n",
       "      <td>0</td>\n",
       "      <td>0</td>\n",
       "      <td>0</td>\n",
       "      <td>0</td>\n",
       "      <td>0</td>\n",
       "      <td>0</td>\n",
       "      <td>0</td>\n",
       "      <td>0</td>\n",
       "      <td>0</td>\n",
       "      <td>0</td>\n",
       "    </tr>\n",
       "    <tr>\n",
       "      <th>5be8c1722af8b82a53bb9edb</th>\n",
       "      <td>0</td>\n",
       "      <td>0</td>\n",
       "      <td>0</td>\n",
       "      <td>0</td>\n",
       "      <td>0</td>\n",
       "      <td>0</td>\n",
       "      <td>0</td>\n",
       "      <td>0</td>\n",
       "      <td>0</td>\n",
       "      <td>0</td>\n",
       "      <td>...</td>\n",
       "      <td>0</td>\n",
       "      <td>0</td>\n",
       "      <td>0</td>\n",
       "      <td>0</td>\n",
       "      <td>0</td>\n",
       "      <td>0</td>\n",
       "      <td>0</td>\n",
       "      <td>0</td>\n",
       "      <td>0</td>\n",
       "      <td>0</td>\n",
       "    </tr>\n",
       "    <tr>\n",
       "      <th>5be8c17d2af8b82a53bb9edd</th>\n",
       "      <td>0</td>\n",
       "      <td>0</td>\n",
       "      <td>0</td>\n",
       "      <td>0</td>\n",
       "      <td>0</td>\n",
       "      <td>0</td>\n",
       "      <td>0</td>\n",
       "      <td>0</td>\n",
       "      <td>0</td>\n",
       "      <td>0</td>\n",
       "      <td>...</td>\n",
       "      <td>0</td>\n",
       "      <td>0</td>\n",
       "      <td>0</td>\n",
       "      <td>0</td>\n",
       "      <td>0</td>\n",
       "      <td>0</td>\n",
       "      <td>0</td>\n",
       "      <td>0</td>\n",
       "      <td>0</td>\n",
       "      <td>0</td>\n",
       "    </tr>\n",
       "    <tr>\n",
       "      <th>5be8c1832af8b82a53bb9edf</th>\n",
       "      <td>0</td>\n",
       "      <td>0</td>\n",
       "      <td>0</td>\n",
       "      <td>0</td>\n",
       "      <td>0</td>\n",
       "      <td>0</td>\n",
       "      <td>0</td>\n",
       "      <td>0</td>\n",
       "      <td>0</td>\n",
       "      <td>0</td>\n",
       "      <td>...</td>\n",
       "      <td>0</td>\n",
       "      <td>0</td>\n",
       "      <td>0</td>\n",
       "      <td>0</td>\n",
       "      <td>0</td>\n",
       "      <td>0</td>\n",
       "      <td>0</td>\n",
       "      <td>0</td>\n",
       "      <td>0</td>\n",
       "      <td>0</td>\n",
       "    </tr>\n",
       "    <tr>\n",
       "      <th>5be8c1bc2af8b82a53bb9ee4</th>\n",
       "      <td>0</td>\n",
       "      <td>0</td>\n",
       "      <td>0</td>\n",
       "      <td>0</td>\n",
       "      <td>0</td>\n",
       "      <td>0</td>\n",
       "      <td>0</td>\n",
       "      <td>0</td>\n",
       "      <td>0</td>\n",
       "      <td>0</td>\n",
       "      <td>...</td>\n",
       "      <td>0</td>\n",
       "      <td>0</td>\n",
       "      <td>0</td>\n",
       "      <td>0</td>\n",
       "      <td>0</td>\n",
       "      <td>0</td>\n",
       "      <td>0</td>\n",
       "      <td>0</td>\n",
       "      <td>0</td>\n",
       "      <td>0</td>\n",
       "    </tr>\n",
       "  </tbody>\n",
       "</table>\n",
       "<p>5 rows × 6024 columns</p>\n",
       "</div>"
      ],
      "text/plain": [
       "                          aaa  aaaaa  aaaand  aajedi  aakh  aaron  aball  \\\n",
       "_id                                                                        \n",
       "5be8c1412af8b82a53bb9ed3    0      0       0       0     0      0      0   \n",
       "5be8c1722af8b82a53bb9edb    0      0       0       0     0      0      0   \n",
       "5be8c17d2af8b82a53bb9edd    0      0       0       0     0      0      0   \n",
       "5be8c1832af8b82a53bb9edf    0      0       0       0     0      0      0   \n",
       "5be8c1bc2af8b82a53bb9ee4    0      0       0       0     0      0      0   \n",
       "\n",
       "                          abduction  abdulllalsaleh  abeerandagame  \\\n",
       "_id                                                                  \n",
       "5be8c1412af8b82a53bb9ed3          0               0              0   \n",
       "5be8c1722af8b82a53bb9edb          0               0              0   \n",
       "5be8c17d2af8b82a53bb9edd          0               0              0   \n",
       "5be8c1832af8b82a53bb9edf          0               0              0   \n",
       "5be8c1bc2af8b82a53bb9ee4          0               0              0   \n",
       "\n",
       "                             ...      zmanbrianzane  zoenlanosca  zombie  \\\n",
       "_id                          ...                                           \n",
       "5be8c1412af8b82a53bb9ed3     ...                  0            0       0   \n",
       "5be8c1722af8b82a53bb9edb     ...                  0            0       0   \n",
       "5be8c17d2af8b82a53bb9edd     ...                  0            0       0   \n",
       "5be8c1832af8b82a53bb9edf     ...                  0            0       0   \n",
       "5be8c1bc2af8b82a53bb9ee4     ...                  0            0       0   \n",
       "\n",
       "                          zone  zordon  zotaki  zscrollock  zteevin  \\\n",
       "_id                                                                   \n",
       "5be8c1412af8b82a53bb9ed3     0       0       0           0        0   \n",
       "5be8c1722af8b82a53bb9edb     0       0       0           0        0   \n",
       "5be8c17d2af8b82a53bb9edd     0       0       0           0        0   \n",
       "5be8c1832af8b82a53bb9edf     0       0       0           0        0   \n",
       "5be8c1bc2af8b82a53bb9ee4     0       0       0           0        0   \n",
       "\n",
       "                          zumbiezuza  zzrayannzz  \n",
       "_id                                               \n",
       "5be8c1412af8b82a53bb9ed3           0           0  \n",
       "5be8c1722af8b82a53bb9edb           0           0  \n",
       "5be8c17d2af8b82a53bb9edd           0           0  \n",
       "5be8c1832af8b82a53bb9edf           0           0  \n",
       "5be8c1bc2af8b82a53bb9ee4           0           0  \n",
       "\n",
       "[5 rows x 6024 columns]"
      ]
     },
     "execution_count": 23,
     "metadata": {},
     "output_type": "execute_result"
    }
   ],
   "source": [
    "vectorizer = CountVectorizer(min_df=1, ngram_range = (1,1), stop_words=stop_words_list, token_pattern='\\\\b[a-z][a-z]+\\\\b')\n",
    "dtm = vectorizer.fit_transform(lemm_corpus)\n",
    "dtm\n",
    "# dtm_df = pd.DataFrame(dtm.toarray(), columns=vectorizer.get_feature_names())\n",
    "dtm_df = pd.DataFrame(dtm.toarray(), index=rdr2_tweets_df._id, columns=vectorizer.get_feature_names())\n",
    "dtm_df.head()"
   ]
  },
  {
   "cell_type": "markdown",
   "metadata": {},
   "source": [
    "# LDA"
   ]
  },
  {
   "cell_type": "code",
   "execution_count": 24,
   "metadata": {},
   "outputs": [],
   "source": [
    "id2word = gensim.corpora.Dictionary(lemm_corpus_s)\n",
    "id2word.filter_extremes(no_below=2, no_above=0.5, keep_n=100000, keep_tokens=None)\n",
    "corpus_lemm = [id2word.doc2bow(t) for t in lemm_corpus_s]"
   ]
  },
  {
   "cell_type": "code",
   "execution_count": null,
   "metadata": {
    "scrolled": false
   },
   "outputs": [],
   "source": [
    "# lda_model = gensim.models.ldamulticore.LdaMulticore(corpus=corpus_lemm,\n",
    "#                                            id2word=id2word,\n",
    "#                                            num_topics=5,\n",
    "#                                            random_state=100,\n",
    "#                                            chunksize=100,\n",
    "#                                            passes=128,\n",
    "#                                            per_word_topics=True)"
   ]
  },
  {
   "cell_type": "code",
   "execution_count": 25,
   "metadata": {},
   "outputs": [],
   "source": [
    "# from sklearn.externals import joblib\n",
    "# joblib.dump(lda_model, 'lda_model_noun.joblib')\n",
    "\n",
    "from sklearn.externals import joblib\n",
    "lda_model = joblib.load('lda_model_noun.joblib')"
   ]
  },
  {
   "cell_type": "code",
   "execution_count": 26,
   "metadata": {
    "scrolled": false
   },
   "outputs": [
    {
     "name": "stdout",
     "output_type": "stream",
     "text": [
      "[(0,\n",
      "  '0.099*\"thegameaward\" + 0.036*\"people\" + 0.029*\"day\" + 0.026*\"guy\" + '\n",
      "  '0.021*\"time\" + 0.021*\"shit\" + 0.020*\"life\" + 0.017*\"xbox\" + 0.016*\"game\" + '\n",
      "  '0.012*\"mission\"'),\n",
      " (1,\n",
      "  '0.044*\"game\" + 0.044*\"way\" + 0.020*\"hand\" + 0.017*\"gta\" + 0.016*\"money\" + '\n",
      "  '0.014*\"fun\" + 0.012*\"thing\" + 0.010*\"fallout_76\" + 0.010*\"lot\" + '\n",
      "  '0.010*\"level\"'),\n",
      " (2,\n",
      "  '0.050*\"time\" + 0.046*\"rockstargame\" + 0.037*\"hour\" + 0.026*\"man\" + '\n",
      "  '0.019*\"cowboy\" + 0.017*\"story\" + 0.017*\"tonight\" + 0.016*\"end\" + '\n",
      "  '0.016*\"stream\" + 0.015*\"lol\"'),\n",
      " (3,\n",
      "  '0.061*\"play\" + 0.049*\"horse\" + 0.045*\"spider_man\" + 0.032*\"gow\" + '\n",
      "  '0.027*\"love\" + 0.023*\"week\" + 0.021*\"award\" + 0.016*\"video\" + 0.016*\"amp\" + '\n",
      "  '0.014*\"lmao\"'),\n",
      " (4,\n",
      "  '0.089*\"year\" + 0.039*\"celeste\" + 0.037*\"goty\" + 0.036*\"story\" + '\n",
      "  '0.034*\"game\" + 0.031*\"win\" + 0.028*\"spider_man\" + 0.025*\"spiderman\" + '\n",
      "  '0.019*\"vote\" + 0.016*\"list\"')]\n"
     ]
    }
   ],
   "source": [
    "pp.pprint(lda_model.print_topics())"
   ]
  },
  {
   "cell_type": "code",
   "execution_count": 27,
   "metadata": {},
   "outputs": [
    {
     "name": "stderr",
     "output_type": "stream",
     "text": [
      "100%|██████████| 9264/9264 [00:02<00:00, 3179.39it/s]\n"
     ]
    }
   ],
   "source": [
    "topic_list = []\n",
    "topic_intensity = []\n",
    "\n",
    "for i in tqdm(range(0,len(corpus_lemm))):\n",
    "    top_topics = lda_model.get_document_topics(corpus_lemm[i])\n",
    "    top_topics.sort(key=lambda x: x[1], reverse=True)\n",
    "#     print(rdr2_tweets_df.iloc[i,0])\n",
    "#     print(rdr2_tweets_df.iloc[i,7])\n",
    "#     print(top_topics)\n",
    "#     print(top_topics[0][0])\n",
    "    topic_list.append(top_topics[0][0])\n",
    "    topic_intensity.append(top_topics[0][1])\n",
    "rdr2_tweets_df['topic'] = topic_list\n",
    "rdr2_tweets_df['topic_intensity'] = topic_intensity"
   ]
  },
  {
   "cell_type": "code",
   "execution_count": 29,
   "metadata": {},
   "outputs": [
    {
     "data": {
      "text/html": [
       "<div>\n",
       "<style scoped>\n",
       "    .dataframe tbody tr th:only-of-type {\n",
       "        vertical-align: middle;\n",
       "    }\n",
       "\n",
       "    .dataframe tbody tr th {\n",
       "        vertical-align: top;\n",
       "    }\n",
       "\n",
       "    .dataframe thead th {\n",
       "        text-align: right;\n",
       "    }\n",
       "</style>\n",
       "<table border=\"1\" class=\"dataframe\">\n",
       "  <thead>\n",
       "    <tr style=\"text-align: right;\">\n",
       "      <th></th>\n",
       "      <th>favorite_count</th>\n",
       "      <th>retweet_count</th>\n",
       "      <th>sentiment</th>\n",
       "      <th>subjectivity</th>\n",
       "      <th>topic_intensity</th>\n",
       "    </tr>\n",
       "    <tr>\n",
       "      <th>topic</th>\n",
       "      <th></th>\n",
       "      <th></th>\n",
       "      <th></th>\n",
       "      <th></th>\n",
       "      <th></th>\n",
       "    </tr>\n",
       "  </thead>\n",
       "  <tbody>\n",
       "    <tr>\n",
       "      <th>0</th>\n",
       "      <td>0</td>\n",
       "      <td>0</td>\n",
       "      <td>-0.008716</td>\n",
       "      <td>0.304853</td>\n",
       "      <td>0.375651</td>\n",
       "    </tr>\n",
       "    <tr>\n",
       "      <th>1</th>\n",
       "      <td>0</td>\n",
       "      <td>0</td>\n",
       "      <td>0.013425</td>\n",
       "      <td>0.327155</td>\n",
       "      <td>0.548577</td>\n",
       "    </tr>\n",
       "    <tr>\n",
       "      <th>2</th>\n",
       "      <td>0</td>\n",
       "      <td>0</td>\n",
       "      <td>0.006791</td>\n",
       "      <td>0.331555</td>\n",
       "      <td>0.564786</td>\n",
       "    </tr>\n",
       "    <tr>\n",
       "      <th>3</th>\n",
       "      <td>0</td>\n",
       "      <td>0</td>\n",
       "      <td>0.019225</td>\n",
       "      <td>0.341062</td>\n",
       "      <td>0.557116</td>\n",
       "    </tr>\n",
       "    <tr>\n",
       "      <th>4</th>\n",
       "      <td>0</td>\n",
       "      <td>0</td>\n",
       "      <td>0.064635</td>\n",
       "      <td>0.371645</td>\n",
       "      <td>0.571965</td>\n",
       "    </tr>\n",
       "  </tbody>\n",
       "</table>\n",
       "</div>"
      ],
      "text/plain": [
       "       favorite_count  retweet_count  sentiment  subjectivity  topic_intensity\n",
       "topic                                                                         \n",
       "0                   0              0  -0.008716      0.304853         0.375651\n",
       "1                   0              0   0.013425      0.327155         0.548577\n",
       "2                   0              0   0.006791      0.331555         0.564786\n",
       "3                   0              0   0.019225      0.341062         0.557116\n",
       "4                   0              0   0.064635      0.371645         0.571965"
      ]
     },
     "execution_count": 29,
     "metadata": {},
     "output_type": "execute_result"
    }
   ],
   "source": [
    "# should probably use vader sentiment the Textblob model is really neutral\n",
    "rdr2_tweets_df.groupby(by = 'topic').mean()"
   ]
  },
  {
   "cell_type": "code",
   "execution_count": 32,
   "metadata": {
    "scrolled": true
   },
   "outputs": [
    {
     "name": "stdout",
     "output_type": "stream",
     "text": [
      "Hey everyone!  I will be having new hours starting tomorrow (trying out many new things), I will be going live tomorrow at 8:30pm est. And streaming till 4am! That is right I am now gonna do 8 hour streams.  I will be doing more red dead redemption as well.  See ya tomorrow :)\n",
      "\n",
      "Yet red dead redemption 2 and the last of us dont look mature to you right. Yes a super hero movie and a star wars is more mature. Time to block this troll\n",
      "\n",
      "Solid 7+ hour stream today. I truly love Red Dead Redemption 2. Also almost at 200 followers and 1500 channel views on Mixer!\n",
      "\n",
      "@EmperorBigD I'm playing Yakuza Kiwami, Dragon Quest XI and Red dead Redemption 2 all at the same time...okay like a few hours for each every sitting lol\n",
      "\n",
      "My impression of Red Dead Redemption 2: Hold down L3 and R2 and tap X in a 9/8 time signature to brush the dust off your hat. #RedDeadRedemption2\n",
      "\n",
      "Finally caught a clan meeting in the woods in red dead redemption 2. Fire bottles and tomahawks\n",
      "\n",
      "Back home, caught up on some work, been for a bike ride, done the gym now playing on Red Dead Redemption and chilling in my Nana Blanket. Looking forward to catching up with @MattCollabro tomorrow for a few 👍🥃\n",
      "\n",
      "Finally finished Red Dead Redemption 2 after two very intense evening sessions. So so so good! The story is something else. Maybe the best game I’ve ever played #RedDeadRedemption2 @RockstarGames congratulations ! What a game!\n",
      "\n",
      "@plaguetooth the boring parts of red dead are the best parts. the other parts are eh. I like making my cowboy take a lot of baths 🤣\n",
      "\n",
      "So, I'm halfway through-ish Red Dead Redemption 2, and I really wish there was a square to \"greet\" or circle to say, \"That is just the worst fucking idea anyone has had Dutch/Micah\" option when taking missions.\n",
      "\n",
      "@GerardButler @LAFD sad, but God knows of all things, who knows in the future you are not arthur morgan in a future movie telling the story of red dead redemption. @RockstarGames already thought in a movie of the game red dead redemption?\n",
      "\n",
      "Time for some grubbing and then lets start the Red dead redemption 2 grind. Got good 30+ hours in the game and 64% of story done at Ravages so there will be lot of catching up to do.\n",
      "\n",
      "Red Dead Redemption’s plot is so nice it’s stressing me out. I’m just Chapter VI of the game and *cough cough cough* ☹️\n",
      "\n",
      "guve Red Dead an Oregon Trails mode like Assassins Creed has a edutainment mode\n",
      "\n",
      "give Red Dead an Oregon Trails mode like Assassins Creed has a edutainment mode\n",
      "\n",
      "I have decided that for tonight's stream on mixer I will be streaming for a long time involve with the game of Red Dead Redemption an soon as I get the 2nd Red Dead Redemption I will then stream that one stay tuned.\n",
      "\n",
      "Wind Waker (I was 13 and sad it my adventure was over), tales of the abyss ending, red dead redemption ending (u know the part), and xenoblade chronicles 2 ending\n",
      "\n",
      "I bought Dalton Red Dead Redemption 2 and all I have heard for the last hour is “babe, I’m a god damn cowboy”.... pray for me 🙃\n",
      "\n",
      "The red dead redemption’s story is the best story out of any video game. Period.\n",
      "\n",
      "*cough cough* we all know red dead is gonna win *cough cough*\n",
      "\n"
     ]
    }
   ],
   "source": [
    "# manually printing out top tweets of separate topics to get a feel for the topics\n",
    "for i in range(0,20):\n",
    "    print(rdr2_tweets_df.loc[rdr2_tweets_df.topic == 2].sort_values(by = 'topic_intensity', ascending = False).iloc[i,7])\n",
    "    print()"
   ]
  },
  {
   "cell_type": "code",
   "execution_count": 384,
   "metadata": {},
   "outputs": [],
   "source": [
    "# rdr2_tweets_df.to_pickle('topic_modeling_df.pkl')"
   ]
  },
  {
   "cell_type": "code",
   "execution_count": 380,
   "metadata": {},
   "outputs": [
    {
     "name": "stderr",
     "output_type": "stream",
     "text": [
      "/anaconda3/lib/python3.6/site-packages/pyLDAvis/_prepare.py:257: FutureWarning: Sorting because non-concatenation axis is not aligned. A future version\n",
      "of pandas will change to not sort by default.\n",
      "\n",
      "To accept the future behavior, pass 'sort=False'.\n",
      "\n",
      "To retain the current behavior and silence the warning, pass 'sort=True'.\n",
      "\n",
      "  return pd.concat([default_term_info] + list(topic_dfs))\n"
     ]
    }
   ],
   "source": [
    "# created a visualization that wasn't presented\n",
    "# import pyLDAvis\n",
    "# from pyLDAvis import gensim as gensimvis\n",
    "# pyLDAvis.enable_notebook()\n",
    "# vis = gensimvis.prepare(lda_model, corpus_lemm, id2word)\n",
    "# pyLDAvis.save_html(vis, 'lda_noun.html')"
   ]
  },
  {
   "cell_type": "markdown",
   "metadata": {},
   "source": [
    "# Sub topic modeling with LDA"
   ]
  },
  {
   "cell_type": "code",
   "execution_count": 33,
   "metadata": {},
   "outputs": [],
   "source": [
    "rdr2_tweets_sub_df = rdr2_tweets_df.loc[(rdr2_tweets_df['topic'] == 1) | (rdr2_tweets_df['topic'] == 2) | (rdr2_tweets_df['topic'] == 3)].drop(columns = ['topic', 'topic_intensity'])"
   ]
  },
  {
   "cell_type": "code",
   "execution_count": 34,
   "metadata": {},
   "outputs": [
    {
     "data": {
      "text/html": [
       "<div>\n",
       "<style scoped>\n",
       "    .dataframe tbody tr th:only-of-type {\n",
       "        vertical-align: middle;\n",
       "    }\n",
       "\n",
       "    .dataframe tbody tr th {\n",
       "        vertical-align: top;\n",
       "    }\n",
       "\n",
       "    .dataframe thead th {\n",
       "        text-align: right;\n",
       "    }\n",
       "</style>\n",
       "<table border=\"1\" class=\"dataframe\">\n",
       "  <thead>\n",
       "    <tr style=\"text-align: right;\">\n",
       "      <th></th>\n",
       "      <th>_id</th>\n",
       "      <th>created_at</th>\n",
       "      <th>favorite_count</th>\n",
       "      <th>retweet_count</th>\n",
       "      <th>screen_name</th>\n",
       "      <th>sentiment</th>\n",
       "      <th>subjectivity</th>\n",
       "      <th>text</th>\n",
       "      <th>text_clean</th>\n",
       "      <th>text_no_stop</th>\n",
       "    </tr>\n",
       "  </thead>\n",
       "  <tbody>\n",
       "    <tr>\n",
       "      <th>1</th>\n",
       "      <td>5be8c1722af8b82a53bb9edb</td>\n",
       "      <td>Sun Nov 11 23:55:25 +0000 2018</td>\n",
       "      <td>0</td>\n",
       "      <td>0</td>\n",
       "      <td>josepire31</td>\n",
       "      <td>-0.100000</td>\n",
       "      <td>0.200000</td>\n",
       "      <td>Red dead redemption 2 para xbox one 👌🏼</td>\n",
       "      <td>red dead redemption 2 para xbox one</td>\n",
       "      <td>2 para xbox one</td>\n",
       "    </tr>\n",
       "    <tr>\n",
       "      <th>5</th>\n",
       "      <td>5be8c1e02af8b82a53bb9eed</td>\n",
       "      <td>Sun Nov 11 23:57:14 +0000 2018</td>\n",
       "      <td>0</td>\n",
       "      <td>0</td>\n",
       "      <td>BrettVilla</td>\n",
       "      <td>-0.050000</td>\n",
       "      <td>0.141667</td>\n",
       "      <td>Joel from The Last of Us is actually Arthur’s father from Red Dead Redemption 2. 🤔</td>\n",
       "      <td>joel from the last of us is actually arthur’s father from red dead redemption 2. 🤔</td>\n",
       "      <td>joel last us actually arthur’s father 2  🤔</td>\n",
       "    </tr>\n",
       "    <tr>\n",
       "      <th>6</th>\n",
       "      <td>5be8c1ff2af8b82a53bb9ef2</td>\n",
       "      <td>Sun Nov 11 23:57:46 +0000 2018</td>\n",
       "      <td>0</td>\n",
       "      <td>0</td>\n",
       "      <td>fearlessjew</td>\n",
       "      <td>-0.100000</td>\n",
       "      <td>0.200000</td>\n",
       "      <td>The song that plays over the end credits for Red Dead Redemption 2 is \"Desperado\" by Rihanna six times in a row.</td>\n",
       "      <td>the song that plays over the end credits for red dead redemption 2 is \"desperado\" by rihanna six times in a row.</td>\n",
       "      <td>song plays end credits 2  desperado  rihanna six times row</td>\n",
       "    </tr>\n",
       "    <tr>\n",
       "      <th>10</th>\n",
       "      <td>5be8c2f02af8b82a53bb9f32</td>\n",
       "      <td>Mon Nov 12 00:01:47 +0000 2018</td>\n",
       "      <td>0</td>\n",
       "      <td>0</td>\n",
       "      <td>Devon_DaVinci</td>\n",
       "      <td>-0.100000</td>\n",
       "      <td>0.200000</td>\n",
       "      <td>Continuing my stream of Red Dead Redemption 2. Come check it out on Twitch &amp;amp; YouTube.</td>\n",
       "      <td>continuing my stream of red dead redemption 2. come check it out on twitch &amp;amp; youtube.</td>\n",
       "      <td>continuing stream 2  come check twitch  amp  youtube</td>\n",
       "    </tr>\n",
       "    <tr>\n",
       "      <th>13</th>\n",
       "      <td>5be8c3282af8b82a53bb9f3c</td>\n",
       "      <td>Mon Nov 12 00:02:42 +0000 2018</td>\n",
       "      <td>0</td>\n",
       "      <td>0</td>\n",
       "      <td>NubianBby</td>\n",
       "      <td>-0.133333</td>\n",
       "      <td>0.166667</td>\n",
       "      <td>Streaming Red Dead Redemption in a few 🐎</td>\n",
       "      <td>streaming red dead redemption in a few</td>\n",
       "      <td>streaming</td>\n",
       "    </tr>\n",
       "  </tbody>\n",
       "</table>\n",
       "</div>"
      ],
      "text/plain": [
       "                         _id                      created_at  favorite_count  \\\n",
       "1   5be8c1722af8b82a53bb9edb  Sun Nov 11 23:55:25 +0000 2018               0   \n",
       "5   5be8c1e02af8b82a53bb9eed  Sun Nov 11 23:57:14 +0000 2018               0   \n",
       "6   5be8c1ff2af8b82a53bb9ef2  Sun Nov 11 23:57:46 +0000 2018               0   \n",
       "10  5be8c2f02af8b82a53bb9f32  Mon Nov 12 00:01:47 +0000 2018               0   \n",
       "13  5be8c3282af8b82a53bb9f3c  Mon Nov 12 00:02:42 +0000 2018               0   \n",
       "\n",
       "    retweet_count    screen_name  sentiment  subjectivity  \\\n",
       "1               0     josepire31  -0.100000      0.200000   \n",
       "5               0     BrettVilla  -0.050000      0.141667   \n",
       "6               0    fearlessjew  -0.100000      0.200000   \n",
       "10              0  Devon_DaVinci  -0.100000      0.200000   \n",
       "13              0      NubianBby  -0.133333      0.166667   \n",
       "\n",
       "                                                                                                                text  \\\n",
       "1                                                                             Red dead redemption 2 para xbox one 👌🏼   \n",
       "5                                 Joel from The Last of Us is actually Arthur’s father from Red Dead Redemption 2. 🤔   \n",
       "6   The song that plays over the end credits for Red Dead Redemption 2 is \"Desperado\" by Rihanna six times in a row.   \n",
       "10                         Continuing my stream of Red Dead Redemption 2. Come check it out on Twitch &amp; YouTube.   \n",
       "13                                                                          Streaming Red Dead Redemption in a few 🐎   \n",
       "\n",
       "                                                                                                          text_clean  \\\n",
       "1                                                                               red dead redemption 2 para xbox one    \n",
       "5                                 joel from the last of us is actually arthur’s father from red dead redemption 2. 🤔   \n",
       "6   the song that plays over the end credits for red dead redemption 2 is \"desperado\" by rihanna six times in a row.   \n",
       "10                         continuing my stream of red dead redemption 2. come check it out on twitch &amp; youtube.   \n",
       "13                                                                           streaming red dead redemption in a few    \n",
       "\n",
       "                                                    text_no_stop  \n",
       "1                                               2 para xbox one   \n",
       "5                     joel last us actually arthur’s father 2  🤔  \n",
       "6    song plays end credits 2  desperado  rihanna six times row   \n",
       "10         continuing stream 2  come check twitch  amp  youtube   \n",
       "13                                                    streaming   "
      ]
     },
     "execution_count": 34,
     "metadata": {},
     "output_type": "execute_result"
    }
   ],
   "source": [
    "rdr2_tweets_sub_df.head()"
   ]
  },
  {
   "cell_type": "code",
   "execution_count": 35,
   "metadata": {},
   "outputs": [],
   "source": [
    "corpus_sub = list(rdr2_tweets_df.loc[(rdr2_tweets_df['topic'] == 1) | (rdr2_tweets_df['topic'] == 2) | (rdr2_tweets_df['topic'] == 3)].text_no_stop)\n",
    "corpus_sub = [tweet.split(' ') for tweet in corpus_sub]"
   ]
  },
  {
   "cell_type": "code",
   "execution_count": 36,
   "metadata": {},
   "outputs": [],
   "source": [
    "def filter(word):\n",
    "    return ''.join(e for e in word if e.isalnum())"
   ]
  },
  {
   "cell_type": "code",
   "execution_count": 37,
   "metadata": {},
   "outputs": [],
   "source": [
    "for i, tweet in enumerate(corpus_sub):\n",
    "    new_list = [filter(word) for word in tweet]\n",
    "    corpus_sub[i] = new_list"
   ]
  },
  {
   "cell_type": "code",
   "execution_count": null,
   "metadata": {
    "scrolled": true
   },
   "outputs": [],
   "source": [
    "# Build the bigram and trigram models\n",
    "bigram = gensim.models.Phrases(corpus_sub, min_count=20)\n",
    "\n",
    "trigram = gensim.models.Phrases(bigram[corpus_sub], min_count=10)  \n",
    "\n",
    "# Faster way to get a sentence clubbed as a trigram/bigram\n",
    "bigram_model = gensim.models.phrases.Phraser(bigram)\n",
    "trigram_model = gensim.models.phrases.Phraser(trigram)\n",
    "corpus_sub = [trigram_model[bigram_model[t]] for t in corpus_sub]"
   ]
  },
  {
   "cell_type": "code",
   "execution_count": 39,
   "metadata": {},
   "outputs": [],
   "source": [
    "nlp = spacy.load('en', disable=['parser', 'ner'])\n",
    "\n",
    "# NOUN, ADJ, VERB, ADV\n",
    "def lemmatization(texts, allowed_postags=['NOUN']):\n",
    "    texts_out = []\n",
    "    for sent in tqdm(texts):\n",
    "        doc = nlp(' '.join(sent)) \n",
    "        output_text = [token.lemma_ for token in doc if token.pos_ in allowed_postags and token.is_stop == False]\n",
    "#         if len(output_text) > 0:\n",
    "        texts_out.append(output_text)\n",
    "    return texts_out"
   ]
  },
  {
   "cell_type": "code",
   "execution_count": 40,
   "metadata": {
    "scrolled": true
   },
   "outputs": [
    {
     "name": "stderr",
     "output_type": "stream",
     "text": [
      "100%|██████████| 4441/4441 [00:22<00:00, 196.94it/s]\n"
     ]
    }
   ],
   "source": [
    "# about ~22s\n",
    "lemm_corpus_sub = lemmatization(corpus_sub)"
   ]
  },
  {
   "cell_type": "code",
   "execution_count": 41,
   "metadata": {},
   "outputs": [],
   "source": [
    "from copy import deepcopy, copy\n",
    "lemm_corpus_sub_s = deepcopy(lemm_corpus_sub)"
   ]
  },
  {
   "cell_type": "code",
   "execution_count": 43,
   "metadata": {},
   "outputs": [],
   "source": [
    "id2word = gensim.corpora.Dictionary(lemm_corpus_sub_s)\n",
    "id2word.filter_extremes(no_below=2, no_above=0.5, keep_n=100000, keep_tokens=None)\n",
    "corpus_lemm_sub = [id2word.doc2bow(t) for t in lemm_corpus_sub_s]"
   ]
  },
  {
   "cell_type": "code",
   "execution_count": null,
   "metadata": {},
   "outputs": [],
   "source": [
    "# lda_model = gensim.models.ldamulticore.LdaMulticore(corpus=corpus_lemm_sub,\n",
    "#                                            id2word=id2word,\n",
    "#                                            num_topics=5,\n",
    "#                                            random_state=100,\n",
    "#                                            chunksize=100,\n",
    "#                                            passes=128,\n",
    "#                                            per_word_topics=True)"
   ]
  },
  {
   "cell_type": "code",
   "execution_count": 44,
   "metadata": {},
   "outputs": [],
   "source": [
    "# from sklearn.externals import joblib\n",
    "# joblib.dump(lda_model, 'lda_model_noun_sub.joblib')\n",
    "\n",
    "from sklearn.externals import joblib\n",
    "lda_model = joblib.load('lda_model_noun_sub.joblib')"
   ]
  },
  {
   "cell_type": "code",
   "execution_count": 45,
   "metadata": {
    "scrolled": true
   },
   "outputs": [
    {
     "name": "stdout",
     "output_type": "stream",
     "text": [
      "[(0,\n",
      "  '0.052*\"game\" + 0.046*\"way\" + 0.037*\"man\" + 0.028*\"gow\" + 0.025*\"year\" + '\n",
      "  '0.023*\"thegameaward\" + 0.020*\"hand\" + 0.020*\"end\" + 0.018*\"lmao\" + '\n",
      "  '0.018*\"work\"'),\n",
      " (1,\n",
      "  '0.096*\"play\" + 0.045*\"story\" + 0.024*\"game\" + 0.021*\"shit\" + 0.018*\"money\" '\n",
      "  '+ 0.018*\"ps4\" + 0.017*\"arthur\" + 0.013*\"gta\" + 0.013*\"fallout\" + '\n",
      "  '0.012*\"rockstargame\"'),\n",
      " (2,\n",
      "  '0.058*\"spider_man\" + 0.041*\"love\" + 0.039*\"rockstargame\" + 0.016*\"cowboy\" + '\n",
      "  '0.015*\"thank\" + 0.015*\"hell\" + 0.014*\"finish\" + 0.011*\"buy\" + 0.011*\"ass\" + '\n",
      "  '0.010*\"day\"'),\n",
      " (3,\n",
      "  '0.089*\"horse\" + 0.035*\"video\" + 0.023*\"lol\" + 0.021*\"award\" + '\n",
      "  '0.019*\"mission\" + 0.019*\"chapter\" + 0.014*\"pc\" + 0.014*\"goty\" + '\n",
      "  '0.014*\"youtube\" + 0.013*\"thing\"'),\n",
      " (4,\n",
      "  '0.083*\"time\" + 0.054*\"hour\" + 0.033*\"week\" + 0.025*\"tonight\" + '\n",
      "  '0.025*\"stream\" + 0.024*\"thing\" + 0.024*\"today\" + 0.019*\"tomorrow\" + '\n",
      "  '0.012*\"cowboy\" + 0.012*\"night\"')]\n"
     ]
    }
   ],
   "source": [
    "pp.pprint(lda_model.print_topics())"
   ]
  },
  {
   "cell_type": "code",
   "execution_count": 46,
   "metadata": {},
   "outputs": [
    {
     "name": "stderr",
     "output_type": "stream",
     "text": [
      "100%|██████████| 4441/4441 [00:01<00:00, 3084.36it/s]\n"
     ]
    }
   ],
   "source": [
    "topic_list = []\n",
    "topic_intensity = []\n",
    "\n",
    "for i in tqdm(range(0,len(corpus_lemm_sub))):\n",
    "    top_topics = lda_model.get_document_topics(corpus_lemm_sub[i])\n",
    "    top_topics.sort(key=lambda x: x[1], reverse=True)\n",
    "    topic_list.append(top_topics[0][0])\n",
    "    topic_intensity.append(top_topics[0][1])\n",
    "rdr2_tweets_sub_df['topic'] = topic_list\n",
    "rdr2_tweets_sub_df['topic_intensity'] = topic_intensity"
   ]
  },
  {
   "cell_type": "code",
   "execution_count": 47,
   "metadata": {},
   "outputs": [
    {
     "data": {
      "text/html": [
       "<div>\n",
       "<style scoped>\n",
       "    .dataframe tbody tr th:only-of-type {\n",
       "        vertical-align: middle;\n",
       "    }\n",
       "\n",
       "    .dataframe tbody tr th {\n",
       "        vertical-align: top;\n",
       "    }\n",
       "\n",
       "    .dataframe thead th {\n",
       "        text-align: right;\n",
       "    }\n",
       "</style>\n",
       "<table border=\"1\" class=\"dataframe\">\n",
       "  <thead>\n",
       "    <tr style=\"text-align: right;\">\n",
       "      <th></th>\n",
       "      <th>favorite_count</th>\n",
       "      <th>retweet_count</th>\n",
       "      <th>sentiment</th>\n",
       "      <th>subjectivity</th>\n",
       "      <th>topic_intensity</th>\n",
       "    </tr>\n",
       "    <tr>\n",
       "      <th>topic</th>\n",
       "      <th></th>\n",
       "      <th></th>\n",
       "      <th></th>\n",
       "      <th></th>\n",
       "      <th></th>\n",
       "    </tr>\n",
       "  </thead>\n",
       "  <tbody>\n",
       "    <tr>\n",
       "      <th>0</th>\n",
       "      <td>0</td>\n",
       "      <td>0</td>\n",
       "      <td>0.045673</td>\n",
       "      <td>0.351455</td>\n",
       "      <td>0.557997</td>\n",
       "    </tr>\n",
       "    <tr>\n",
       "      <th>1</th>\n",
       "      <td>0</td>\n",
       "      <td>0</td>\n",
       "      <td>-0.010745</td>\n",
       "      <td>0.334825</td>\n",
       "      <td>0.573491</td>\n",
       "    </tr>\n",
       "    <tr>\n",
       "      <th>2</th>\n",
       "      <td>0</td>\n",
       "      <td>0</td>\n",
       "      <td>0.023006</td>\n",
       "      <td>0.328680</td>\n",
       "      <td>0.579552</td>\n",
       "    </tr>\n",
       "    <tr>\n",
       "      <th>3</th>\n",
       "      <td>0</td>\n",
       "      <td>0</td>\n",
       "      <td>0.003570</td>\n",
       "      <td>0.325745</td>\n",
       "      <td>0.566566</td>\n",
       "    </tr>\n",
       "    <tr>\n",
       "      <th>4</th>\n",
       "      <td>0</td>\n",
       "      <td>0</td>\n",
       "      <td>-0.000285</td>\n",
       "      <td>0.325878</td>\n",
       "      <td>0.565469</td>\n",
       "    </tr>\n",
       "  </tbody>\n",
       "</table>\n",
       "</div>"
      ],
      "text/plain": [
       "       favorite_count  retweet_count  sentiment  subjectivity  topic_intensity\n",
       "topic                                                                         \n",
       "0                   0              0   0.045673      0.351455         0.557997\n",
       "1                   0              0  -0.010745      0.334825         0.573491\n",
       "2                   0              0   0.023006      0.328680         0.579552\n",
       "3                   0              0   0.003570      0.325745         0.566566\n",
       "4                   0              0  -0.000285      0.325878         0.565469"
      ]
     },
     "execution_count": 47,
     "metadata": {},
     "output_type": "execute_result"
    }
   ],
   "source": [
    "# sentiment analysis still not working well with Textblob, should use vadersentiment trained on tweets\n",
    "rdr2_tweets_sub_df.groupby(by = 'topic').mean()"
   ]
  },
  {
   "cell_type": "code",
   "execution_count": 49,
   "metadata": {},
   "outputs": [
    {
     "data": {
      "text/html": [
       "<div>\n",
       "<style scoped>\n",
       "    .dataframe tbody tr th:only-of-type {\n",
       "        vertical-align: middle;\n",
       "    }\n",
       "\n",
       "    .dataframe tbody tr th {\n",
       "        vertical-align: top;\n",
       "    }\n",
       "\n",
       "    .dataframe thead th {\n",
       "        text-align: right;\n",
       "    }\n",
       "</style>\n",
       "<table border=\"1\" class=\"dataframe\">\n",
       "  <thead>\n",
       "    <tr style=\"text-align: right;\">\n",
       "      <th></th>\n",
       "      <th>_id</th>\n",
       "      <th>created_at</th>\n",
       "      <th>favorite_count</th>\n",
       "      <th>retweet_count</th>\n",
       "      <th>screen_name</th>\n",
       "      <th>sentiment</th>\n",
       "      <th>subjectivity</th>\n",
       "      <th>text</th>\n",
       "      <th>text_clean</th>\n",
       "      <th>text_no_stop</th>\n",
       "      <th>topic</th>\n",
       "      <th>topic_intensity</th>\n",
       "      <th>text_vader</th>\n",
       "      <th>vader_sentiment</th>\n",
       "    </tr>\n",
       "  </thead>\n",
       "  <tbody>\n",
       "    <tr>\n",
       "      <th>1</th>\n",
       "      <td>5be8c1722af8b82a53bb9edb</td>\n",
       "      <td>Sun Nov 11 23:55:25 +0000 2018</td>\n",
       "      <td>0</td>\n",
       "      <td>0</td>\n",
       "      <td>josepire31</td>\n",
       "      <td>-0.10</td>\n",
       "      <td>0.200000</td>\n",
       "      <td>Red dead redemption 2 para xbox one 👌🏼</td>\n",
       "      <td>red dead redemption 2 para xbox one</td>\n",
       "      <td>2 para xbox one</td>\n",
       "      <td>1</td>\n",
       "      <td>0.599997</td>\n",
       "      <td>2 para xbox one 👌🏼</td>\n",
       "      <td>0.7297</td>\n",
       "    </tr>\n",
       "    <tr>\n",
       "      <th>5</th>\n",
       "      <td>5be8c1e02af8b82a53bb9eed</td>\n",
       "      <td>Sun Nov 11 23:57:14 +0000 2018</td>\n",
       "      <td>0</td>\n",
       "      <td>0</td>\n",
       "      <td>BrettVilla</td>\n",
       "      <td>-0.05</td>\n",
       "      <td>0.141667</td>\n",
       "      <td>Joel from The Last of Us is actually Arthur’s father from Red Dead Redemption 2. 🤔</td>\n",
       "      <td>joel from the last of us is actually arthur’s father from red dead redemption 2. 🤔</td>\n",
       "      <td>joel last us actually arthur’s father 2  🤔</td>\n",
       "      <td>4</td>\n",
       "      <td>0.599984</td>\n",
       "      <td>Joel from The Last of Us is actually Arthur’s father from    2. 🤔</td>\n",
       "      <td>0.0000</td>\n",
       "    </tr>\n",
       "  </tbody>\n",
       "</table>\n",
       "</div>"
      ],
      "text/plain": [
       "                        _id                      created_at  favorite_count  \\\n",
       "1  5be8c1722af8b82a53bb9edb  Sun Nov 11 23:55:25 +0000 2018               0   \n",
       "5  5be8c1e02af8b82a53bb9eed  Sun Nov 11 23:57:14 +0000 2018               0   \n",
       "\n",
       "   retweet_count screen_name  sentiment  subjectivity  \\\n",
       "1              0  josepire31      -0.10      0.200000   \n",
       "5              0  BrettVilla      -0.05      0.141667   \n",
       "\n",
       "                                                                                 text  \\\n",
       "1                                              Red dead redemption 2 para xbox one 👌🏼   \n",
       "5  Joel from The Last of Us is actually Arthur’s father from Red Dead Redemption 2. 🤔   \n",
       "\n",
       "                                                                           text_clean  \\\n",
       "1                                                red dead redemption 2 para xbox one    \n",
       "5  joel from the last of us is actually arthur’s father from red dead redemption 2. 🤔   \n",
       "\n",
       "                                 text_no_stop  topic  topic_intensity  \\\n",
       "1                            2 para xbox one       1         0.599997   \n",
       "5  joel last us actually arthur’s father 2  🤔      4         0.599984   \n",
       "\n",
       "                                                          text_vader  \\\n",
       "1                                                 2 para xbox one 👌🏼   \n",
       "5  Joel from The Last of Us is actually Arthur’s father from    2. 🤔   \n",
       "\n",
       "   vader_sentiment  \n",
       "1           0.7297  \n",
       "5           0.0000  "
      ]
     },
     "execution_count": 49,
     "metadata": {},
     "output_type": "execute_result"
    }
   ],
   "source": [
    "# try vader sentiment, keep emojis in\n",
    "from vaderSentiment.vaderSentiment import SentimentIntensityAnalyzer\n",
    "analyzer = SentimentIntensityAnalyzer()\n",
    "rdr2_tweets_sub_df['text_vader'] = rdr2_tweets_sub_df.text.apply(lambda x: re.sub('redemption','',x, flags=re.IGNORECASE))\n",
    "rdr2_tweets_sub_df['text_vader'] = rdr2_tweets_sub_df.text_vader.apply(lambda x: re.sub('dead','',x, flags=re.IGNORECASE))\n",
    "rdr2_tweets_sub_df['text_vader'] = rdr2_tweets_sub_df.text_vader.apply(lambda x: re.sub('red','',x, flags=re.IGNORECASE))\n",
    "rdr2_tweets_sub_df['vader_sentiment'] = rdr2_tweets_sub_df.text_vader.apply(lambda tweet: analyzer.polarity_scores(tweet)['compound']) \n",
    "rdr2_tweets_sub_df.head(2)"
   ]
  },
  {
   "cell_type": "code",
   "execution_count": 50,
   "metadata": {
    "scrolled": true
   },
   "outputs": [
    {
     "data": {
      "text/html": [
       "<div>\n",
       "<style scoped>\n",
       "    .dataframe tbody tr th:only-of-type {\n",
       "        vertical-align: middle;\n",
       "    }\n",
       "\n",
       "    .dataframe tbody tr th {\n",
       "        vertical-align: top;\n",
       "    }\n",
       "\n",
       "    .dataframe thead th {\n",
       "        text-align: right;\n",
       "    }\n",
       "</style>\n",
       "<table border=\"1\" class=\"dataframe\">\n",
       "  <thead>\n",
       "    <tr style=\"text-align: right;\">\n",
       "      <th></th>\n",
       "      <th>favorite_count</th>\n",
       "      <th>retweet_count</th>\n",
       "      <th>sentiment</th>\n",
       "      <th>subjectivity</th>\n",
       "      <th>topic_intensity</th>\n",
       "      <th>vader_sentiment</th>\n",
       "    </tr>\n",
       "    <tr>\n",
       "      <th>topic</th>\n",
       "      <th></th>\n",
       "      <th></th>\n",
       "      <th></th>\n",
       "      <th></th>\n",
       "      <th></th>\n",
       "      <th></th>\n",
       "    </tr>\n",
       "  </thead>\n",
       "  <tbody>\n",
       "    <tr>\n",
       "      <th>0</th>\n",
       "      <td>0</td>\n",
       "      <td>0</td>\n",
       "      <td>0.045673</td>\n",
       "      <td>0.351455</td>\n",
       "      <td>0.557997</td>\n",
       "      <td>0.180345</td>\n",
       "    </tr>\n",
       "    <tr>\n",
       "      <th>1</th>\n",
       "      <td>0</td>\n",
       "      <td>0</td>\n",
       "      <td>-0.010745</td>\n",
       "      <td>0.334825</td>\n",
       "      <td>0.573491</td>\n",
       "      <td>0.166792</td>\n",
       "    </tr>\n",
       "    <tr>\n",
       "      <th>2</th>\n",
       "      <td>0</td>\n",
       "      <td>0</td>\n",
       "      <td>0.023006</td>\n",
       "      <td>0.328680</td>\n",
       "      <td>0.579552</td>\n",
       "      <td>0.137926</td>\n",
       "    </tr>\n",
       "    <tr>\n",
       "      <th>3</th>\n",
       "      <td>0</td>\n",
       "      <td>0</td>\n",
       "      <td>0.003570</td>\n",
       "      <td>0.325745</td>\n",
       "      <td>0.566566</td>\n",
       "      <td>0.099875</td>\n",
       "    </tr>\n",
       "    <tr>\n",
       "      <th>4</th>\n",
       "      <td>0</td>\n",
       "      <td>0</td>\n",
       "      <td>-0.000285</td>\n",
       "      <td>0.325878</td>\n",
       "      <td>0.565469</td>\n",
       "      <td>0.165188</td>\n",
       "    </tr>\n",
       "  </tbody>\n",
       "</table>\n",
       "</div>"
      ],
      "text/plain": [
       "       favorite_count  retweet_count  sentiment  subjectivity  \\\n",
       "topic                                                           \n",
       "0                   0              0   0.045673      0.351455   \n",
       "1                   0              0  -0.010745      0.334825   \n",
       "2                   0              0   0.023006      0.328680   \n",
       "3                   0              0   0.003570      0.325745   \n",
       "4                   0              0  -0.000285      0.325878   \n",
       "\n",
       "       topic_intensity  vader_sentiment  \n",
       "topic                                    \n",
       "0             0.557997         0.180345  \n",
       "1             0.573491         0.166792  \n",
       "2             0.579552         0.137926  \n",
       "3             0.566566         0.099875  \n",
       "4             0.565469         0.165188  "
      ]
     },
     "execution_count": 50,
     "metadata": {},
     "output_type": "execute_result"
    }
   ],
   "source": [
    "# better sentiment\n",
    "rdr2_tweets_sub_df.groupby(by = 'topic').mean()"
   ]
  },
  {
   "cell_type": "code",
   "execution_count": 51,
   "metadata": {},
   "outputs": [
    {
     "data": {
      "text/html": [
       "<div>\n",
       "<style scoped>\n",
       "    .dataframe tbody tr th:only-of-type {\n",
       "        vertical-align: middle;\n",
       "    }\n",
       "\n",
       "    .dataframe tbody tr th {\n",
       "        vertical-align: top;\n",
       "    }\n",
       "\n",
       "    .dataframe thead th {\n",
       "        text-align: right;\n",
       "    }\n",
       "</style>\n",
       "<table border=\"1\" class=\"dataframe\">\n",
       "  <thead>\n",
       "    <tr style=\"text-align: right;\">\n",
       "      <th></th>\n",
       "      <th>favorite_count</th>\n",
       "      <th>retweet_count</th>\n",
       "      <th>sentiment</th>\n",
       "      <th>subjectivity</th>\n",
       "      <th>topic_intensity</th>\n",
       "      <th>vader_sentiment</th>\n",
       "    </tr>\n",
       "    <tr>\n",
       "      <th>topic</th>\n",
       "      <th></th>\n",
       "      <th></th>\n",
       "      <th></th>\n",
       "      <th></th>\n",
       "      <th></th>\n",
       "      <th></th>\n",
       "    </tr>\n",
       "  </thead>\n",
       "  <tbody>\n",
       "    <tr>\n",
       "      <th>0</th>\n",
       "      <td>0.0</td>\n",
       "      <td>0.0</td>\n",
       "      <td>0.233417</td>\n",
       "      <td>0.217500</td>\n",
       "      <td>0.148110</td>\n",
       "      <td>0.467892</td>\n",
       "    </tr>\n",
       "    <tr>\n",
       "      <th>1</th>\n",
       "      <td>0.0</td>\n",
       "      <td>0.0</td>\n",
       "      <td>0.208861</td>\n",
       "      <td>0.203419</td>\n",
       "      <td>0.143962</td>\n",
       "      <td>0.453261</td>\n",
       "    </tr>\n",
       "    <tr>\n",
       "      <th>2</th>\n",
       "      <td>0.0</td>\n",
       "      <td>0.0</td>\n",
       "      <td>0.219774</td>\n",
       "      <td>0.212519</td>\n",
       "      <td>0.132702</td>\n",
       "      <td>0.463462</td>\n",
       "    </tr>\n",
       "    <tr>\n",
       "      <th>3</th>\n",
       "      <td>0.0</td>\n",
       "      <td>0.0</td>\n",
       "      <td>0.217563</td>\n",
       "      <td>0.200776</td>\n",
       "      <td>0.136026</td>\n",
       "      <td>0.449275</td>\n",
       "    </tr>\n",
       "    <tr>\n",
       "      <th>4</th>\n",
       "      <td>0.0</td>\n",
       "      <td>0.0</td>\n",
       "      <td>0.187275</td>\n",
       "      <td>0.196887</td>\n",
       "      <td>0.145695</td>\n",
       "      <td>0.454923</td>\n",
       "    </tr>\n",
       "  </tbody>\n",
       "</table>\n",
       "</div>"
      ],
      "text/plain": [
       "       favorite_count  retweet_count  sentiment  subjectivity  \\\n",
       "topic                                                           \n",
       "0                 0.0            0.0   0.233417      0.217500   \n",
       "1                 0.0            0.0   0.208861      0.203419   \n",
       "2                 0.0            0.0   0.219774      0.212519   \n",
       "3                 0.0            0.0   0.217563      0.200776   \n",
       "4                 0.0            0.0   0.187275      0.196887   \n",
       "\n",
       "       topic_intensity  vader_sentiment  \n",
       "topic                                    \n",
       "0             0.148110         0.467892  \n",
       "1             0.143962         0.453261  \n",
       "2             0.132702         0.463462  \n",
       "3             0.136026         0.449275  \n",
       "4             0.145695         0.454923  "
      ]
     },
     "execution_count": 51,
     "metadata": {},
     "output_type": "execute_result"
    }
   ],
   "source": [
    "# high standard deviation\n",
    "rdr2_tweets_sub_df.groupby(by = 'topic').std()"
   ]
  },
  {
   "cell_type": "code",
   "execution_count": 53,
   "metadata": {},
   "outputs": [
    {
     "data": {
      "text/plain": [
       "topic\n",
       "0    944\n",
       "1    844\n",
       "2    940\n",
       "3    832\n",
       "4    881\n",
       "Name: _id, dtype: int64"
      ]
     },
     "execution_count": 53,
     "metadata": {},
     "output_type": "execute_result"
    }
   ],
   "source": [
    "# count tweets in each topic\n",
    "rdr2_tweets_sub_df.groupby(by = 'topic').count()._id"
   ]
  },
  {
   "cell_type": "code",
   "execution_count": 54,
   "metadata": {},
   "outputs": [
    {
     "data": {
      "image/png": "[encoded data removed]",
      "text/plain": [
       "<Figure size 432x288 with 1 Axes>"
      ]
     },
     "metadata": {},
     "output_type": "display_data"
    }
   ],
   "source": [
    "# topic 2 sentiment histogram\n",
    "sns.distplot(rdr2_tweets_sub_df.vader_sentiment.loc[rdr2_tweets_sub_df.topic == 2],bins=20, kde = False, color = 'r');"
   ]
  },
  {
   "cell_type": "code",
   "execution_count": 55,
   "metadata": {},
   "outputs": [
    {
     "data": {
      "text/plain": [
       "0.1507082413870748"
      ]
     },
     "execution_count": 55,
     "metadata": {},
     "output_type": "execute_result"
    }
   ],
   "source": [
    "overall_tweet_sentiment = np.mean(rdr2_tweets_sub_df.vader_sentiment)\n",
    "overall_tweet_sentiment\n",
    "# surprised that it is negative on average, given the attention and how good it seems to be received in general"
   ]
  },
  {
   "cell_type": "code",
   "execution_count": 407,
   "metadata": {},
   "outputs": [],
   "source": [
    "# rdr2_tweets_sub_df.to_pickle('topic_modeling_sub_df.pkl')"
   ]
  },
  {
   "cell_type": "code",
   "execution_count": 56,
   "metadata": {
    "scrolled": false
   },
   "outputs": [
    {
     "data": {
      "text/html": [
       "<div>\n",
       "<style scoped>\n",
       "    .dataframe tbody tr th:only-of-type {\n",
       "        vertical-align: middle;\n",
       "    }\n",
       "\n",
       "    .dataframe tbody tr th {\n",
       "        vertical-align: top;\n",
       "    }\n",
       "\n",
       "    .dataframe thead th {\n",
       "        text-align: right;\n",
       "    }\n",
       "</style>\n",
       "<table border=\"1\" class=\"dataframe\">\n",
       "  <thead>\n",
       "    <tr style=\"text-align: right;\">\n",
       "      <th></th>\n",
       "      <th>_id</th>\n",
       "      <th>created_at</th>\n",
       "      <th>favorite_count</th>\n",
       "      <th>retweet_count</th>\n",
       "      <th>screen_name</th>\n",
       "      <th>sentiment</th>\n",
       "      <th>subjectivity</th>\n",
       "      <th>text</th>\n",
       "      <th>text_clean</th>\n",
       "      <th>text_no_stop</th>\n",
       "      <th>topic</th>\n",
       "      <th>topic_intensity</th>\n",
       "      <th>text_vader</th>\n",
       "      <th>vader_sentiment</th>\n",
       "    </tr>\n",
       "  </thead>\n",
       "  <tbody>\n",
       "    <tr>\n",
       "      <th>347</th>\n",
       "      <td>5be8e7862af8b82a53bba471</td>\n",
       "      <td>Mon Nov 12 02:37:53 +0000 2018</td>\n",
       "      <td>0</td>\n",
       "      <td>0</td>\n",
       "      <td>benbonessi</td>\n",
       "      <td>-0.433333</td>\n",
       "      <td>0.570833</td>\n",
       "      <td>red dead redemption 2 is trash. it’s a boring overblown intro to rpg/adventure for jabronis. quoting griffin here, but basically it’s like they turned the boring ass intro wagon scene from skyrim ...</td>\n",
       "      <td>red dead redemption 2 is trash. it’s a boring overblown intro to rpg/adventure for jabronis. quoting griffin here, but basically it’s like they turned the boring ass intro wagon scene from skyrim ...</td>\n",
       "      <td>2 trash  it’s boring overblown intro rpg adventure jabronis  quoting griffin  basically it’s like turned boring ass intro wagon scene skyrim entire</td>\n",
       "      <td>2</td>\n",
       "      <td>0.911108</td>\n",
       "      <td>2 is trash. it’s a boring overblown intro to rpg/adventure for jabronis. quoting griffin here, but basically it’s like they turned the boring ass intro wagon scene from skyrim into an entire game</td>\n",
       "      <td>-0.7269</td>\n",
       "    </tr>\n",
       "    <tr>\n",
       "      <th>692</th>\n",
       "      <td>5be90b922af8b82a53bba940</td>\n",
       "      <td>Mon Nov 12 05:11:41 +0000 2018</td>\n",
       "      <td>0</td>\n",
       "      <td>0</td>\n",
       "      <td>Jessins_</td>\n",
       "      <td>-0.181944</td>\n",
       "      <td>0.440278</td>\n",
       "      <td>@RockstarSupport I having a problem in Red Dead Redemption 2 where my honor bar will not increase despite me receiving dozens and dozens of good honor icons and reloading saved game if I receive b...</td>\n",
       "      <td>rockstarsupport i having a problem in red dead redemption 2 where my honor bar will not increase despite me receiving dozens and dozens of good honor icons and reloading saved game if i receive ba...</td>\n",
       "      <td>rockstarsupport problem 2 honor bar increase despite receiving dozens dozens good honor icons reloading saved receive bad ones  still goes bad karma stopped going sudden</td>\n",
       "      <td>2</td>\n",
       "      <td>0.899790</td>\n",
       "      <td>@RockstarSupport I having a problem in    2 where my honor bar will not increase despite me receiving dozens and dozens of good honor icons and reloading saved game if I receive bad ones. It still...</td>\n",
       "      <td>-0.2803</td>\n",
       "    </tr>\n",
       "    <tr>\n",
       "      <th>6220</th>\n",
       "      <td>5beb6dfb2af8b83c06ea0042</td>\n",
       "      <td>Wed Nov 14 00:36:05 +0000 2018</td>\n",
       "      <td>0</td>\n",
       "      <td>0</td>\n",
       "      <td>scr33chh</td>\n",
       "      <td>-0.031250</td>\n",
       "      <td>0.300000</td>\n",
       "      <td>my real brother never let me play the og red dead redemption back in 2010. well jokes on him bc my frat brothers in wisconsin let me play red dead redemption 2 this weekend which real brother does...</td>\n",
       "      <td>my real brother never let me play the og red dead redemption back in 2010. well jokes on him bc my frat brothers in wisconsin let me play red dead redemption 2 this weekend which real brother does...</td>\n",
       "      <td>real brother never let play og back 2010  well jokes bc frat brothers wisconsin let play 2 weekend real brother doesn’t yet bc he’s lazy get job</td>\n",
       "      <td>2</td>\n",
       "      <td>0.899566</td>\n",
       "      <td>my real brother never let me play the og    back in 2010. well jokes on him bc my frat brothers in wisconsin let me play    2 this weekend which real brother doesn’t have yet bc he’s too lazy to g...</td>\n",
       "      <td>-0.3553</td>\n",
       "    </tr>\n",
       "    <tr>\n",
       "      <th>6716</th>\n",
       "      <td>5beb773b2af8b83c06ea0448</td>\n",
       "      <td>Wed Nov 14 01:15:34 +0000 2018</td>\n",
       "      <td>0</td>\n",
       "      <td>0</td>\n",
       "      <td>_tRistanMCG</td>\n",
       "      <td>0.000000</td>\n",
       "      <td>0.000000</td>\n",
       "      <td>@geoffkeighley @insomniacgames @celeste_game @monsterhunter @RockstarGames @SonySantaMonica @assassinscreed I'd Vote #RDR2 for each category its nominated.</td>\n",
       "      <td>geoffkeighley insomniacgames celeste_game monsterhunter rockstargames sonysantamonica assassinscreed i'd vote #rdr2 for each category its nominated.</td>\n",
       "      <td>geoffkeighley insomniacgames celeste monsterhunter rockstargames sonysantamonica assassinscreed vote  category nominated</td>\n",
       "      <td>2</td>\n",
       "      <td>0.885713</td>\n",
       "      <td>@geoffkeighley @insomniacgames @celeste_game @monsterhunter @RockstarGames @SonySantaMonica @assassinscreed I'd Vote #RDR2 for each category its nominated.</td>\n",
       "      <td>0.0000</td>\n",
       "    </tr>\n",
       "    <tr>\n",
       "      <th>4602</th>\n",
       "      <td>5beb51012af8b83c06e9f2b5</td>\n",
       "      <td>Tue Nov 13 22:32:28 +0000 2018</td>\n",
       "      <td>0</td>\n",
       "      <td>0</td>\n",
       "      <td>LeeroyBrown1978</td>\n",
       "      <td>0.000000</td>\n",
       "      <td>0.000000</td>\n",
       "      <td>@RealThunder402 Fuckin @Treyarch are a joke, I’m deleting bo4 from my PlayStation to make room for RDR2 which I will be getting on payday. Call of duty is dying</td>\n",
       "      <td>realthunder402 fuckin treyarch are a joke, i’m deleting bo4 from my playstation to make room for rdr2 which i will be getting on payday. call of duty is dying</td>\n",
       "      <td>realthunder402 fuckin treyarch joke  i’m deleting bo4 playstation make room getting payday  call duty dying</td>\n",
       "      <td>2</td>\n",
       "      <td>0.885712</td>\n",
       "      <td>@RealThunder402 Fuckin @Treyarch are a joke, I’m deleting bo4 from my PlayStation to make room for RDR2 which I will be getting on payday. Call of duty is dying</td>\n",
       "      <td>0.2960</td>\n",
       "    </tr>\n",
       "  </tbody>\n",
       "</table>\n",
       "</div>"
      ],
      "text/plain": [
       "                           _id                      created_at  \\\n",
       "347   5be8e7862af8b82a53bba471  Mon Nov 12 02:37:53 +0000 2018   \n",
       "692   5be90b922af8b82a53bba940  Mon Nov 12 05:11:41 +0000 2018   \n",
       "6220  5beb6dfb2af8b83c06ea0042  Wed Nov 14 00:36:05 +0000 2018   \n",
       "6716  5beb773b2af8b83c06ea0448  Wed Nov 14 01:15:34 +0000 2018   \n",
       "4602  5beb51012af8b83c06e9f2b5  Tue Nov 13 22:32:28 +0000 2018   \n",
       "\n",
       "      favorite_count  retweet_count      screen_name  sentiment  subjectivity  \\\n",
       "347                0              0       benbonessi  -0.433333      0.570833   \n",
       "692                0              0         Jessins_  -0.181944      0.440278   \n",
       "6220               0              0         scr33chh  -0.031250      0.300000   \n",
       "6716               0              0      _tRistanMCG   0.000000      0.000000   \n",
       "4602               0              0  LeeroyBrown1978   0.000000      0.000000   \n",
       "\n",
       "                                                                                                                                                                                                         text  \\\n",
       "347   red dead redemption 2 is trash. it’s a boring overblown intro to rpg/adventure for jabronis. quoting griffin here, but basically it’s like they turned the boring ass intro wagon scene from skyrim ...   \n",
       "692   @RockstarSupport I having a problem in Red Dead Redemption 2 where my honor bar will not increase despite me receiving dozens and dozens of good honor icons and reloading saved game if I receive b...   \n",
       "6220  my real brother never let me play the og red dead redemption back in 2010. well jokes on him bc my frat brothers in wisconsin let me play red dead redemption 2 this weekend which real brother does...   \n",
       "6716                                              @geoffkeighley @insomniacgames @celeste_game @monsterhunter @RockstarGames @SonySantaMonica @assassinscreed I'd Vote #RDR2 for each category its nominated.   \n",
       "4602                                         @RealThunder402 Fuckin @Treyarch are a joke, I’m deleting bo4 from my PlayStation to make room for RDR2 which I will be getting on payday. Call of duty is dying   \n",
       "\n",
       "                                                                                                                                                                                                   text_clean  \\\n",
       "347   red dead redemption 2 is trash. it’s a boring overblown intro to rpg/adventure for jabronis. quoting griffin here, but basically it’s like they turned the boring ass intro wagon scene from skyrim ...   \n",
       "692   rockstarsupport i having a problem in red dead redemption 2 where my honor bar will not increase despite me receiving dozens and dozens of good honor icons and reloading saved game if i receive ba...   \n",
       "6220  my real brother never let me play the og red dead redemption back in 2010. well jokes on him bc my frat brothers in wisconsin let me play red dead redemption 2 this weekend which real brother does...   \n",
       "6716                                                     geoffkeighley insomniacgames celeste_game monsterhunter rockstargames sonysantamonica assassinscreed i'd vote #rdr2 for each category its nominated.   \n",
       "4602                                           realthunder402 fuckin treyarch are a joke, i’m deleting bo4 from my playstation to make room for rdr2 which i will be getting on payday. call of duty is dying   \n",
       "\n",
       "                                                                                                                                                                   text_no_stop  \\\n",
       "347                        2 trash  it’s boring overblown intro rpg adventure jabronis  quoting griffin  basically it’s like turned boring ass intro wagon scene skyrim entire    \n",
       "692   rockstarsupport problem 2 honor bar increase despite receiving dozens dozens good honor icons reloading saved receive bad ones  still goes bad karma stopped going sudden   \n",
       "6220                           real brother never let play og back 2010  well jokes bc frat brothers wisconsin let play 2 weekend real brother doesn’t yet bc he’s lazy get job   \n",
       "6716                                                  geoffkeighley insomniacgames celeste monsterhunter rockstargames sonysantamonica assassinscreed vote  category nominated    \n",
       "4602                                                                realthunder402 fuckin treyarch joke  i’m deleting bo4 playstation make room getting payday  call duty dying   \n",
       "\n",
       "      topic  topic_intensity  \\\n",
       "347       2         0.911108   \n",
       "692       2         0.899790   \n",
       "6220      2         0.899566   \n",
       "6716      2         0.885713   \n",
       "4602      2         0.885712   \n",
       "\n",
       "                                                                                                                                                                                                   text_vader  \\\n",
       "347       2 is trash. it’s a boring overblown intro to rpg/adventure for jabronis. quoting griffin here, but basically it’s like they turned the boring ass intro wagon scene from skyrim into an entire game   \n",
       "692   @RockstarSupport I having a problem in    2 where my honor bar will not increase despite me receiving dozens and dozens of good honor icons and reloading saved game if I receive bad ones. It still...   \n",
       "6220  my real brother never let me play the og    back in 2010. well jokes on him bc my frat brothers in wisconsin let me play    2 this weekend which real brother doesn’t have yet bc he’s too lazy to g...   \n",
       "6716                                              @geoffkeighley @insomniacgames @celeste_game @monsterhunter @RockstarGames @SonySantaMonica @assassinscreed I'd Vote #RDR2 for each category its nominated.   \n",
       "4602                                         @RealThunder402 Fuckin @Treyarch are a joke, I’m deleting bo4 from my PlayStation to make room for RDR2 which I will be getting on payday. Call of duty is dying   \n",
       "\n",
       "      vader_sentiment  \n",
       "347           -0.7269  \n",
       "692           -0.2803  \n",
       "6220          -0.3553  \n",
       "6716           0.0000  \n",
       "4602           0.2960  "
      ]
     },
     "execution_count": 56,
     "metadata": {},
     "output_type": "execute_result"
    }
   ],
   "source": [
    "# printing out top tweets of a topic for the presentation\n",
    "rdr2_tweets_sub_df.loc[rdr2_tweets_sub_df.topic == 2].sort_values(by = 'topic_intensity', ascending = False).iloc[0:5]"
   ]
  },
  {
   "cell_type": "code",
   "execution_count": 415,
   "metadata": {},
   "outputs": [
    {
     "name": "stderr",
     "output_type": "stream",
     "text": [
      "/anaconda3/lib/python3.6/site-packages/pyLDAvis/_prepare.py:257: FutureWarning: Sorting because non-concatenation axis is not aligned. A future version\n",
      "of pandas will change to not sort by default.\n",
      "\n",
      "To accept the future behavior, pass 'sort=False'.\n",
      "\n",
      "To retain the current behavior and silence the warning, pass 'sort=True'.\n",
      "\n",
      "  return pd.concat([default_term_info] + list(topic_dfs))\n"
     ]
    }
   ],
   "source": [
    "# visualization for \n",
    "# import pyLDAvis\n",
    "# from pyLDAvis import gensim as gensimvis\n",
    "# pyLDAvis.enable_notebook()\n",
    "# vis = gensimvis.prepare(lda_model, corpus_lemm_sub, id2word)\n",
    "# pyLDAvis.save_html(vis, 'lda_noun_sub.html')"
   ]
  },
  {
   "cell_type": "markdown",
   "metadata": {},
   "source": [
    "# Word2Vec with Spacy Preloaded Models (trying to give my old laptop a chance without going into AWS for this project)"
   ]
  },
  {
   "cell_type": "code",
   "execution_count": 57,
   "metadata": {},
   "outputs": [],
   "source": [
    "# nice big word embedding matrix but only takes about 30s to load\n",
    "nlp = spacy.load('en_core_web_lg')"
   ]
  },
  {
   "cell_type": "code",
   "execution_count": 58,
   "metadata": {},
   "outputs": [
    {
     "name": "stderr",
     "output_type": "stream",
     "text": [
      "100%|██████████| 9264/9264 [02:18<00:00, 66.95it/s]\n"
     ]
    }
   ],
   "source": [
    "tokens_tweets = []\n",
    "for tweet in tqdm(lemm_corpus):\n",
    "    tokens = nlp(tweet)\n",
    "    tokens_tweets.append(tokens)"
   ]
  },
  {
   "cell_type": "code",
   "execution_count": null,
   "metadata": {},
   "outputs": [],
   "source": [
    "# pickle is too big to pus\n",
    "# import pickle\n",
    "# with open('tokens_w2v.pkl', 'wb') as p:\n",
    "#     pickle.dump(tokens_tweets, p)"
   ]
  },
  {
   "cell_type": "code",
   "execution_count": null,
   "metadata": {},
   "outputs": [],
   "source": []
  },
  {
   "cell_type": "code",
   "execution_count": 489,
   "metadata": {},
   "outputs": [],
   "source": [
    "index_list = list(rdr2_tweets_df._id)\n",
    "tokens_tweets_i = zip(index_list, tokens_tweets)\n",
    "tokens_tweets_i = list(tokens_tweets_i)"
   ]
  },
  {
   "cell_type": "code",
   "execution_count": 491,
   "metadata": {},
   "outputs": [
    {
     "name": "stdout",
     "output_type": "stream",
     "text": [
      "9264\n",
      "8208\n"
     ]
    }
   ],
   "source": [
    "# weeding out len(0)\n",
    "print(len(tokens_tweets_i))\n",
    "tokens_tweets_i = [i for i in tokens_tweets_i if len(i[1])]\n",
    "print(len(tokens_tweets_i))"
   ]
  },
  {
   "cell_type": "code",
   "execution_count": 472,
   "metadata": {},
   "outputs": [
    {
     "data": {
      "text/plain": [
       "(8208, 300)"
      ]
     },
     "execution_count": 472,
     "metadata": {},
     "output_type": "execute_result"
    }
   ],
   "source": [
    "# turn into word vectors laid on top of each other\n",
    "# dividing by length because i want to get proportions instead of favoring longer tweets, k-means must use euclidean\n",
    "vectorized_tweets = [(i[1].vector/len(i[1])) for i in tokens_tweets_i]\n",
    "vectorized_tweets = np.array(vectorized_tweets)\n",
    "vectorized_tweets.shape"
   ]
  },
  {
   "cell_type": "code",
   "execution_count": 476,
   "metadata": {},
   "outputs": [
    {
     "name": "stdout",
     "output_type": "stream",
     "text": [
      "CPU times: user 2.48 s, sys: 312 ms, total: 2.79 s\n",
      "Wall time: 1.48 s\n"
     ]
    }
   ],
   "source": [
    "%%time\n",
    "# kmeans over vectorized tweets\n",
    "from sklearn.cluster import KMeans\n",
    "km = KMeans(n_clusters=5, n_jobs=-1)\n",
    "km.fit(vectorized_tweets)"
   ]
  },
  {
   "cell_type": "code",
   "execution_count": 477,
   "metadata": {},
   "outputs": [
    {
     "data": {
      "text/plain": [
       "(8208,)"
      ]
     },
     "execution_count": 477,
     "metadata": {},
     "output_type": "execute_result"
    }
   ],
   "source": [
    "km.labels_.shape"
   ]
  },
  {
   "cell_type": "code",
   "execution_count": null,
   "metadata": {
    "scrolled": true
   },
   "outputs": [],
   "source": [
    "# find the tweets that are in each cluster and print some examples of them\n",
    "from sklearn.metrics import silhouette_score\n",
    "sil_scores = []\n",
    "for i in tqdm(range(2,21)):\n",
    "    km = KMeans(n_clusters=i, n_jobs=-1)\n",
    "    km.fit(vectorized_tweets)\n",
    "    sil_scores.append(metrics.silhouette_score(vectorized_tweets, km.labels_, metric='cosine'))\n",
    "plt.plot(list(range(2,21)), sil_scores, color = 'r');\n"
   ]
  },
  {
   "cell_type": "code",
   "execution_count": 530,
   "metadata": {},
   "outputs": [
    {
     "data": {
      "text/plain": [
       "KMeans(algorithm='auto', copy_x=True, init='k-means++', max_iter=300,\n",
       "    n_clusters=10, n_init=10, n_jobs=-1, precompute_distances='auto',\n",
       "    random_state=None, tol=0.0001, verbose=0)"
      ]
     },
     "execution_count": 530,
     "metadata": {},
     "output_type": "execute_result"
    }
   ],
   "source": [
    "# 10 is best according to Kmeans\n",
    "km = KMeans(n_clusters=10, n_jobs=-1, )\n",
    "km.fit(vectorized_tweets)"
   ]
  },
  {
   "cell_type": "code",
   "execution_count": 494,
   "metadata": {},
   "outputs": [],
   "source": [
    "ids = [i[0] for i in tokens_tweets_i]\n",
    "rdr2_tweets_w2v_df = rdr2_tweets_df.loc[rdr2_tweets_df._id.isin(ids),:]\n",
    "rdr2_tweets_w2v_df = rdr2_tweets_w2v_df.drop(columns = ['topic', 'topic_intensity'])\n",
    "rdr2_tweets_w2v_df['topic'] = km.labels_"
   ]
  },
  {
   "cell_type": "code",
   "execution_count": 495,
   "metadata": {},
   "outputs": [
    {
     "name": "stdout",
     "output_type": "stream",
     "text": [
      "<class 'pandas.core.frame.DataFrame'>\n",
      "Int64Index: 8208 entries, 0 to 9263\n",
      "Data columns (total 11 columns):\n",
      "_id               8208 non-null object\n",
      "created_at        8208 non-null object\n",
      "favorite_count    8208 non-null int64\n",
      "retweet_count     8208 non-null int64\n",
      "screen_name       8208 non-null object\n",
      "sentiment         8208 non-null float64\n",
      "subjectivity      8208 non-null float64\n",
      "text              8208 non-null object\n",
      "text_clean        8208 non-null object\n",
      "text_no_stop      8208 non-null object\n",
      "topic             8208 non-null int32\n",
      "dtypes: float64(2), int32(1), int64(2), object(6)\n",
      "memory usage: 737.4+ KB\n"
     ]
    }
   ],
   "source": [
    "rdr2_tweets_w2v_df.info()"
   ]
  },
  {
   "cell_type": "code",
   "execution_count": 500,
   "metadata": {},
   "outputs": [
    {
     "data": {
      "text/plain": [
       "[(0, 5246),\n",
       " (1, 200),\n",
       " (2, 69),\n",
       " (3, 130),\n",
       " (4, 122),\n",
       " (5, 372),\n",
       " (6, 24),\n",
       " (7, 1657),\n",
       " (8, 232),\n",
       " (9, 156)]"
      ]
     },
     "execution_count": 500,
     "metadata": {},
     "output_type": "execute_result"
    }
   ],
   "source": [
    "# tweets in each topic\n",
    "from collections import Counter\n",
    "sorted(Counter(km.labels_).items())"
   ]
  },
  {
   "cell_type": "code",
   "execution_count": 675,
   "metadata": {},
   "outputs": [],
   "source": [
    "# just summing instead of averaging over, this is for dbscan as you can specify optimizing by cosine distance\n",
    "vectorized_tweets_sum = [(i[1].vector) for i in tokens_tweets_i]"
   ]
  },
  {
   "cell_type": "code",
   "execution_count": 714,
   "metadata": {},
   "outputs": [
    {
     "data": {
      "text/plain": [
       "0.6019035054124589"
      ]
     },
     "execution_count": 714,
     "metadata": {},
     "output_type": "execute_result"
    }
   ],
   "source": [
    "# do pca before clustering to for stronger signal and prevent overfitting\n",
    "from sklearn.decomposition import PCA\n",
    "pca = PCA(n_components=30)\n",
    "pca.fit(vectorized_tweets_sum)\n",
    "vectorized_tweets_sum_pca = pca.fit_transform(vectorized_tweets_sum)\n",
    "np.sum(pca.explained_variance_ratio_)"
   ]
  },
  {
   "cell_type": "code",
   "execution_count": 743,
   "metadata": {
    "scrolled": true
   },
   "outputs": [
    {
     "name": "stderr",
     "output_type": "stream",
     "text": [
      "\n",
      "\n",
      "\n",
      "\n",
      "\n",
      "\n",
      "\n",
      "\n",
      "\n",
      "\n",
      "\n",
      "\n",
      "  0%|          | 0/5 [00:00<?, ?it/s]\u001b[A\u001b[A\u001b[A\u001b[A\u001b[A\u001b[A\u001b[A\u001b[A\u001b[A\u001b[A\u001b[A\u001b[A\n",
      "\n",
      "\n",
      "\n",
      "\n",
      "\n",
      "\n",
      "\n",
      "\n",
      "\n",
      "\n",
      "\n",
      " 20%|██        | 1/5 [00:14<00:58, 14.71s/it]\u001b[A\u001b[A\u001b[A\u001b[A\u001b[A\u001b[A\u001b[A\u001b[A\u001b[A\u001b[A\u001b[A\u001b[A\n",
      "\n",
      "\n",
      "\n",
      "\n",
      "\n",
      "\n",
      "\n",
      "\n",
      "\n",
      "\n",
      "\n",
      " 40%|████      | 2/5 [00:31<00:45, 15.28s/it]\u001b[A\u001b[A\u001b[A\u001b[A\u001b[A\u001b[A\u001b[A\u001b[A\u001b[A\u001b[A\u001b[A\u001b[A\n",
      "\n",
      "\n",
      "\n",
      "\n",
      "\n",
      "\n",
      "\n",
      "\n",
      "\n",
      "\n",
      "\n",
      " 60%|██████    | 3/5 [00:48<00:31, 15.84s/it]\u001b[A\u001b[A\u001b[A\u001b[A\u001b[A\u001b[A\u001b[A\u001b[A\u001b[A\u001b[A\u001b[A\u001b[A\n",
      "\n",
      "\n",
      "\n",
      "\n",
      "\n",
      "\n",
      "\n",
      "\n",
      "\n",
      "\n",
      "\n",
      " 80%|████████  | 4/5 [01:04<00:15, 15.81s/it]\u001b[A\u001b[A\u001b[A\u001b[A\u001b[A\u001b[A\u001b[A\u001b[A\u001b[A\u001b[A\u001b[A\u001b[A\n",
      "\n",
      "\n",
      "\n",
      "\n",
      "\n",
      "\n",
      "\n",
      "\n",
      "\n",
      "\n",
      "\n",
      "100%|██████████| 5/5 [01:17<00:00, 15.16s/it]\u001b[A\u001b[A\u001b[A\u001b[A\u001b[A\u001b[A\u001b[A\u001b[A\u001b[A\u001b[A\u001b[A\u001b[A\n",
      "\n",
      "\n",
      "\n",
      "\n",
      "\n",
      "\n",
      "\n",
      "\n",
      "\n",
      "\n",
      "\n",
      "\u001b[A\u001b[A\u001b[A\u001b[A\u001b[A\u001b[A\u001b[A\u001b[A\u001b[A\u001b[A\u001b[A\u001b[A"
     ]
    },
    {
     "data": {
      "image/png": "[encoded data removed]",
      "text/plain": [
       "<Figure size 432x288 with 1 Axes>"
      ]
     },
     "metadata": {},
     "output_type": "display_data"
    }
   ],
   "source": [
    "# find the tweets that are in each cluster and print some examples of them\n",
    "# do pca + dbscan to see if better clusters are obtained\n",
    "# finding the optimal parameters, forgot to use grid search but I guess this works\n",
    "from sklearn.cluster import DBSCAN\n",
    "from sklearn.metrics import silhouette_score\n",
    "sil_scores = []\n",
    "eps_list = np.linspace(0.1,0.2,num=10)\n",
    "min_sample_list = np.linspace(40,60,num = 5)\n",
    "for i in tqdm(range(0,5)):\n",
    "    dbscan = DBSCAN(eps = eps_list, min_samples = 55, metric = 'cosine', n_jobs=-1)\n",
    "    dbscan.fit(vectorized_tweets_sum_pca)\n",
    "    sil_scores.append(metrics.silhouette_score(vectorized_tweets_sum_pca, dbscan.labels_, metric='cosine'))\n",
    "# plt.plot(eps_list, sil_scores, color = 'r');\n",
    "plt.plot(min_sample_list, sil_scores, color = 'r');"
   ]
  },
  {
   "cell_type": "code",
   "execution_count": 744,
   "metadata": {},
   "outputs": [
    {
     "name": "stdout",
     "output_type": "stream",
     "text": [
      "[40. 45. 50. 55. 60.]\n",
      "[-0.1328103170123142, -0.1583847657718184, -0.16523173000759597, -0.1823246246369702, -0.13462606715116818]\n"
     ]
    }
   ],
   "source": [
    "# print(eps_list)\n",
    "print(min_sample_list)\n",
    "print(sil_scores)"
   ]
  },
  {
   "cell_type": "code",
   "execution_count": 745,
   "metadata": {},
   "outputs": [
    {
     "data": {
      "text/plain": [
       "DBSCAN(algorithm='auto', eps=0.14, leaf_size=30, metric='cosine',\n",
       "    metric_params=None, min_samples=55, n_jobs=-1, p=None)"
      ]
     },
     "execution_count": 745,
     "metadata": {},
     "output_type": "execute_result"
    }
   ],
   "source": [
    "dbscan = DBSCAN(eps = 0.14, min_samples = 55, metric = 'cosine', n_jobs=-1)\n",
    "dbscan.fit(vectorized_tweets_sum_pca)"
   ]
  },
  {
   "cell_type": "code",
   "execution_count": 675,
   "metadata": {},
   "outputs": [],
   "source": [
    "# just summing instead of averaging over, this is for dbscan as you can specify optimizing by cosine distance\n",
    "vectorized_tweets_sum = [(i[1].vector) for i in tokens_tweets_i]"
   ]
  },
  {
   "cell_type": "code",
   "execution_count": 714,
   "metadata": {},
   "outputs": [
    {
     "data": {
      "text/plain": [
       "0.6019035054124589"
      ]
     },
     "execution_count": 714,
     "metadata": {},
     "output_type": "execute_result"
    }
   ],
   "source": [
    "# do pca before clustering to for stronger signal and prevent overfitting\n",
    "from sklearn.decomposition import PCA\n",
    "pca = PCA(n_components=30)\n",
    "pca.fit(vectorized_tweets_sum)\n",
    "vectorized_tweets_sum_pca = pca.fit_transform(vectorized_tweets_sum)\n",
    "np.sum(pca.explained_variance_ratio_)"
   ]
  },
  {
   "cell_type": "code",
   "execution_count": 772,
   "metadata": {
    "scrolled": true
   },
   "outputs": [
    {
     "name": "stderr",
     "output_type": "stream",
     "text": [
      "\n",
      "\n",
      "\n",
      "\n",
      "\n",
      "\n",
      "\n",
      "\n",
      "\n",
      "\n",
      "\n",
      "\n",
      "  0%|          | 0/10 [00:00<?, ?it/s]\u001b[A\u001b[A\u001b[A\u001b[A\u001b[A\u001b[A\u001b[A\u001b[A\u001b[A\u001b[A\u001b[A\u001b[A\n",
      "\n",
      "\n",
      "\n",
      "\n",
      "\n",
      "\n",
      "\n",
      "\n",
      "\n",
      "\n",
      "\n",
      " 10%|█         | 1/10 [00:45<06:48, 45.42s/it]\u001b[A\u001b[A\u001b[A\u001b[A\u001b[A\u001b[A\u001b[A\u001b[A\u001b[A\u001b[A\u001b[A\u001b[A\n",
      "\n",
      "\n",
      "\n",
      "\n",
      "\n",
      "\n",
      "\n",
      "\n",
      "\n",
      "\n",
      "\n",
      " 20%|██        | 2/10 [01:03<04:56, 37.11s/it]\u001b[A\u001b[A\u001b[A\u001b[A\u001b[A\u001b[A\u001b[A\u001b[A\u001b[A\u001b[A\u001b[A\u001b[A\n",
      "\n",
      "\n",
      "\n",
      "\n",
      "\n",
      "\n",
      "\n",
      "\n",
      "\n",
      "\n",
      "\n",
      " 30%|███       | 3/10 [01:19<03:36, 30.99s/it]\u001b[A\u001b[A\u001b[A\u001b[A\u001b[A\u001b[A\u001b[A\u001b[A\u001b[A\u001b[A\u001b[A\u001b[A\n",
      "\n",
      "\n",
      "\n",
      "\n",
      "\n",
      "\n",
      "\n",
      "\n",
      "\n",
      "\n",
      "\n",
      " 40%|████      | 4/10 [01:40<02:47, 27.90s/it]\u001b[A\u001b[A\u001b[A\u001b[A\u001b[A\u001b[A\u001b[A\u001b[A\u001b[A\u001b[A\u001b[A\u001b[A\n",
      "\n",
      "\n",
      "\n",
      "\n",
      "\n",
      "\n",
      "\n",
      "\n",
      "\n",
      "\n",
      "\n",
      " 50%|█████     | 5/10 [01:59<02:05, 25.15s/it]\u001b[A\u001b[A\u001b[A\u001b[A\u001b[A\u001b[A\u001b[A\u001b[A\u001b[A\u001b[A\u001b[A\u001b[A\n",
      "\n",
      "\n",
      "\n",
      "\n",
      "\n",
      "\n",
      "\n",
      "\n",
      "\n",
      "\n",
      "\n",
      " 60%|██████    | 6/10 [02:19<01:35, 23.80s/it]\u001b[A\u001b[A\u001b[A\u001b[A\u001b[A\u001b[A\u001b[A\u001b[A\u001b[A\u001b[A\u001b[A\u001b[A\n",
      "\n",
      "\n",
      "\n",
      "\n",
      "\n",
      "\n",
      "\n",
      "\n",
      "\n",
      "\n",
      "\n",
      " 70%|███████   | 7/10 [02:38<01:06, 22.08s/it]\u001b[A\u001b[A\u001b[A\u001b[A\u001b[A\u001b[A\u001b[A\u001b[A\u001b[A\u001b[A\u001b[A\u001b[A\n",
      "\n",
      "\n",
      "\n",
      "\n",
      "\n",
      "\n",
      "\n",
      "\n",
      "\n",
      "\n",
      "\n",
      " 80%|████████  | 8/10 [02:56<00:42, 21.01s/it]\u001b[A\u001b[A\u001b[A\u001b[A\u001b[A\u001b[A\u001b[A\u001b[A\u001b[A\u001b[A\u001b[A\u001b[A\n",
      "\n",
      "\n",
      "\n",
      "\n",
      "\n",
      "\n",
      "\n",
      "\n",
      "\n",
      "\n",
      "\n",
      " 90%|█████████ | 9/10 [03:10<00:19, 19.01s/it]\u001b[A\u001b[A\u001b[A\u001b[A\u001b[A\u001b[A\u001b[A\u001b[A\u001b[A\u001b[A\u001b[A\u001b[A\n",
      "\n",
      "\n",
      "\n",
      "\n",
      "\n",
      "\n",
      "\n",
      "\n",
      "\n",
      "\n",
      "\n",
      "100%|██████████| 10/10 [03:39<00:00, 21.75s/it]\u001b[A\u001b[A\u001b[A\u001b[A\u001b[A\u001b[A\u001b[A\u001b[A\u001b[A\u001b[A\u001b[A\u001b[A\n",
      "\n",
      "\n",
      "\n",
      "\n",
      "\n",
      "\n",
      "\n",
      "\n",
      "\n",
      "\n",
      "\n",
      "\u001b[A\u001b[A\u001b[A\u001b[A\u001b[A\u001b[A\u001b[A\u001b[A\u001b[A\u001b[A\u001b[A\u001b[A"
     ]
    },
    {
     "data": {
      "image/png": "[encoded data removed]",
      "text/plain": [
       "<Figure size 432x288 with 1 Axes>"
      ]
     },
     "metadata": {},
     "output_type": "display_data"
    }
   ],
   "source": [
    "# find the tweets that are in each cluster and print some examples of them\n",
    "# do pca + dbscan to see if better clusters are obtained\n",
    "# finding the optimal parameters, forgot to use grid search but I guess this works\n",
    "from sklearn.cluster import DBSCAN\n",
    "from sklearn.metrics import silhouette_score\n",
    "sil_scores = []\n",
    "eps_list = np.linspace(0.1,0.2,num=10)\n",
    "min_sample_list = np.linspace(40,60,num = 5)\n",
    "for i in tqdm(range(0,10)):\n",
    "    dbscan = DBSCAN(eps = eps_list[i], min_samples = 55, metric = 'cosine', n_jobs=-1)\n",
    "    dbscan.fit(vectorized_tweets_sum_pca)\n",
    "    sil_scores.append(metrics.silhouette_score(vectorized_tweets_sum_pca, dbscan.labels_, metric='cosine'))\n",
    "# plt.plot(eps_list, sil_scores, color = 'r');\n",
    "plt.plot(eps_list, sil_scores, color = 'r');"
   ]
  },
  {
   "cell_type": "code",
   "execution_count": 774,
   "metadata": {},
   "outputs": [
    {
     "data": {
      "image/png": "[encoded data removed]",
      "text/plain": [
       "<Figure size 432x288 with 1 Axes>"
      ]
     },
     "metadata": {},
     "output_type": "display_data"
    }
   ],
   "source": [
    "sns.lineplot(list(range(2,21)), sil_scores, color = 'r');"
   ]
  },
  {
   "cell_type": "code",
   "execution_count": 744,
   "metadata": {},
   "outputs": [
    {
     "name": "stdout",
     "output_type": "stream",
     "text": [
      "[40. 45. 50. 55. 60.]\n",
      "[-0.1328103170123142, -0.1583847657718184, -0.16523173000759597, -0.1823246246369702, -0.13462606715116818]\n"
     ]
    }
   ],
   "source": [
    "# print(eps_list)\n",
    "print(min_sample_list)\n",
    "print(sil_scores)"
   ]
  },
  {
   "cell_type": "code",
   "execution_count": 745,
   "metadata": {},
   "outputs": [
    {
     "data": {
      "text/plain": [
       "DBSCAN(algorithm='auto', eps=0.14, leaf_size=30, metric='cosine',\n",
       "    metric_params=None, min_samples=55, n_jobs=-1, p=None)"
      ]
     },
     "execution_count": 745,
     "metadata": {},
     "output_type": "execute_result"
    }
   ],
   "source": [
    "dbscan = DBSCAN(eps = 0.14, min_samples = 55, metric = 'cosine', n_jobs=-1)\n",
    "dbscan.fit(vectorized_tweets_sum_pca)"
   ]
  },
  {
   "cell_type": "code",
   "execution_count": 746,
   "metadata": {},
   "outputs": [],
   "source": [
    "# dbscan.labels_\n",
    "rdr2_tweets_w2v_df['db_topic'] = dbscan.labels_"
   ]
  },
  {
   "cell_type": "code",
   "execution_count": 747,
   "metadata": {
    "scrolled": true
   },
   "outputs": [
    {
     "data": {
      "text/plain": [
       "array([-1,  0,  6,  1,  3,  2,  5,  4])"
      ]
     },
     "execution_count": 747,
     "metadata": {},
     "output_type": "execute_result"
    }
   ],
   "source": [
    "rdr2_tweets_w2v_df.db_topic.unique()"
   ]
  },
  {
   "cell_type": "code",
   "execution_count": 759,
   "metadata": {},
   "outputs": [
    {
     "data": {
      "text/plain": [
       "[(-1, 6848), (0, 785), (1, 152), (2, 159), (3, 75), (4, 45), (5, 60), (6, 84)]"
      ]
     },
     "execution_count": 759,
     "metadata": {},
     "output_type": "execute_result"
    }
   ],
   "source": [
    "sorted(Counter(dbscan.labels_).items())"
   ]
  },
  {
   "cell_type": "code",
   "execution_count": 746,
   "metadata": {},
   "outputs": [],
   "source": [
    "# dbscan.labels_\n",
    "rdr2_tweets_w2v_df['db_topic'] = dbscan.labels_"
   ]
  },
  {
   "cell_type": "code",
   "execution_count": 771,
   "metadata": {},
   "outputs": [
    {
     "data": {
      "text/html": [
       "<div>\n",
       "<style scoped>\n",
       "    .dataframe tbody tr th:only-of-type {\n",
       "        vertical-align: middle;\n",
       "    }\n",
       "\n",
       "    .dataframe tbody tr th {\n",
       "        vertical-align: top;\n",
       "    }\n",
       "\n",
       "    .dataframe thead th {\n",
       "        text-align: right;\n",
       "    }\n",
       "</style>\n",
       "<table border=\"1\" class=\"dataframe\">\n",
       "  <thead>\n",
       "    <tr style=\"text-align: right;\">\n",
       "      <th></th>\n",
       "      <th>text</th>\n",
       "      <th>db_topic</th>\n",
       "    </tr>\n",
       "  </thead>\n",
       "  <tbody>\n",
       "    <tr>\n",
       "      <th>29</th>\n",
       "      <td>feeling like shit i just wanna play red dead redemption 2 😔🤠</td>\n",
       "      <td>6</td>\n",
       "    </tr>\n",
       "    <tr>\n",
       "      <th>191</th>\n",
       "      <td>Lol it is hella slow paced but it definitely doesn’t suck</td>\n",
       "      <td>6</td>\n",
       "    </tr>\n",
       "    <tr>\n",
       "      <th>234</th>\n",
       "      <td>Obviously working as intended lol</td>\n",
       "      <td>6</td>\n",
       "    </tr>\n",
       "    <tr>\n",
       "      <th>297</th>\n",
       "      <td>I swear about 80% of the NPCs on Red Dead Redemption 2 are nothing but a bag of dicks to you when you just casually say howdy to them. Like wtf did I do bro?! 🤷</td>\n",
       "      <td>6</td>\n",
       "    </tr>\n",
       "    <tr>\n",
       "      <th>306</th>\n",
       "      <td>Steven got the new red dead redemption game and i just heard the girl on the game say “i hate you, you fat sack of shit” 😂😂😂 wtf</td>\n",
       "      <td>6</td>\n",
       "    </tr>\n",
       "    <tr>\n",
       "      <th>346</th>\n",
       "      <td>So I’m playing this red dead redemption shit.  I ran into the kkk. Wtf at this game. They got hoods on and all. Omg.</td>\n",
       "      <td>6</td>\n",
       "    </tr>\n",
       "    <tr>\n",
       "      <th>499</th>\n",
       "      <td>i just beat red dead redemption 2 feel like pure shit</td>\n",
       "      <td>6</td>\n",
       "    </tr>\n",
       "    <tr>\n",
       "      <th>517</th>\n",
       "      <td>Red dead redemption is taking forever to download bro wtf</td>\n",
       "      <td>6</td>\n",
       "    </tr>\n",
       "    <tr>\n",
       "      <th>545</th>\n",
       "      <td>red dead redemption 2 is one hell of a game</td>\n",
       "      <td>6</td>\n",
       "    </tr>\n",
       "    <tr>\n",
       "      <th>648</th>\n",
       "      <td>red dead redemption 2 sure is a hell of a game, huh</td>\n",
       "      <td>6</td>\n",
       "    </tr>\n",
       "    <tr>\n",
       "      <th>675</th>\n",
       "      <td>Hated how red dead redemption 2 ended 🤬🤬 pissed as hell rn</td>\n",
       "      <td>6</td>\n",
       "    </tr>\n",
       "    <tr>\n",
       "      <th>697</th>\n",
       "      <td>Lmfao they not letting this man play red dead redemption lmfao</td>\n",
       "      <td>6</td>\n",
       "    </tr>\n",
       "    <tr>\n",
       "      <th>818</th>\n",
       "      <td>I JUST FOUND THE SCARIEST SHIT IN RED DEAD REDEMPTION 2</td>\n",
       "      <td>6</td>\n",
       "    </tr>\n",
       "    <tr>\n",
       "      <th>821</th>\n",
       "      <td>Hell yeah</td>\n",
       "      <td>6</td>\n",
       "    </tr>\n",
       "    <tr>\n",
       "      <th>1029</th>\n",
       "      <td>Real shit bro the ending to Red Dead Redemption almost made me cry</td>\n",
       "      <td>6</td>\n",
       "    </tr>\n",
       "    <tr>\n",
       "      <th>1047</th>\n",
       "      <td>Damn that game must be something serious ? Lol</td>\n",
       "      <td>6</td>\n",
       "    </tr>\n",
       "    <tr>\n",
       "      <th>1072</th>\n",
       "      <td>red dead redemption 2 but im broke as hell</td>\n",
       "      <td>6</td>\n",
       "    </tr>\n",
       "    <tr>\n",
       "      <th>1145</th>\n",
       "      <td>@iCaleb_7 Red dead redemption 2... Lol... No lies detected</td>\n",
       "      <td>6</td>\n",
       "    </tr>\n",
       "    <tr>\n",
       "      <th>1359</th>\n",
       "      <td>i gotta get this game lol</td>\n",
       "      <td>6</td>\n",
       "    </tr>\n",
       "    <tr>\n",
       "      <th>1383</th>\n",
       "      <td>Lmao why dude look like you @Who_isbob</td>\n",
       "      <td>6</td>\n",
       "    </tr>\n",
       "  </tbody>\n",
       "</table>\n",
       "</div>"
      ],
      "text/plain": [
       "                                                                                                                                                                  text  \\\n",
       "29                                                                                                        feeling like shit i just wanna play red dead redemption 2 😔🤠   \n",
       "191                                                                                                          Lol it is hella slow paced but it definitely doesn’t suck   \n",
       "234                                                                                                                                  Obviously working as intended lol   \n",
       "297   I swear about 80% of the NPCs on Red Dead Redemption 2 are nothing but a bag of dicks to you when you just casually say howdy to them. Like wtf did I do bro?! 🤷   \n",
       "306                                   Steven got the new red dead redemption game and i just heard the girl on the game say “i hate you, you fat sack of shit” 😂😂😂 wtf   \n",
       "346                                               So I’m playing this red dead redemption shit.  I ran into the kkk. Wtf at this game. They got hoods on and all. Omg.   \n",
       "499                                                                                                              i just beat red dead redemption 2 feel like pure shit   \n",
       "517                                                                                                          Red dead redemption is taking forever to download bro wtf   \n",
       "545                                                                                                                        red dead redemption 2 is one hell of a game   \n",
       "648                                                                                                                red dead redemption 2 sure is a hell of a game, huh   \n",
       "675                                                                                                         Hated how red dead redemption 2 ended 🤬🤬 pissed as hell rn   \n",
       "697                                                                                                     Lmfao they not letting this man play red dead redemption lmfao   \n",
       "818                                                                                                            I JUST FOUND THE SCARIEST SHIT IN RED DEAD REDEMPTION 2   \n",
       "821                                                                                                                                                          Hell yeah   \n",
       "1029                                                                                                Real shit bro the ending to Red Dead Redemption almost made me cry   \n",
       "1047                                                                                                                    Damn that game must be something serious ? Lol   \n",
       "1072                                                                                                                        red dead redemption 2 but im broke as hell   \n",
       "1145                                                                                                        @iCaleb_7 Red dead redemption 2... Lol... No lies detected   \n",
       "1359                                                                                                                                         i gotta get this game lol   \n",
       "1383                                                                                                                            Lmao why dude look like you @Who_isbob   \n",
       "\n",
       "      db_topic  \n",
       "29           6  \n",
       "191          6  \n",
       "234          6  \n",
       "297          6  \n",
       "306          6  \n",
       "346          6  \n",
       "499          6  \n",
       "517          6  \n",
       "545          6  \n",
       "648          6  \n",
       "675          6  \n",
       "697          6  \n",
       "818          6  \n",
       "821          6  \n",
       "1029         6  \n",
       "1047         6  \n",
       "1072         6  \n",
       "1145         6  \n",
       "1359         6  \n",
       "1383         6  "
      ]
     },
     "execution_count": 771,
     "metadata": {},
     "output_type": "execute_result"
    }
   ],
   "source": [
    "#top tweets of each dbscan-clustered topic, used this to pull out tweets to interpret\n",
    "db_topic_list = ['N/A','Game of the year discussion','Wanting to play/Trying','GOTY','Spending Time','Horse','Feeling shit/People calling you shit in game']\n",
    "\n",
    "rdr2_tweets_w2v_df.loc[rdr2_tweets_w2v_df.db_topic == 6][['text','db_topic']].head(20)"
   ]
  },
  {
   "cell_type": "code",
   "execution_count": 546,
   "metadata": {},
   "outputs": [],
   "source": [
    "# more in depth analysis of k-means clustered topics\n",
    "centroids = [km.cluster_centers_[i] for i in range(len(km.cluster_centers_))]"
   ]
  },
  {
   "cell_type": "code",
   "execution_count": 542,
   "metadata": {
    "scrolled": true
   },
   "outputs": [
    {
     "data": {
      "text/html": [
       "<div>\n",
       "<style scoped>\n",
       "    .dataframe tbody tr th:only-of-type {\n",
       "        vertical-align: middle;\n",
       "    }\n",
       "\n",
       "    .dataframe tbody tr th {\n",
       "        vertical-align: top;\n",
       "    }\n",
       "\n",
       "    .dataframe thead th {\n",
       "        text-align: right;\n",
       "    }\n",
       "</style>\n",
       "<table border=\"1\" class=\"dataframe\">\n",
       "  <thead>\n",
       "    <tr style=\"text-align: right;\">\n",
       "      <th></th>\n",
       "      <th>_id</th>\n",
       "      <th>created_at</th>\n",
       "      <th>favorite_count</th>\n",
       "      <th>retweet_count</th>\n",
       "      <th>screen_name</th>\n",
       "      <th>sentiment</th>\n",
       "      <th>subjectivity</th>\n",
       "      <th>text</th>\n",
       "      <th>text_clean</th>\n",
       "      <th>text_no_stop</th>\n",
       "      <th>topic</th>\n",
       "      <th>text_vader</th>\n",
       "      <th>vader_sentiment</th>\n",
       "    </tr>\n",
       "  </thead>\n",
       "  <tbody>\n",
       "    <tr>\n",
       "      <th>0</th>\n",
       "      <td>5be8c1412af8b82a53bb9ed3</td>\n",
       "      <td>Sun Nov 11 23:54:36 +0000 2018</td>\n",
       "      <td>0</td>\n",
       "      <td>0</td>\n",
       "      <td>Mxster_Shimxda</td>\n",
       "      <td>0.10</td>\n",
       "      <td>0.466667</td>\n",
       "      <td>(Red Dead Redemption is just Grand Theft Yeehaw.</td>\n",
       "      <td>(red dead redemption is just grand theft yeehaw.</td>\n",
       "      <td>grand theft yeehaw</td>\n",
       "      <td>4</td>\n",
       "      <td>(   is just Grand Theft Yeehaw.</td>\n",
       "      <td>0.4588</td>\n",
       "    </tr>\n",
       "    <tr>\n",
       "      <th>1</th>\n",
       "      <td>5be8c1722af8b82a53bb9edb</td>\n",
       "      <td>Sun Nov 11 23:55:25 +0000 2018</td>\n",
       "      <td>0</td>\n",
       "      <td>0</td>\n",
       "      <td>josepire31</td>\n",
       "      <td>-0.10</td>\n",
       "      <td>0.200000</td>\n",
       "      <td>Red dead redemption 2 para xbox one 👌🏼</td>\n",
       "      <td>red dead redemption 2 para xbox one</td>\n",
       "      <td>2 para xbox one</td>\n",
       "      <td>0</td>\n",
       "      <td>2 para xbox one 👌🏼</td>\n",
       "      <td>0.7297</td>\n",
       "    </tr>\n",
       "    <tr>\n",
       "      <th>2</th>\n",
       "      <td>5be8c17d2af8b82a53bb9edd</td>\n",
       "      <td>Sun Nov 11 23:55:36 +0000 2018</td>\n",
       "      <td>0</td>\n",
       "      <td>0</td>\n",
       "      <td>ditzidoggie</td>\n",
       "      <td>-0.10</td>\n",
       "      <td>0.200000</td>\n",
       "      <td>I got the red dead redemption 2 guide so im gonna nerd out and check out these neat locations</td>\n",
       "      <td>i got the red dead redemption 2 guide so im gonna nerd out and check out these neat locations</td>\n",
       "      <td>got 2 guide im gonna nerd check neat locations</td>\n",
       "      <td>7</td>\n",
       "      <td>I got the    2 guide so im gonna nerd out and check out these neat locations</td>\n",
       "      <td>0.1372</td>\n",
       "    </tr>\n",
       "    <tr>\n",
       "      <th>4</th>\n",
       "      <td>5be8c1bc2af8b82a53bb9ee4</td>\n",
       "      <td>Sun Nov 11 23:56:39 +0000 2018</td>\n",
       "      <td>0</td>\n",
       "      <td>0</td>\n",
       "      <td>Samantha12Sue</td>\n",
       "      <td>-0.10</td>\n",
       "      <td>0.200000</td>\n",
       "      <td>banana blunts &amp;amp; Red Dead Redemption 2🍌🎮</td>\n",
       "      <td>banana blunts &amp;amp; red dead redemption 2</td>\n",
       "      <td>banana blunts  amp  2</td>\n",
       "      <td>7</td>\n",
       "      <td>banana blunts &amp;amp;    2🍌🎮</td>\n",
       "      <td>0.0000</td>\n",
       "    </tr>\n",
       "    <tr>\n",
       "      <th>5</th>\n",
       "      <td>5be8c1e02af8b82a53bb9eed</td>\n",
       "      <td>Sun Nov 11 23:57:14 +0000 2018</td>\n",
       "      <td>0</td>\n",
       "      <td>0</td>\n",
       "      <td>BrettVilla</td>\n",
       "      <td>-0.05</td>\n",
       "      <td>0.141667</td>\n",
       "      <td>Joel from The Last of Us is actually Arthur’s father from Red Dead Redemption 2. 🤔</td>\n",
       "      <td>joel from the last of us is actually arthur’s father from red dead redemption 2. 🤔</td>\n",
       "      <td>joel last us actually arthur’s father 2  🤔</td>\n",
       "      <td>5</td>\n",
       "      <td>Joel from The Last of Us is actually Arthur’s father from    2. 🤔</td>\n",
       "      <td>0.0000</td>\n",
       "    </tr>\n",
       "  </tbody>\n",
       "</table>\n",
       "</div>"
      ],
      "text/plain": [
       "                        _id                      created_at  favorite_count  \\\n",
       "0  5be8c1412af8b82a53bb9ed3  Sun Nov 11 23:54:36 +0000 2018               0   \n",
       "1  5be8c1722af8b82a53bb9edb  Sun Nov 11 23:55:25 +0000 2018               0   \n",
       "2  5be8c17d2af8b82a53bb9edd  Sun Nov 11 23:55:36 +0000 2018               0   \n",
       "4  5be8c1bc2af8b82a53bb9ee4  Sun Nov 11 23:56:39 +0000 2018               0   \n",
       "5  5be8c1e02af8b82a53bb9eed  Sun Nov 11 23:57:14 +0000 2018               0   \n",
       "\n",
       "   retweet_count     screen_name  sentiment  subjectivity  \\\n",
       "0              0  Mxster_Shimxda       0.10      0.466667   \n",
       "1              0      josepire31      -0.10      0.200000   \n",
       "2              0     ditzidoggie      -0.10      0.200000   \n",
       "4              0   Samantha12Sue      -0.10      0.200000   \n",
       "5              0      BrettVilla      -0.05      0.141667   \n",
       "\n",
       "                                                                                            text  \\\n",
       "0                                               (Red Dead Redemption is just Grand Theft Yeehaw.   \n",
       "1                                                         Red dead redemption 2 para xbox one 👌🏼   \n",
       "2  I got the red dead redemption 2 guide so im gonna nerd out and check out these neat locations   \n",
       "4                                                    banana blunts &amp; Red Dead Redemption 2🍌🎮   \n",
       "5             Joel from The Last of Us is actually Arthur’s father from Red Dead Redemption 2. 🤔   \n",
       "\n",
       "                                                                                      text_clean  \\\n",
       "0                                               (red dead redemption is just grand theft yeehaw.   \n",
       "1                                                           red dead redemption 2 para xbox one    \n",
       "2  i got the red dead redemption 2 guide so im gonna nerd out and check out these neat locations   \n",
       "4                                                      banana blunts &amp; red dead redemption 2   \n",
       "5             joel from the last of us is actually arthur’s father from red dead redemption 2. 🤔   \n",
       "\n",
       "                                      text_no_stop  topic  \\\n",
       "0                              grand theft yeehaw       4   \n",
       "1                                 2 para xbox one       0   \n",
       "2   got 2 guide im gonna nerd check neat locations      7   \n",
       "4                            banana blunts  amp  2      7   \n",
       "5       joel last us actually arthur’s father 2  🤔      5   \n",
       "\n",
       "                                                                     text_vader  \\\n",
       "0                                               (   is just Grand Theft Yeehaw.   \n",
       "1                                                            2 para xbox one 👌🏼   \n",
       "2  I got the    2 guide so im gonna nerd out and check out these neat locations   \n",
       "4                                                    banana blunts &amp;    2🍌🎮   \n",
       "5             Joel from The Last of Us is actually Arthur’s father from    2. 🤔   \n",
       "\n",
       "   vader_sentiment  \n",
       "0           0.4588  \n",
       "1           0.7297  \n",
       "2           0.1372  \n",
       "4           0.0000  \n",
       "5           0.0000  "
      ]
     },
     "execution_count": 542,
     "metadata": {},
     "output_type": "execute_result"
    }
   ],
   "source": [
    "# try vader sentiment\n",
    "from vaderSentiment.vaderSentiment import SentimentIntensityAnalyzer\n",
    "analyzer = SentimentIntensityAnalyzer()\n",
    "rdr2_tweets_w2v_df['text_vader'] = rdr2_tweets_w2v_df.text.apply(lambda x: re.sub('redemption','',x, flags=re.IGNORECASE))\n",
    "rdr2_tweets_w2v_df['text_vader'] = rdr2_tweets_w2v_df.text_vader.apply(lambda x: re.sub('dead','',x, flags=re.IGNORECASE))\n",
    "rdr2_tweets_w2v_df['text_vader'] = rdr2_tweets_w2v_df.text_vader.apply(lambda x: re.sub('red','',x, flags=re.IGNORECASE))\n",
    "rdr2_tweets_w2v_df['vader_sentiment'] = rdr2_tweets_w2v_df.text_vader.apply(lambda tweet: analyzer.polarity_scores(tweet)['compound']) \n",
    "rdr2_tweets_w2v_df.head()"
   ]
  },
  {
   "cell_type": "code",
   "execution_count": 543,
   "metadata": {},
   "outputs": [
    {
     "data": {
      "text/html": [
       "<div>\n",
       "<style scoped>\n",
       "    .dataframe tbody tr th:only-of-type {\n",
       "        vertical-align: middle;\n",
       "    }\n",
       "\n",
       "    .dataframe tbody tr th {\n",
       "        vertical-align: top;\n",
       "    }\n",
       "\n",
       "    .dataframe thead th {\n",
       "        text-align: right;\n",
       "    }\n",
       "</style>\n",
       "<table border=\"1\" class=\"dataframe\">\n",
       "  <thead>\n",
       "    <tr style=\"text-align: right;\">\n",
       "      <th></th>\n",
       "      <th>favorite_count</th>\n",
       "      <th>retweet_count</th>\n",
       "      <th>sentiment</th>\n",
       "      <th>subjectivity</th>\n",
       "      <th>vader_sentiment</th>\n",
       "    </tr>\n",
       "    <tr>\n",
       "      <th>topic</th>\n",
       "      <th></th>\n",
       "      <th></th>\n",
       "      <th></th>\n",
       "      <th></th>\n",
       "      <th></th>\n",
       "    </tr>\n",
       "  </thead>\n",
       "  <tbody>\n",
       "    <tr>\n",
       "      <th>0</th>\n",
       "      <td>0</td>\n",
       "      <td>0</td>\n",
       "      <td>0.033597</td>\n",
       "      <td>0.354020</td>\n",
       "      <td>0.184975</td>\n",
       "    </tr>\n",
       "    <tr>\n",
       "      <th>1</th>\n",
       "      <td>0</td>\n",
       "      <td>0</td>\n",
       "      <td>0.007016</td>\n",
       "      <td>0.301163</td>\n",
       "      <td>0.100886</td>\n",
       "    </tr>\n",
       "    <tr>\n",
       "      <th>2</th>\n",
       "      <td>0</td>\n",
       "      <td>0</td>\n",
       "      <td>0.003728</td>\n",
       "      <td>0.296655</td>\n",
       "      <td>0.280894</td>\n",
       "    </tr>\n",
       "    <tr>\n",
       "      <th>3</th>\n",
       "      <td>0</td>\n",
       "      <td>0</td>\n",
       "      <td>-0.029504</td>\n",
       "      <td>0.324089</td>\n",
       "      <td>-0.103543</td>\n",
       "    </tr>\n",
       "    <tr>\n",
       "      <th>4</th>\n",
       "      <td>0</td>\n",
       "      <td>0</td>\n",
       "      <td>-0.032748</td>\n",
       "      <td>0.249208</td>\n",
       "      <td>0.025834</td>\n",
       "    </tr>\n",
       "    <tr>\n",
       "      <th>5</th>\n",
       "      <td>0</td>\n",
       "      <td>0</td>\n",
       "      <td>-0.015503</td>\n",
       "      <td>0.290647</td>\n",
       "      <td>0.061481</td>\n",
       "    </tr>\n",
       "    <tr>\n",
       "      <th>6</th>\n",
       "      <td>0</td>\n",
       "      <td>0</td>\n",
       "      <td>-0.070637</td>\n",
       "      <td>0.273414</td>\n",
       "      <td>-0.120558</td>\n",
       "    </tr>\n",
       "    <tr>\n",
       "      <th>7</th>\n",
       "      <td>0</td>\n",
       "      <td>0</td>\n",
       "      <td>-0.001170</td>\n",
       "      <td>0.328796</td>\n",
       "      <td>0.124235</td>\n",
       "    </tr>\n",
       "    <tr>\n",
       "      <th>8</th>\n",
       "      <td>0</td>\n",
       "      <td>0</td>\n",
       "      <td>0.018445</td>\n",
       "      <td>0.324812</td>\n",
       "      <td>0.161519</td>\n",
       "    </tr>\n",
       "    <tr>\n",
       "      <th>9</th>\n",
       "      <td>0</td>\n",
       "      <td>0</td>\n",
       "      <td>0.008942</td>\n",
       "      <td>0.311334</td>\n",
       "      <td>0.068933</td>\n",
       "    </tr>\n",
       "  </tbody>\n",
       "</table>\n",
       "</div>"
      ],
      "text/plain": [
       "       favorite_count  retweet_count  sentiment  subjectivity  vader_sentiment\n",
       "topic                                                                         \n",
       "0                   0              0   0.033597      0.354020         0.184975\n",
       "1                   0              0   0.007016      0.301163         0.100886\n",
       "2                   0              0   0.003728      0.296655         0.280894\n",
       "3                   0              0  -0.029504      0.324089        -0.103543\n",
       "4                   0              0  -0.032748      0.249208         0.025834\n",
       "5                   0              0  -0.015503      0.290647         0.061481\n",
       "6                   0              0  -0.070637      0.273414        -0.120558\n",
       "7                   0              0  -0.001170      0.328796         0.124235\n",
       "8                   0              0   0.018445      0.324812         0.161519\n",
       "9                   0              0   0.008942      0.311334         0.068933"
      ]
     },
     "execution_count": 543,
     "metadata": {},
     "output_type": "execute_result"
    }
   ],
   "source": [
    "rdr2_tweets_w2v_df.groupby(by = 'topic').mean()"
   ]
  },
  {
   "cell_type": "code",
   "execution_count": 560,
   "metadata": {},
   "outputs": [
    {
     "data": {
      "text/html": [
       "<div>\n",
       "<style scoped>\n",
       "    .dataframe tbody tr th:only-of-type {\n",
       "        vertical-align: middle;\n",
       "    }\n",
       "\n",
       "    .dataframe tbody tr th {\n",
       "        vertical-align: top;\n",
       "    }\n",
       "\n",
       "    .dataframe thead th {\n",
       "        text-align: right;\n",
       "    }\n",
       "</style>\n",
       "<table border=\"1\" class=\"dataframe\">\n",
       "  <thead>\n",
       "    <tr style=\"text-align: right;\">\n",
       "      <th></th>\n",
       "      <th>favorite_count</th>\n",
       "      <th>retweet_count</th>\n",
       "      <th>sentiment</th>\n",
       "      <th>subjectivity</th>\n",
       "      <th>vader_sentiment</th>\n",
       "      <th>dist_from_centroid</th>\n",
       "    </tr>\n",
       "    <tr>\n",
       "      <th>topic</th>\n",
       "      <th></th>\n",
       "      <th></th>\n",
       "      <th></th>\n",
       "      <th></th>\n",
       "      <th></th>\n",
       "      <th></th>\n",
       "    </tr>\n",
       "  </thead>\n",
       "  <tbody>\n",
       "    <tr>\n",
       "      <th>0</th>\n",
       "      <td>0.0</td>\n",
       "      <td>0.0</td>\n",
       "      <td>0.226885</td>\n",
       "      <td>0.205528</td>\n",
       "      <td>0.472089</td>\n",
       "      <td>0.586218</td>\n",
       "    </tr>\n",
       "    <tr>\n",
       "      <th>1</th>\n",
       "      <td>0.0</td>\n",
       "      <td>0.0</td>\n",
       "      <td>0.246389</td>\n",
       "      <td>0.241390</td>\n",
       "      <td>0.337050</td>\n",
       "      <td>0.825769</td>\n",
       "    </tr>\n",
       "    <tr>\n",
       "      <th>2</th>\n",
       "      <td>0.0</td>\n",
       "      <td>0.0</td>\n",
       "      <td>0.162614</td>\n",
       "      <td>0.193552</td>\n",
       "      <td>0.343956</td>\n",
       "      <td>0.526199</td>\n",
       "    </tr>\n",
       "    <tr>\n",
       "      <th>3</th>\n",
       "      <td>0.0</td>\n",
       "      <td>0.0</td>\n",
       "      <td>0.209455</td>\n",
       "      <td>0.249961</td>\n",
       "      <td>0.449311</td>\n",
       "      <td>0.885876</td>\n",
       "    </tr>\n",
       "    <tr>\n",
       "      <th>4</th>\n",
       "      <td>0.0</td>\n",
       "      <td>0.0</td>\n",
       "      <td>0.174027</td>\n",
       "      <td>0.234767</td>\n",
       "      <td>0.269442</td>\n",
       "      <td>1.046683</td>\n",
       "    </tr>\n",
       "    <tr>\n",
       "      <th>5</th>\n",
       "      <td>0.0</td>\n",
       "      <td>0.0</td>\n",
       "      <td>0.220962</td>\n",
       "      <td>0.219733</td>\n",
       "      <td>0.414238</td>\n",
       "      <td>1.142443</td>\n",
       "    </tr>\n",
       "    <tr>\n",
       "      <th>6</th>\n",
       "      <td>0.0</td>\n",
       "      <td>0.0</td>\n",
       "      <td>0.199141</td>\n",
       "      <td>0.161942</td>\n",
       "      <td>0.385456</td>\n",
       "      <td>0.884837</td>\n",
       "    </tr>\n",
       "    <tr>\n",
       "      <th>7</th>\n",
       "      <td>0.0</td>\n",
       "      <td>0.0</td>\n",
       "      <td>0.226443</td>\n",
       "      <td>0.220140</td>\n",
       "      <td>0.439004</td>\n",
       "      <td>1.276265</td>\n",
       "    </tr>\n",
       "    <tr>\n",
       "      <th>8</th>\n",
       "      <td>0.0</td>\n",
       "      <td>0.0</td>\n",
       "      <td>0.274336</td>\n",
       "      <td>0.209314</td>\n",
       "      <td>0.380841</td>\n",
       "      <td>1.531013</td>\n",
       "    </tr>\n",
       "    <tr>\n",
       "      <th>9</th>\n",
       "      <td>0.0</td>\n",
       "      <td>0.0</td>\n",
       "      <td>0.273020</td>\n",
       "      <td>0.274859</td>\n",
       "      <td>0.348586</td>\n",
       "      <td>2.013743</td>\n",
       "    </tr>\n",
       "  </tbody>\n",
       "</table>\n",
       "</div>"
      ],
      "text/plain": [
       "       favorite_count  retweet_count  sentiment  subjectivity  \\\n",
       "topic                                                           \n",
       "0                 0.0            0.0   0.226885      0.205528   \n",
       "1                 0.0            0.0   0.246389      0.241390   \n",
       "2                 0.0            0.0   0.162614      0.193552   \n",
       "3                 0.0            0.0   0.209455      0.249961   \n",
       "4                 0.0            0.0   0.174027      0.234767   \n",
       "5                 0.0            0.0   0.220962      0.219733   \n",
       "6                 0.0            0.0   0.199141      0.161942   \n",
       "7                 0.0            0.0   0.226443      0.220140   \n",
       "8                 0.0            0.0   0.274336      0.209314   \n",
       "9                 0.0            0.0   0.273020      0.274859   \n",
       "\n",
       "       vader_sentiment  dist_from_centroid  \n",
       "topic                                       \n",
       "0             0.472089            0.586218  \n",
       "1             0.337050            0.825769  \n",
       "2             0.343956            0.526199  \n",
       "3             0.449311            0.885876  \n",
       "4             0.269442            1.046683  \n",
       "5             0.414238            1.142443  \n",
       "6             0.385456            0.884837  \n",
       "7             0.439004            1.276265  \n",
       "8             0.380841            1.531013  \n",
       "9             0.348586            2.013743  "
      ]
     },
     "execution_count": 560,
     "metadata": {},
     "output_type": "execute_result"
    }
   ],
   "source": [
    "rdr2_tweets_w2v_df.groupby(by = 'topic').std()"
   ]
  },
  {
   "cell_type": "code",
   "execution_count": 611,
   "metadata": {},
   "outputs": [
    {
     "data": {
      "text/plain": [
       "array([[0.5536924]], dtype=float32)"
      ]
     },
     "execution_count": 611,
     "metadata": {},
     "output_type": "execute_result"
    }
   ],
   "source": [
    "cosine_distances(vectorized_tweets[0].reshape(1,-1),km.cluster_centers_[km.labels_[0]].reshape(1,-1))"
   ]
  },
  {
   "cell_type": "code",
   "execution_count": 615,
   "metadata": {},
   "outputs": [
    {
     "data": {
      "text/html": [
       "<div>\n",
       "<style scoped>\n",
       "    .dataframe tbody tr th:only-of-type {\n",
       "        vertical-align: middle;\n",
       "    }\n",
       "\n",
       "    .dataframe tbody tr th {\n",
       "        vertical-align: top;\n",
       "    }\n",
       "\n",
       "    .dataframe thead th {\n",
       "        text-align: right;\n",
       "    }\n",
       "</style>\n",
       "<table border=\"1\" class=\"dataframe\">\n",
       "  <thead>\n",
       "    <tr style=\"text-align: right;\">\n",
       "      <th></th>\n",
       "      <th>_id</th>\n",
       "      <th>created_at</th>\n",
       "      <th>favorite_count</th>\n",
       "      <th>retweet_count</th>\n",
       "      <th>screen_name</th>\n",
       "      <th>sentiment</th>\n",
       "      <th>subjectivity</th>\n",
       "      <th>text</th>\n",
       "      <th>text_clean</th>\n",
       "      <th>text_no_stop</th>\n",
       "      <th>topic</th>\n",
       "      <th>text_vader</th>\n",
       "      <th>vader_sentiment</th>\n",
       "      <th>dist_from_centroid</th>\n",
       "      <th>cosine_dist</th>\n",
       "    </tr>\n",
       "  </thead>\n",
       "  <tbody>\n",
       "    <tr>\n",
       "      <th>0</th>\n",
       "      <td>5be8c1412af8b82a53bb9ed3</td>\n",
       "      <td>Sun Nov 11 23:54:36 +0000 2018</td>\n",
       "      <td>0</td>\n",
       "      <td>0</td>\n",
       "      <td>Mxster_Shimxda</td>\n",
       "      <td>0.10</td>\n",
       "      <td>0.466667</td>\n",
       "      <td>(Red Dead Redemption is just Grand Theft Yeehaw.</td>\n",
       "      <td>(red dead redemption is just grand theft yeehaw.</td>\n",
       "      <td>grand theft yeehaw</td>\n",
       "      <td>4</td>\n",
       "      <td>(   is just Grand Theft Yeehaw.</td>\n",
       "      <td>0.4588</td>\n",
       "      <td>6.000460</td>\n",
       "      <td>0.553692</td>\n",
       "    </tr>\n",
       "    <tr>\n",
       "      <th>1</th>\n",
       "      <td>5be8c1722af8b82a53bb9edb</td>\n",
       "      <td>Sun Nov 11 23:55:25 +0000 2018</td>\n",
       "      <td>0</td>\n",
       "      <td>0</td>\n",
       "      <td>josepire31</td>\n",
       "      <td>-0.10</td>\n",
       "      <td>0.200000</td>\n",
       "      <td>Red dead redemption 2 para xbox one 👌🏼</td>\n",
       "      <td>red dead redemption 2 para xbox one</td>\n",
       "      <td>2 para xbox one</td>\n",
       "      <td>0</td>\n",
       "      <td>2 para xbox one 👌🏼</td>\n",
       "      <td>0.7297</td>\n",
       "      <td>0.408095</td>\n",
       "      <td>1.000000</td>\n",
       "    </tr>\n",
       "    <tr>\n",
       "      <th>2</th>\n",
       "      <td>5be8c17d2af8b82a53bb9edd</td>\n",
       "      <td>Sun Nov 11 23:55:36 +0000 2018</td>\n",
       "      <td>0</td>\n",
       "      <td>0</td>\n",
       "      <td>ditzidoggie</td>\n",
       "      <td>-0.10</td>\n",
       "      <td>0.200000</td>\n",
       "      <td>I got the red dead redemption 2 guide so im gonna nerd out and check out these neat locations</td>\n",
       "      <td>i got the red dead redemption 2 guide so im gonna nerd out and check out these neat locations</td>\n",
       "      <td>got 2 guide im gonna nerd check neat locations</td>\n",
       "      <td>7</td>\n",
       "      <td>I got the    2 guide so im gonna nerd out and check out these neat locations</td>\n",
       "      <td>0.1372</td>\n",
       "      <td>1.825929</td>\n",
       "      <td>0.416513</td>\n",
       "    </tr>\n",
       "    <tr>\n",
       "      <th>4</th>\n",
       "      <td>5be8c1bc2af8b82a53bb9ee4</td>\n",
       "      <td>Sun Nov 11 23:56:39 +0000 2018</td>\n",
       "      <td>0</td>\n",
       "      <td>0</td>\n",
       "      <td>Samantha12Sue</td>\n",
       "      <td>-0.10</td>\n",
       "      <td>0.200000</td>\n",
       "      <td>banana blunts &amp;amp; Red Dead Redemption 2🍌🎮</td>\n",
       "      <td>banana blunts &amp;amp; red dead redemption 2</td>\n",
       "      <td>banana blunts  amp  2</td>\n",
       "      <td>7</td>\n",
       "      <td>banana blunts &amp;amp;    2🍌🎮</td>\n",
       "      <td>0.0000</td>\n",
       "      <td>2.218814</td>\n",
       "      <td>0.538913</td>\n",
       "    </tr>\n",
       "    <tr>\n",
       "      <th>5</th>\n",
       "      <td>5be8c1e02af8b82a53bb9eed</td>\n",
       "      <td>Sun Nov 11 23:57:14 +0000 2018</td>\n",
       "      <td>0</td>\n",
       "      <td>0</td>\n",
       "      <td>BrettVilla</td>\n",
       "      <td>-0.05</td>\n",
       "      <td>0.141667</td>\n",
       "      <td>Joel from The Last of Us is actually Arthur’s father from Red Dead Redemption 2. 🤔</td>\n",
       "      <td>joel from the last of us is actually arthur’s father from red dead redemption 2. 🤔</td>\n",
       "      <td>joel last us actually arthur’s father 2  🤔</td>\n",
       "      <td>5</td>\n",
       "      <td>Joel from The Last of Us is actually Arthur’s father from    2. 🤔</td>\n",
       "      <td>0.0000</td>\n",
       "      <td>4.364187</td>\n",
       "      <td>0.252314</td>\n",
       "    </tr>\n",
       "  </tbody>\n",
       "</table>\n",
       "</div>"
      ],
      "text/plain": [
       "                        _id                      created_at  favorite_count  \\\n",
       "0  5be8c1412af8b82a53bb9ed3  Sun Nov 11 23:54:36 +0000 2018               0   \n",
       "1  5be8c1722af8b82a53bb9edb  Sun Nov 11 23:55:25 +0000 2018               0   \n",
       "2  5be8c17d2af8b82a53bb9edd  Sun Nov 11 23:55:36 +0000 2018               0   \n",
       "4  5be8c1bc2af8b82a53bb9ee4  Sun Nov 11 23:56:39 +0000 2018               0   \n",
       "5  5be8c1e02af8b82a53bb9eed  Sun Nov 11 23:57:14 +0000 2018               0   \n",
       "\n",
       "   retweet_count     screen_name  sentiment  subjectivity  \\\n",
       "0              0  Mxster_Shimxda       0.10      0.466667   \n",
       "1              0      josepire31      -0.10      0.200000   \n",
       "2              0     ditzidoggie      -0.10      0.200000   \n",
       "4              0   Samantha12Sue      -0.10      0.200000   \n",
       "5              0      BrettVilla      -0.05      0.141667   \n",
       "\n",
       "                                                                                            text  \\\n",
       "0                                               (Red Dead Redemption is just Grand Theft Yeehaw.   \n",
       "1                                                         Red dead redemption 2 para xbox one 👌🏼   \n",
       "2  I got the red dead redemption 2 guide so im gonna nerd out and check out these neat locations   \n",
       "4                                                    banana blunts &amp; Red Dead Redemption 2🍌🎮   \n",
       "5             Joel from The Last of Us is actually Arthur’s father from Red Dead Redemption 2. 🤔   \n",
       "\n",
       "                                                                                      text_clean  \\\n",
       "0                                               (red dead redemption is just grand theft yeehaw.   \n",
       "1                                                           red dead redemption 2 para xbox one    \n",
       "2  i got the red dead redemption 2 guide so im gonna nerd out and check out these neat locations   \n",
       "4                                                      banana blunts &amp; red dead redemption 2   \n",
       "5             joel from the last of us is actually arthur’s father from red dead redemption 2. 🤔   \n",
       "\n",
       "                                      text_no_stop  topic  \\\n",
       "0                              grand theft yeehaw       4   \n",
       "1                                 2 para xbox one       0   \n",
       "2   got 2 guide im gonna nerd check neat locations      7   \n",
       "4                            banana blunts  amp  2      7   \n",
       "5       joel last us actually arthur’s father 2  🤔      5   \n",
       "\n",
       "                                                                     text_vader  \\\n",
       "0                                               (   is just Grand Theft Yeehaw.   \n",
       "1                                                            2 para xbox one 👌🏼   \n",
       "2  I got the    2 guide so im gonna nerd out and check out these neat locations   \n",
       "4                                                    banana blunts &amp;    2🍌🎮   \n",
       "5             Joel from The Last of Us is actually Arthur’s father from    2. 🤔   \n",
       "\n",
       "   vader_sentiment  dist_from_centroid  cosine_dist  \n",
       "0           0.4588            6.000460     0.553692  \n",
       "1           0.7297            0.408095     1.000000  \n",
       "2           0.1372            1.825929     0.416513  \n",
       "4           0.0000            2.218814     0.538913  \n",
       "5           0.0000            4.364187     0.252314  "
      ]
     },
     "execution_count": 615,
     "metadata": {},
     "output_type": "execute_result"
    }
   ],
   "source": [
    "from numpy.linalg import norm\n",
    "from sklearn.metrics.pairwise import cosine_distances\n",
    "\n",
    "vectorized_tweets_cosdist = [cosine_distances(vectorized_tweets[i].reshape(1,-1),km.cluster_centers_[km.labels_[i]].reshape(1,-1))[0][0] for i in range(0,8208)]\n",
    "vectorized_tweets_dist = [norm(vectorized_tweets[i]-km.cluster_centers_[km.labels_[i]]) for i in range(0,8208)]\n",
    "# vectorized_tweets_dist = list(zip(vectorized_tweets, vectorized_tweets_dist))\n",
    "\n",
    "rdr2_tweets_w2v_df['dist_from_centroid'] = vectorized_tweets_dist\n",
    "rdr2_tweets_w2v_df['cosine_dist'] = vectorized_tweets_cosdist\n",
    "rdr2_tweets_w2v_df.head()"
   ]
  },
  {
   "cell_type": "code",
   "execution_count": null,
   "metadata": {
    "scrolled": false
   },
   "outputs": [],
   "source": [
    "rdr2_tweets_w2v_df.loc[rdr2_tweets_w2v_df.topic == 3].sort_values(by = 'cosine_dist', ascending = True).head()"
   ]
  },
  {
   "cell_type": "code",
   "execution_count": 625,
   "metadata": {},
   "outputs": [
    {
     "data": {
      "text/plain": [
       "[[\"I finish Red Dead Redemption, Detective Pikachu trailer, Stan Lee's death...lot of things going on today making me feel all kinds of ways\",\n",
       "  \"@thegameawards Both GOW and RDR2 need to get the award. fuck spiderman ps4, it was such a predictable piece of shit of a story. Can't say much for the other three because ACO is just another AC game in my eyes and MHW is just dark souls but goofy as hell and why is that other game on here? 🤔\",\n",
       "  'We really gonna pretend any of those other games have a chance against RDR2? How about we save everyone a bit of time and trouble and just mail the trophy to Rockstar and not do this song and dance until next year when someone else has an actual chance.',\n",
       "  '\"The game awards\" is a bigger joke than it was last year, which I thought was impossible but Geoff found a way. Apparently the only games that exist are God of Bore, Spider-Man, Red Dead 2, Detroit, Celeste and Assassin\\'s Creed Odyssey. They don\\'t even try to hide it.',\n",
       "  \"@CrazyNCRCourier @Haedox Rdr 2 is freaking amazing, highest graphical fidelity I've seen in my lifetime. Particularly on XboneX, imo it sets a bar even higher than Witcher 3 for open world games, ES6 has a lot to live up to. Also makes me yearn for a cowboy RPG lol, Im not good at playing a bad guy.\"],\n",
       " ['Red Dead Redemption 2 got my PS4 hollering lmaoooo I need a Pro so bad.',\n",
       "  'Hi someone buy me Red Dead Redemption 2 pls I am v broke and need it',\n",
       "  'If god of war don’t get this ima be tight',\n",
       "  '@ned_luke did we find you in RDR2',\n",
       "  'Wasn’t that “rare” to find in red dead redemption 2'],\n",
       " ['Loved God of War. But after having finished Red Dead Redemption 2, it has become one of my favourite games ever and definitely my GOTY 2018.',\n",
       "  'Red Dead will win but I think there are two more games that are more deserving. 🤔',\n",
       "  'I only played 2 of these games but I know #RDR2 winning this for sure.',\n",
       "  \"I knew all other games would be on the outside looking in. I'm excited to see how well #RDR2 does. #RedDeadRedemption2\",\n",
       "  'Red Dead Redemption 2 is truly amazing. definitely one of the best games i’ve ever played 10/10'],\n",
       " ['Tired of fuckin riding everywhere in Red Dead Redemption lmao',\n",
       "  'BRO MINE DIED AND I STARTED CRYING WTF 😭',\n",
       "  'Me and the bros gone be so deep on the red dead lol we used go crazy on GTA V online😂',\n",
       "  '@U7Super17 Lmao speaking of RDR 2 i’m playing it right now.',\n",
       "  'No lmao'],\n",
       " ['Mannnn red dead redemption is fuckin wild',\n",
       "  'Lmaoo nigha what',\n",
       "  'This nigga done took Red Dead too fucking far lmaooo',\n",
       "  'Gavin',\n",
       "  'finally found Gavin 😂😂'],\n",
       " ['damn man, i am so in love with red dead redemption 2. what a good game.',\n",
       "  'Man Red Dead Redemption 2 is beautiful',\n",
       "  \"Man I can't get off this red dead redemption 2 game\",\n",
       "  'Smart man',\n",
       "  'This man dumb af😂😂😂😂'],\n",
       " ['I think my main horse got jealous because I used another horse on Red Dead Redemption',\n",
       "  'RIP Clive... you were a good horse #RedDeadRedemption2 #RDR2 #horse',\n",
       "  'Was trying to pet a dog in Red Dead and I kicked it 😔',\n",
       "  'Just scolded a dog in Red Dead Redemption 2💔',\n",
       "  'I named the horse Donkey but they will always be Dinky Nuts to me.'],\n",
       " ['If he plays games, get him Red Dead Redemption 2',\n",
       "  'Multiplayer games are beta, get over it.',\n",
       "  'Iwasnt Playing No Games On Red Dead Redemption 2 😂😂😂.',\n",
       "  'Imma buy Red Dead Redemption 2, fuck it.',\n",
       "  'Only games I’ve been 100 percented are most of the assassin’s creed games and red dead 1'],\n",
       " ['God of war better fucking win',\n",
       "  '@NumbNexus RDR2 will most likely win',\n",
       "  'It should be God of War but I think Red Dead Redemption 2 will win',\n",
       "  'Between spider man and red dead. One of this will win guaranteed.',\n",
       "  '@shroff627 I feel like RDR2 will win /:'],\n",
       " ['MHW goty',\n",
       "  'God of War is my current GOTY pick but it is close with RDR2',\n",
       "  'I have yet to finish RDR2 so as of right now, God Of War GOTY',\n",
       "  \"I'm 87% sure that Red Dead Redemption 2 is getting GOTY\",\n",
       "  'Red Dead Redemption 2, for goty.']]"
      ]
     },
     "execution_count": 625,
     "metadata": {},
     "output_type": "execute_result"
    }
   ],
   "source": [
    "# Find prototypical tweet, most similar to centroid\n",
    "proto_tweets = []\n",
    "for i in range(0,10):\n",
    "    tweet = rdr2_tweets_w2v_df.loc[rdr2_tweets_w2v_df.topic == i].sort_values(by = 'cosine_dist', ascending = True).text.head(5).values\n",
    "    proto_tweets.append(list(tweet[0:5]))\n",
    "proto_tweets"
   ]
  },
  {
   "cell_type": "code",
   "execution_count": 673,
   "metadata": {},
   "outputs": [
    {
     "data": {
      "image/png": "[encoded data removed]",
      "text/plain": [
       "<Figure size 432x288 with 1 Axes>"
      ]
     },
     "metadata": {},
     "output_type": "display_data"
    }
   ],
   "source": [
    "# horse topic\n",
    "sns.distplot(rdr2_tweets_w2v_df.loc[rdr2_tweets_w2v_df.topic == 6].vader_sentiment,bins=20, kde = False, color = 'r');"
   ]
  },
  {
   "cell_type": "code",
   "execution_count": null,
   "metadata": {},
   "outputs": [],
   "source": []
  }
 ],
 "metadata": {
  "kernelspec": {
   "display_name": "Python 3",
   "language": "python",
   "name": "python3"
  },
  "language_info": {
   "codemirror_mode": {
    "name": "ipython",
    "version": 3
   },
   "file_extension": ".py",
   "mimetype": "text/x-python",
   "name": "python",
   "nbconvert_exporter": "python",
   "pygments_lexer": "ipython3",
   "version": "3.6.6"
  }
 },
 "nbformat": 4,
 "nbformat_minor": 2
}
